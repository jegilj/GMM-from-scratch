{
  "cells": [
    {
      "cell_type": "markdown",
      "metadata": {
        "id": "view-in-github",
        "colab_type": "text"
      },
      "source": [
        "<a href=\"https://colab.research.google.com/github/jegilj/GMM-from-scratch/blob/master/Ajuste_de_hiperpar%C3%A1metros.ipynb\" target=\"_parent\"><img src=\"https://colab.research.google.com/assets/colab-badge.svg\" alt=\"Open In Colab\"/></a>"
      ]
    },
    {
      "cell_type": "markdown",
      "metadata": {
        "id": "HxrpBVQ9falP"
      },
      "source": [
        "# **Ajuste de hiperparámetros**\n",
        "\n",
        "*Máster en Ciencia de Datos y Aprendizaje Automático - Universidad de La Rioja*\n",
        "\n",
        "En este notebook practicaremos los distintos métodos de búsqueda automática de los mejores hiperparámetros vistos en la sesión de teoría.\n",
        "\n"
      ]
    },
    {
      "cell_type": "markdown",
      "metadata": {
        "id": "vScVbzmJfalX"
      },
      "source": [
        "# Obtención de los datos"
      ]
    },
    {
      "cell_type": "markdown",
      "metadata": {
        "id": "HPMPVW4khiGm"
      },
      "source": [
        "Vamos a utilizar la base de datos Diabetes del repositorio StatLib. Es una base de datos habitual para hacer pruebas. El objetivo es construir un modelo que sea capaz de predecir la progresión de la diabetes a un año a partir de carácterísticas personales y datos de analíticas de sangre."
      ]
    },
    {
      "cell_type": "markdown",
      "metadata": {
        "id": "upEkrNoyd8xh"
      },
      "source": [
        "Cargamos directamente la BD desde los datasets de sklearn.\n",
        "La base de datos contiene información sobre 442 pacientes de 10 variables diferentes. Podemos encontrar más información sobre la base de datos en [[1]](https://www4.stat.ncsu.edu/~boos/var.select/diabetes.html) [[2]](https://web.stanford.edu/~hastie/Papers/LARS/LeastAngle_2002.pdf)."
      ]
    },
    {
      "cell_type": "code",
      "execution_count": 1,
      "metadata": {
        "id": "zgxapDV8jKJQ",
        "outputId": "0d24a58a-6278-4811-b8e1-46f907da8709",
        "colab": {
          "base_uri": "https://localhost:8080/"
        }
      },
      "outputs": [
        {
          "output_type": "stream",
          "name": "stdout",
          "text": [
            ".. _diabetes_dataset:\n",
            "\n",
            "Diabetes dataset\n",
            "----------------\n",
            "\n",
            "Ten baseline variables, age, sex, body mass index, average blood\n",
            "pressure, and six blood serum measurements were obtained for each of n =\n",
            "442 diabetes patients, as well as the response of interest, a\n",
            "quantitative measure of disease progression one year after baseline.\n",
            "\n",
            "**Data Set Characteristics:**\n",
            "\n",
            "  :Number of Instances: 442\n",
            "\n",
            "  :Number of Attributes: First 10 columns are numeric predictive values\n",
            "\n",
            "  :Target: Column 11 is a quantitative measure of disease progression one year after baseline\n",
            "\n",
            "  :Attribute Information:\n",
            "      - age     age in years\n",
            "      - sex\n",
            "      - bmi     body mass index\n",
            "      - bp      average blood pressure\n",
            "      - s1      tc, total serum cholesterol\n",
            "      - s2      ldl, low-density lipoproteins\n",
            "      - s3      hdl, high-density lipoproteins\n",
            "      - s4      tch, total cholesterol / HDL\n",
            "      - s5      ltg, possibly log of serum triglycerides level\n",
            "      - s6      glu, blood sugar level\n",
            "\n",
            "Note: Each of these 10 feature variables have been mean centered and scaled by the standard deviation times the square root of `n_samples` (i.e. the sum of squares of each column totals 1).\n",
            "\n",
            "Source URL:\n",
            "https://www4.stat.ncsu.edu/~boos/var.select/diabetes.html\n",
            "\n",
            "For more information see:\n",
            "Bradley Efron, Trevor Hastie, Iain Johnstone and Robert Tibshirani (2004) \"Least Angle Regression,\" Annals of Statistics (with discussion), 407-499.\n",
            "(https://web.stanford.edu/~hastie/Papers/LARS/LeastAngle_2002.pdf)\n",
            "\n"
          ]
        }
      ],
      "source": [
        "from sklearn import datasets\n",
        "\n",
        "diabetes_BD = datasets.load_diabetes()\n",
        "print(diabetes_BD.DESCR)\n"
      ]
    },
    {
      "cell_type": "markdown",
      "metadata": {
        "id": "_bOgiwqfqpY1"
      },
      "source": [
        "Esta base de datos tiene variables como la edad, el sexo, el índice de masa corporal, la presión arterial y otras derivadas de la analítica en sangre. Queremos inferir una variable cuantitativa que representa la progresión de la enfermedad a un año. Se trata por lo tanto de un problema de **regresión**."
      ]
    },
    {
      "cell_type": "markdown",
      "metadata": {
        "id": "LO0gP2v_IG5A"
      },
      "source": [
        "Miramos las primeras filas de la base de datos."
      ]
    },
    {
      "cell_type": "code",
      "execution_count": 2,
      "metadata": {
        "id": "ASCHdP6XmjLX",
        "outputId": "f1e3672b-c079-4300-894e-8a1da5841cfc",
        "colab": {
          "base_uri": "https://localhost:8080/",
          "height": 520
        }
      },
      "outputs": [
        {
          "output_type": "execute_result",
          "data": {
            "text/plain": [
              "         age       sex       bmi        bp        s1        s2        s3  \\\n",
              "0   0.038076  0.050680  0.061696  0.021872 -0.044223 -0.034821 -0.043401   \n",
              "1  -0.001882 -0.044642 -0.051474 -0.026328 -0.008449 -0.019163  0.074412   \n",
              "2   0.085299  0.050680  0.044451 -0.005670 -0.045599 -0.034194 -0.032356   \n",
              "3  -0.089063 -0.044642 -0.011595 -0.036656  0.012191  0.024991 -0.036038   \n",
              "4   0.005383 -0.044642 -0.036385  0.021872  0.003935  0.015596  0.008142   \n",
              "5  -0.092695 -0.044642 -0.040696 -0.019442 -0.068991 -0.079288  0.041277   \n",
              "6  -0.045472  0.050680 -0.047163 -0.015999 -0.040096 -0.024800  0.000779   \n",
              "7   0.063504  0.050680 -0.001895  0.066629  0.090620  0.108914  0.022869   \n",
              "8   0.041708  0.050680  0.061696 -0.040099 -0.013953  0.006202 -0.028674   \n",
              "9  -0.070900 -0.044642  0.039062 -0.033213 -0.012577 -0.034508 -0.024993   \n",
              "10 -0.096328 -0.044642 -0.083808  0.008101 -0.103389 -0.090561 -0.013948   \n",
              "11  0.027178  0.050680  0.017506 -0.033213 -0.007073  0.045972 -0.065491   \n",
              "12  0.016281 -0.044642 -0.028840 -0.009113 -0.004321 -0.009769  0.044958   \n",
              "13  0.005383  0.050680 -0.001895  0.008101 -0.004321 -0.015719 -0.002903   \n",
              "14  0.045341 -0.044642 -0.025607 -0.012556  0.017694 -0.000061  0.081775   \n",
              "\n",
              "          s4        s5        s6  target  \n",
              "0  -0.002592  0.019907 -0.017646   151.0  \n",
              "1  -0.039493 -0.068332 -0.092204    75.0  \n",
              "2  -0.002592  0.002861 -0.025930   141.0  \n",
              "3   0.034309  0.022688 -0.009362   206.0  \n",
              "4  -0.002592 -0.031988 -0.046641   135.0  \n",
              "5  -0.076395 -0.041176 -0.096346    97.0  \n",
              "6  -0.039493 -0.062917 -0.038357   138.0  \n",
              "7   0.017703 -0.035816  0.003064    63.0  \n",
              "8  -0.002592 -0.014960  0.011349   110.0  \n",
              "9  -0.002592  0.067737 -0.013504   310.0  \n",
              "10 -0.076395 -0.062917 -0.034215   101.0  \n",
              "11  0.071210 -0.096435 -0.059067    69.0  \n",
              "12 -0.039493 -0.030748 -0.042499   179.0  \n",
              "13 -0.002592  0.038394 -0.013504   185.0  \n",
              "14 -0.039493 -0.031988 -0.075636   118.0  "
            ],
            "text/html": [
              "\n",
              "  <div id=\"df-3581f804-68b6-43d5-9e8d-2c5787f93619\" class=\"colab-df-container\">\n",
              "    <div>\n",
              "<style scoped>\n",
              "    .dataframe tbody tr th:only-of-type {\n",
              "        vertical-align: middle;\n",
              "    }\n",
              "\n",
              "    .dataframe tbody tr th {\n",
              "        vertical-align: top;\n",
              "    }\n",
              "\n",
              "    .dataframe thead th {\n",
              "        text-align: right;\n",
              "    }\n",
              "</style>\n",
              "<table border=\"1\" class=\"dataframe\">\n",
              "  <thead>\n",
              "    <tr style=\"text-align: right;\">\n",
              "      <th></th>\n",
              "      <th>age</th>\n",
              "      <th>sex</th>\n",
              "      <th>bmi</th>\n",
              "      <th>bp</th>\n",
              "      <th>s1</th>\n",
              "      <th>s2</th>\n",
              "      <th>s3</th>\n",
              "      <th>s4</th>\n",
              "      <th>s5</th>\n",
              "      <th>s6</th>\n",
              "      <th>target</th>\n",
              "    </tr>\n",
              "  </thead>\n",
              "  <tbody>\n",
              "    <tr>\n",
              "      <th>0</th>\n",
              "      <td>0.038076</td>\n",
              "      <td>0.050680</td>\n",
              "      <td>0.061696</td>\n",
              "      <td>0.021872</td>\n",
              "      <td>-0.044223</td>\n",
              "      <td>-0.034821</td>\n",
              "      <td>-0.043401</td>\n",
              "      <td>-0.002592</td>\n",
              "      <td>0.019907</td>\n",
              "      <td>-0.017646</td>\n",
              "      <td>151.0</td>\n",
              "    </tr>\n",
              "    <tr>\n",
              "      <th>1</th>\n",
              "      <td>-0.001882</td>\n",
              "      <td>-0.044642</td>\n",
              "      <td>-0.051474</td>\n",
              "      <td>-0.026328</td>\n",
              "      <td>-0.008449</td>\n",
              "      <td>-0.019163</td>\n",
              "      <td>0.074412</td>\n",
              "      <td>-0.039493</td>\n",
              "      <td>-0.068332</td>\n",
              "      <td>-0.092204</td>\n",
              "      <td>75.0</td>\n",
              "    </tr>\n",
              "    <tr>\n",
              "      <th>2</th>\n",
              "      <td>0.085299</td>\n",
              "      <td>0.050680</td>\n",
              "      <td>0.044451</td>\n",
              "      <td>-0.005670</td>\n",
              "      <td>-0.045599</td>\n",
              "      <td>-0.034194</td>\n",
              "      <td>-0.032356</td>\n",
              "      <td>-0.002592</td>\n",
              "      <td>0.002861</td>\n",
              "      <td>-0.025930</td>\n",
              "      <td>141.0</td>\n",
              "    </tr>\n",
              "    <tr>\n",
              "      <th>3</th>\n",
              "      <td>-0.089063</td>\n",
              "      <td>-0.044642</td>\n",
              "      <td>-0.011595</td>\n",
              "      <td>-0.036656</td>\n",
              "      <td>0.012191</td>\n",
              "      <td>0.024991</td>\n",
              "      <td>-0.036038</td>\n",
              "      <td>0.034309</td>\n",
              "      <td>0.022688</td>\n",
              "      <td>-0.009362</td>\n",
              "      <td>206.0</td>\n",
              "    </tr>\n",
              "    <tr>\n",
              "      <th>4</th>\n",
              "      <td>0.005383</td>\n",
              "      <td>-0.044642</td>\n",
              "      <td>-0.036385</td>\n",
              "      <td>0.021872</td>\n",
              "      <td>0.003935</td>\n",
              "      <td>0.015596</td>\n",
              "      <td>0.008142</td>\n",
              "      <td>-0.002592</td>\n",
              "      <td>-0.031988</td>\n",
              "      <td>-0.046641</td>\n",
              "      <td>135.0</td>\n",
              "    </tr>\n",
              "    <tr>\n",
              "      <th>5</th>\n",
              "      <td>-0.092695</td>\n",
              "      <td>-0.044642</td>\n",
              "      <td>-0.040696</td>\n",
              "      <td>-0.019442</td>\n",
              "      <td>-0.068991</td>\n",
              "      <td>-0.079288</td>\n",
              "      <td>0.041277</td>\n",
              "      <td>-0.076395</td>\n",
              "      <td>-0.041176</td>\n",
              "      <td>-0.096346</td>\n",
              "      <td>97.0</td>\n",
              "    </tr>\n",
              "    <tr>\n",
              "      <th>6</th>\n",
              "      <td>-0.045472</td>\n",
              "      <td>0.050680</td>\n",
              "      <td>-0.047163</td>\n",
              "      <td>-0.015999</td>\n",
              "      <td>-0.040096</td>\n",
              "      <td>-0.024800</td>\n",
              "      <td>0.000779</td>\n",
              "      <td>-0.039493</td>\n",
              "      <td>-0.062917</td>\n",
              "      <td>-0.038357</td>\n",
              "      <td>138.0</td>\n",
              "    </tr>\n",
              "    <tr>\n",
              "      <th>7</th>\n",
              "      <td>0.063504</td>\n",
              "      <td>0.050680</td>\n",
              "      <td>-0.001895</td>\n",
              "      <td>0.066629</td>\n",
              "      <td>0.090620</td>\n",
              "      <td>0.108914</td>\n",
              "      <td>0.022869</td>\n",
              "      <td>0.017703</td>\n",
              "      <td>-0.035816</td>\n",
              "      <td>0.003064</td>\n",
              "      <td>63.0</td>\n",
              "    </tr>\n",
              "    <tr>\n",
              "      <th>8</th>\n",
              "      <td>0.041708</td>\n",
              "      <td>0.050680</td>\n",
              "      <td>0.061696</td>\n",
              "      <td>-0.040099</td>\n",
              "      <td>-0.013953</td>\n",
              "      <td>0.006202</td>\n",
              "      <td>-0.028674</td>\n",
              "      <td>-0.002592</td>\n",
              "      <td>-0.014960</td>\n",
              "      <td>0.011349</td>\n",
              "      <td>110.0</td>\n",
              "    </tr>\n",
              "    <tr>\n",
              "      <th>9</th>\n",
              "      <td>-0.070900</td>\n",
              "      <td>-0.044642</td>\n",
              "      <td>0.039062</td>\n",
              "      <td>-0.033213</td>\n",
              "      <td>-0.012577</td>\n",
              "      <td>-0.034508</td>\n",
              "      <td>-0.024993</td>\n",
              "      <td>-0.002592</td>\n",
              "      <td>0.067737</td>\n",
              "      <td>-0.013504</td>\n",
              "      <td>310.0</td>\n",
              "    </tr>\n",
              "    <tr>\n",
              "      <th>10</th>\n",
              "      <td>-0.096328</td>\n",
              "      <td>-0.044642</td>\n",
              "      <td>-0.083808</td>\n",
              "      <td>0.008101</td>\n",
              "      <td>-0.103389</td>\n",
              "      <td>-0.090561</td>\n",
              "      <td>-0.013948</td>\n",
              "      <td>-0.076395</td>\n",
              "      <td>-0.062917</td>\n",
              "      <td>-0.034215</td>\n",
              "      <td>101.0</td>\n",
              "    </tr>\n",
              "    <tr>\n",
              "      <th>11</th>\n",
              "      <td>0.027178</td>\n",
              "      <td>0.050680</td>\n",
              "      <td>0.017506</td>\n",
              "      <td>-0.033213</td>\n",
              "      <td>-0.007073</td>\n",
              "      <td>0.045972</td>\n",
              "      <td>-0.065491</td>\n",
              "      <td>0.071210</td>\n",
              "      <td>-0.096435</td>\n",
              "      <td>-0.059067</td>\n",
              "      <td>69.0</td>\n",
              "    </tr>\n",
              "    <tr>\n",
              "      <th>12</th>\n",
              "      <td>0.016281</td>\n",
              "      <td>-0.044642</td>\n",
              "      <td>-0.028840</td>\n",
              "      <td>-0.009113</td>\n",
              "      <td>-0.004321</td>\n",
              "      <td>-0.009769</td>\n",
              "      <td>0.044958</td>\n",
              "      <td>-0.039493</td>\n",
              "      <td>-0.030748</td>\n",
              "      <td>-0.042499</td>\n",
              "      <td>179.0</td>\n",
              "    </tr>\n",
              "    <tr>\n",
              "      <th>13</th>\n",
              "      <td>0.005383</td>\n",
              "      <td>0.050680</td>\n",
              "      <td>-0.001895</td>\n",
              "      <td>0.008101</td>\n",
              "      <td>-0.004321</td>\n",
              "      <td>-0.015719</td>\n",
              "      <td>-0.002903</td>\n",
              "      <td>-0.002592</td>\n",
              "      <td>0.038394</td>\n",
              "      <td>-0.013504</td>\n",
              "      <td>185.0</td>\n",
              "    </tr>\n",
              "    <tr>\n",
              "      <th>14</th>\n",
              "      <td>0.045341</td>\n",
              "      <td>-0.044642</td>\n",
              "      <td>-0.025607</td>\n",
              "      <td>-0.012556</td>\n",
              "      <td>0.017694</td>\n",
              "      <td>-0.000061</td>\n",
              "      <td>0.081775</td>\n",
              "      <td>-0.039493</td>\n",
              "      <td>-0.031988</td>\n",
              "      <td>-0.075636</td>\n",
              "      <td>118.0</td>\n",
              "    </tr>\n",
              "  </tbody>\n",
              "</table>\n",
              "</div>\n",
              "    <div class=\"colab-df-buttons\">\n",
              "\n",
              "  <div class=\"colab-df-container\">\n",
              "    <button class=\"colab-df-convert\" onclick=\"convertToInteractive('df-3581f804-68b6-43d5-9e8d-2c5787f93619')\"\n",
              "            title=\"Convert this dataframe to an interactive table.\"\n",
              "            style=\"display:none;\">\n",
              "\n",
              "  <svg xmlns=\"http://www.w3.org/2000/svg\" height=\"24px\" viewBox=\"0 -960 960 960\">\n",
              "    <path d=\"M120-120v-720h720v720H120Zm60-500h600v-160H180v160Zm220 220h160v-160H400v160Zm0 220h160v-160H400v160ZM180-400h160v-160H180v160Zm440 0h160v-160H620v160ZM180-180h160v-160H180v160Zm440 0h160v-160H620v160Z\"/>\n",
              "  </svg>\n",
              "    </button>\n",
              "\n",
              "  <style>\n",
              "    .colab-df-container {\n",
              "      display:flex;\n",
              "      gap: 12px;\n",
              "    }\n",
              "\n",
              "    .colab-df-convert {\n",
              "      background-color: #E8F0FE;\n",
              "      border: none;\n",
              "      border-radius: 50%;\n",
              "      cursor: pointer;\n",
              "      display: none;\n",
              "      fill: #1967D2;\n",
              "      height: 32px;\n",
              "      padding: 0 0 0 0;\n",
              "      width: 32px;\n",
              "    }\n",
              "\n",
              "    .colab-df-convert:hover {\n",
              "      background-color: #E2EBFA;\n",
              "      box-shadow: 0px 1px 2px rgba(60, 64, 67, 0.3), 0px 1px 3px 1px rgba(60, 64, 67, 0.15);\n",
              "      fill: #174EA6;\n",
              "    }\n",
              "\n",
              "    .colab-df-buttons div {\n",
              "      margin-bottom: 4px;\n",
              "    }\n",
              "\n",
              "    [theme=dark] .colab-df-convert {\n",
              "      background-color: #3B4455;\n",
              "      fill: #D2E3FC;\n",
              "    }\n",
              "\n",
              "    [theme=dark] .colab-df-convert:hover {\n",
              "      background-color: #434B5C;\n",
              "      box-shadow: 0px 1px 3px 1px rgba(0, 0, 0, 0.15);\n",
              "      filter: drop-shadow(0px 1px 2px rgba(0, 0, 0, 0.3));\n",
              "      fill: #FFFFFF;\n",
              "    }\n",
              "  </style>\n",
              "\n",
              "    <script>\n",
              "      const buttonEl =\n",
              "        document.querySelector('#df-3581f804-68b6-43d5-9e8d-2c5787f93619 button.colab-df-convert');\n",
              "      buttonEl.style.display =\n",
              "        google.colab.kernel.accessAllowed ? 'block' : 'none';\n",
              "\n",
              "      async function convertToInteractive(key) {\n",
              "        const element = document.querySelector('#df-3581f804-68b6-43d5-9e8d-2c5787f93619');\n",
              "        const dataTable =\n",
              "          await google.colab.kernel.invokeFunction('convertToInteractive',\n",
              "                                                    [key], {});\n",
              "        if (!dataTable) return;\n",
              "\n",
              "        const docLinkHtml = 'Like what you see? Visit the ' +\n",
              "          '<a target=\"_blank\" href=https://colab.research.google.com/notebooks/data_table.ipynb>data table notebook</a>'\n",
              "          + ' to learn more about interactive tables.';\n",
              "        element.innerHTML = '';\n",
              "        dataTable['output_type'] = 'display_data';\n",
              "        await google.colab.output.renderOutput(dataTable, element);\n",
              "        const docLink = document.createElement('div');\n",
              "        docLink.innerHTML = docLinkHtml;\n",
              "        element.appendChild(docLink);\n",
              "      }\n",
              "    </script>\n",
              "  </div>\n",
              "\n",
              "\n",
              "<div id=\"df-89d27dc5-342f-4ec1-b271-55a1def43bd0\">\n",
              "  <button class=\"colab-df-quickchart\" onclick=\"quickchart('df-89d27dc5-342f-4ec1-b271-55a1def43bd0')\"\n",
              "            title=\"Suggest charts\"\n",
              "            style=\"display:none;\">\n",
              "\n",
              "<svg xmlns=\"http://www.w3.org/2000/svg\" height=\"24px\"viewBox=\"0 0 24 24\"\n",
              "     width=\"24px\">\n",
              "    <g>\n",
              "        <path d=\"M19 3H5c-1.1 0-2 .9-2 2v14c0 1.1.9 2 2 2h14c1.1 0 2-.9 2-2V5c0-1.1-.9-2-2-2zM9 17H7v-7h2v7zm4 0h-2V7h2v10zm4 0h-2v-4h2v4z\"/>\n",
              "    </g>\n",
              "</svg>\n",
              "  </button>\n",
              "\n",
              "<style>\n",
              "  .colab-df-quickchart {\n",
              "      --bg-color: #E8F0FE;\n",
              "      --fill-color: #1967D2;\n",
              "      --hover-bg-color: #E2EBFA;\n",
              "      --hover-fill-color: #174EA6;\n",
              "      --disabled-fill-color: #AAA;\n",
              "      --disabled-bg-color: #DDD;\n",
              "  }\n",
              "\n",
              "  [theme=dark] .colab-df-quickchart {\n",
              "      --bg-color: #3B4455;\n",
              "      --fill-color: #D2E3FC;\n",
              "      --hover-bg-color: #434B5C;\n",
              "      --hover-fill-color: #FFFFFF;\n",
              "      --disabled-bg-color: #3B4455;\n",
              "      --disabled-fill-color: #666;\n",
              "  }\n",
              "\n",
              "  .colab-df-quickchart {\n",
              "    background-color: var(--bg-color);\n",
              "    border: none;\n",
              "    border-radius: 50%;\n",
              "    cursor: pointer;\n",
              "    display: none;\n",
              "    fill: var(--fill-color);\n",
              "    height: 32px;\n",
              "    padding: 0;\n",
              "    width: 32px;\n",
              "  }\n",
              "\n",
              "  .colab-df-quickchart:hover {\n",
              "    background-color: var(--hover-bg-color);\n",
              "    box-shadow: 0 1px 2px rgba(60, 64, 67, 0.3), 0 1px 3px 1px rgba(60, 64, 67, 0.15);\n",
              "    fill: var(--button-hover-fill-color);\n",
              "  }\n",
              "\n",
              "  .colab-df-quickchart-complete:disabled,\n",
              "  .colab-df-quickchart-complete:disabled:hover {\n",
              "    background-color: var(--disabled-bg-color);\n",
              "    fill: var(--disabled-fill-color);\n",
              "    box-shadow: none;\n",
              "  }\n",
              "\n",
              "  .colab-df-spinner {\n",
              "    border: 2px solid var(--fill-color);\n",
              "    border-color: transparent;\n",
              "    border-bottom-color: var(--fill-color);\n",
              "    animation:\n",
              "      spin 1s steps(1) infinite;\n",
              "  }\n",
              "\n",
              "  @keyframes spin {\n",
              "    0% {\n",
              "      border-color: transparent;\n",
              "      border-bottom-color: var(--fill-color);\n",
              "      border-left-color: var(--fill-color);\n",
              "    }\n",
              "    20% {\n",
              "      border-color: transparent;\n",
              "      border-left-color: var(--fill-color);\n",
              "      border-top-color: var(--fill-color);\n",
              "    }\n",
              "    30% {\n",
              "      border-color: transparent;\n",
              "      border-left-color: var(--fill-color);\n",
              "      border-top-color: var(--fill-color);\n",
              "      border-right-color: var(--fill-color);\n",
              "    }\n",
              "    40% {\n",
              "      border-color: transparent;\n",
              "      border-right-color: var(--fill-color);\n",
              "      border-top-color: var(--fill-color);\n",
              "    }\n",
              "    60% {\n",
              "      border-color: transparent;\n",
              "      border-right-color: var(--fill-color);\n",
              "    }\n",
              "    80% {\n",
              "      border-color: transparent;\n",
              "      border-right-color: var(--fill-color);\n",
              "      border-bottom-color: var(--fill-color);\n",
              "    }\n",
              "    90% {\n",
              "      border-color: transparent;\n",
              "      border-bottom-color: var(--fill-color);\n",
              "    }\n",
              "  }\n",
              "</style>\n",
              "\n",
              "  <script>\n",
              "    async function quickchart(key) {\n",
              "      const quickchartButtonEl =\n",
              "        document.querySelector('#' + key + ' button');\n",
              "      quickchartButtonEl.disabled = true;  // To prevent multiple clicks.\n",
              "      quickchartButtonEl.classList.add('colab-df-spinner');\n",
              "      try {\n",
              "        const charts = await google.colab.kernel.invokeFunction(\n",
              "            'suggestCharts', [key], {});\n",
              "      } catch (error) {\n",
              "        console.error('Error during call to suggestCharts:', error);\n",
              "      }\n",
              "      quickchartButtonEl.classList.remove('colab-df-spinner');\n",
              "      quickchartButtonEl.classList.add('colab-df-quickchart-complete');\n",
              "    }\n",
              "    (() => {\n",
              "      let quickchartButtonEl =\n",
              "        document.querySelector('#df-89d27dc5-342f-4ec1-b271-55a1def43bd0 button');\n",
              "      quickchartButtonEl.style.display =\n",
              "        google.colab.kernel.accessAllowed ? 'block' : 'none';\n",
              "    })();\n",
              "  </script>\n",
              "</div>\n",
              "    </div>\n",
              "  </div>\n"
            ]
          },
          "metadata": {},
          "execution_count": 2
        }
      ],
      "source": [
        "import pandas as pd\n",
        "df=pd.DataFrame(data=diabetes_BD.data,columns=diabetes_BD.feature_names)\n",
        "target=pd.DataFrame(data=diabetes_BD.target,columns=['target'])\n",
        "df=pd.concat([df,target],sort=True,axis=1)\n",
        "df.head(15)"
      ]
    },
    {
      "cell_type": "markdown",
      "metadata": {
        "id": "3C7py7YvIfix"
      },
      "source": [
        "Las columnas son numéricas y no contienen valores nulos. Además, como indican en la información de la BD, las variables están estandarizadas (media 0 y varianza 1)."
      ]
    },
    {
      "cell_type": "code",
      "execution_count": 3,
      "metadata": {
        "id": "iDcn3kjoqTdL",
        "outputId": "fa8dfc4f-1c65-4a43-941e-08dc6a490271",
        "colab": {
          "base_uri": "https://localhost:8080/"
        }
      },
      "outputs": [
        {
          "output_type": "stream",
          "name": "stdout",
          "text": [
            "<class 'pandas.core.frame.DataFrame'>\n",
            "RangeIndex: 442 entries, 0 to 441\n",
            "Data columns (total 11 columns):\n",
            " #   Column  Non-Null Count  Dtype  \n",
            "---  ------  --------------  -----  \n",
            " 0   age     442 non-null    float64\n",
            " 1   sex     442 non-null    float64\n",
            " 2   bmi     442 non-null    float64\n",
            " 3   bp      442 non-null    float64\n",
            " 4   s1      442 non-null    float64\n",
            " 5   s2      442 non-null    float64\n",
            " 6   s3      442 non-null    float64\n",
            " 7   s4      442 non-null    float64\n",
            " 8   s5      442 non-null    float64\n",
            " 9   s6      442 non-null    float64\n",
            " 10  target  442 non-null    float64\n",
            "dtypes: float64(11)\n",
            "memory usage: 38.1 KB\n"
          ]
        }
      ],
      "source": [
        "df.info()"
      ]
    },
    {
      "cell_type": "markdown",
      "metadata": {
        "id": "GXg1Pdu_tnxq"
      },
      "source": [
        "Separamos las variables que usaremos para inferir de la variable objetivo."
      ]
    },
    {
      "cell_type": "code",
      "execution_count": 4,
      "metadata": {
        "id": "06ZzgcAtlHHN"
      },
      "outputs": [],
      "source": [
        "diabetes=diabetes_BD[\"data\"] # Datos de a usar\n",
        "feature_names=diabetes_BD[\"feature_names\"] # Nombre de las variables\n",
        "diabetes_target=diabetes_BD[\"target\"] # Dato a inferir."
      ]
    },
    {
      "cell_type": "code",
      "execution_count": 5,
      "metadata": {
        "id": "izNPpdznfalm",
        "outputId": "c571a660-bfa5-4127-c192-b890bf0d0bb8",
        "colab": {
          "base_uri": "https://localhost:8080/"
        }
      },
      "outputs": [
        {
          "output_type": "execute_result",
          "data": {
            "text/plain": [
              "(442, 10)"
            ]
          },
          "metadata": {},
          "execution_count": 5
        }
      ],
      "source": [
        "diabetes.shape"
      ]
    },
    {
      "cell_type": "code",
      "execution_count": 6,
      "metadata": {
        "id": "RWl1ZPdKnL14",
        "outputId": "d6d75fef-6a4a-4f08-ffe4-459fa76c690c",
        "colab": {
          "base_uri": "https://localhost:8080/"
        }
      },
      "outputs": [
        {
          "output_type": "execute_result",
          "data": {
            "text/plain": [
              "DescribeResult(nobs=442, minmax=(25.0, 346.0), mean=152.13348416289594, variance=5943.331347923785, skewness=0.43906639932477265, kurtosis=-0.8866436055681386)"
            ]
          },
          "metadata": {},
          "execution_count": 6
        }
      ],
      "source": [
        "from scipy import stats\n",
        "stats.describe(diabetes_target)"
      ]
    },
    {
      "cell_type": "markdown",
      "metadata": {
        "id": "sXK0niYJUQkG"
      },
      "source": [
        "Fijarse que la progresión media de la enfermedad es de unos 152 puntos con un mínimo de unos 25 y un máximo de 346."
      ]
    },
    {
      "cell_type": "markdown",
      "metadata": {
        "id": "HFDCJT6Bfane"
      },
      "source": [
        "# División en conjunto de entrenamiento y conjunto de test"
      ]
    },
    {
      "cell_type": "markdown",
      "metadata": {
        "id": "5AfTSaq8S5GA"
      },
      "source": [
        "Como se ha comentado en otras sesiones, el preprocesamiento puede tener un efecto muy grande en el rendimiento del modelo. Esta base de datos ya está preprocesada (variables estandarizadas, sin nulos...)."
      ]
    },
    {
      "cell_type": "markdown",
      "metadata": {
        "id": "CdcOzCOonYVN"
      },
      "source": [
        "Dividimos el conjunto entrenamiento y test (20%)"
      ]
    },
    {
      "cell_type": "code",
      "execution_count": 7,
      "metadata": {
        "id": "v336HopenWq5"
      },
      "outputs": [],
      "source": [
        "from sklearn.model_selection import train_test_split\n",
        "X_train,  X_test, y_train, y_test = train_test_split(diabetes, diabetes_target, test_size=0.2, random_state=42)"
      ]
    },
    {
      "cell_type": "code",
      "execution_count": 8,
      "metadata": {
        "id": "i2-gVYrATLOr",
        "outputId": "a73f3025-6735-43e3-9321-000a564684c9",
        "colab": {
          "base_uri": "https://localhost:8080/"
        }
      },
      "outputs": [
        {
          "output_type": "execute_result",
          "data": {
            "text/plain": [
              "(89, 10)"
            ]
          },
          "metadata": {},
          "execution_count": 8
        }
      ],
      "source": [
        "X_test.shape"
      ]
    },
    {
      "cell_type": "code",
      "execution_count": 9,
      "metadata": {
        "id": "YnugnNLlTRm_",
        "outputId": "5b6870dd-c978-42e6-96d0-053b7f52b04b",
        "colab": {
          "base_uri": "https://localhost:8080/"
        }
      },
      "outputs": [
        {
          "output_type": "execute_result",
          "data": {
            "text/plain": [
              "(353, 10)"
            ]
          },
          "metadata": {},
          "execution_count": 9
        }
      ],
      "source": [
        "X_train.shape"
      ]
    },
    {
      "cell_type": "markdown",
      "metadata": {
        "id": "NlIzk9uzfao3"
      },
      "source": [
        "# Definición y entrenamiento de un modelo con los hiperparámetros por defecto"
      ]
    },
    {
      "cell_type": "markdown",
      "metadata": {
        "id": "niwmILvMwH7u"
      },
      "source": [
        "Elelgimos tres modelos: SVM, árbol de decisión y un random forest.\n",
        "\n",
        "Definimos primero los modelos de SVM para regresión ([SVR](https://towardsdatascience.com/an-introduction-to-support-vector-regression-svr-a3ebc1672c2)) y árbol de decisión para regresión ([decision tree regressor](https://dev.to/nexttech/classification-and-regression-analysis-with-decision-trees-jgp))."
      ]
    },
    {
      "cell_type": "code",
      "execution_count": 10,
      "metadata": {
        "id": "Wmj4xTgaoELe",
        "outputId": "44867544-8bf1-40b3-c00e-e2e3f0c296d0",
        "colab": {
          "base_uri": "https://localhost:8080/"
        }
      },
      "outputs": [
        {
          "output_type": "execute_result",
          "data": {
            "text/plain": [
              "{'C': 1.0,\n",
              " 'cache_size': 200,\n",
              " 'coef0': 0.0,\n",
              " 'degree': 3,\n",
              " 'epsilon': 0.1,\n",
              " 'gamma': 'scale',\n",
              " 'kernel': 'rbf',\n",
              " 'max_iter': -1,\n",
              " 'shrinking': True,\n",
              " 'tol': 0.001,\n",
              " 'verbose': False}"
            ]
          },
          "metadata": {},
          "execution_count": 10
        }
      ],
      "source": [
        "from sklearn.svm import SVR\n",
        "svm_reg = SVR()\n",
        "svm_reg.get_params() #Obtiene los valores de los hiperparámetros que se han usado al definir el modelo"
      ]
    },
    {
      "cell_type": "code",
      "execution_count": 11,
      "metadata": {
        "id": "EhujAdvxfapC",
        "outputId": "db0b94be-cd8e-4e51-d6f5-cb906296ec4c",
        "colab": {
          "base_uri": "https://localhost:8080/"
        }
      },
      "outputs": [
        {
          "output_type": "execute_result",
          "data": {
            "text/plain": [
              "{'ccp_alpha': 0.0,\n",
              " 'criterion': 'squared_error',\n",
              " 'max_depth': None,\n",
              " 'max_features': None,\n",
              " 'max_leaf_nodes': None,\n",
              " 'min_impurity_decrease': 0.0,\n",
              " 'min_samples_leaf': 1,\n",
              " 'min_samples_split': 2,\n",
              " 'min_weight_fraction_leaf': 0.0,\n",
              " 'random_state': 42,\n",
              " 'splitter': 'best'}"
            ]
          },
          "metadata": {},
          "execution_count": 11
        }
      ],
      "source": [
        "from sklearn.tree import DecisionTreeRegressor\n",
        "tree_reg = DecisionTreeRegressor(random_state=42)\n",
        "tree_reg.get_params() #Obtiene los valores de los hiperparámetros que se han usado al definir el modelo"
      ]
    },
    {
      "cell_type": "markdown",
      "metadata": {
        "id": "WuGhK45NYA-E"
      },
      "source": [
        "## Validación cruzada de los modelos"
      ]
    },
    {
      "cell_type": "markdown",
      "metadata": {
        "id": "rgizO091YOQH"
      },
      "source": [
        "Primero el SVM.\n",
        "\n",
        "Usamos validación cruzada con k=3. (Nota: Habitualmente se usa una k=10. Usamos k=3 por motivo de que los modelos se entrenen más rápido en el laboratorio).\n",
        "\n",
        "El conjunto de entrenamiento se divide en 3 partes de forma aleatoria, se entrena con 2 de ellas y se hace test con la tercera. El resultado es un array con 3 resultados."
      ]
    },
    {
      "cell_type": "code",
      "execution_count": 12,
      "metadata": {
        "id": "lxQ8adcToSYw"
      },
      "outputs": [],
      "source": [
        "import numpy as np\n",
        "\n",
        "from sklearn.model_selection import cross_val_score\n",
        "\n",
        "svm_scores = cross_val_score(svm_reg, X_train, y_train,\n",
        "                             scoring=\"neg_mean_squared_error\", cv=3)\n",
        "svm_rmse_scores = np.sqrt(-svm_scores)"
      ]
    },
    {
      "cell_type": "markdown",
      "metadata": {
        "id": "zDFkdMhqmTJY"
      },
      "source": [
        "La función de cross-validation de Scikit-Learn espera una función que marque que mayor es mejor en lugar de una funión de coste (menor es mejor), por ello la función score es el opuesto de del Error Cuadrático Medio (MSE). Así, el código anterior calcula -scores antes de hacer la raíz cuadrada del error cuadrático medio. Recordar que el RMSE nos permite interpretar el error cometido en las mismas unidades de la variable objetivo."
      ]
    },
    {
      "cell_type": "markdown",
      "metadata": {
        "id": "Km9OMLytaZfe"
      },
      "source": [
        "Como tenemos 3 folds podemos hacer la media y calcular la desviación típica de los resultados."
      ]
    },
    {
      "cell_type": "code",
      "execution_count": 13,
      "metadata": {
        "id": "0GbjU5wqfapH",
        "outputId": "cfaf9813-a9ac-4623-92ad-181c9e417729",
        "colab": {
          "base_uri": "https://localhost:8080/"
        }
      },
      "outputs": [
        {
          "output_type": "stream",
          "name": "stdout",
          "text": [
            "Scores: [75.44007052 74.32643734 71.84312515]\n",
            "Mean: 73.86987766878676\n",
            "Standard deviation: 1.5035156690198692\n"
          ]
        }
      ],
      "source": [
        "def display_scores(scores):\n",
        "    print(\"Scores:\", scores)\n",
        "    print(\"Mean:\", scores.mean())\n",
        "    print(\"Standard deviation:\", scores.std())\n",
        "display_scores(svm_rmse_scores)"
      ]
    },
    {
      "cell_type": "markdown",
      "metadata": {
        "id": "cUbLFW9Kcu-o"
      },
      "source": [
        "Obtenermos un error medio cercano a 74 puntos.\n",
        "\n",
        "Ahora, del árbol de decisión"
      ]
    },
    {
      "cell_type": "code",
      "execution_count": 14,
      "metadata": {
        "id": "JTCzBEEFfapF",
        "outputId": "8fa843e4-d640-4a1b-8a25-531bdf9ce56d",
        "colab": {
          "base_uri": "https://localhost:8080/"
        }
      },
      "outputs": [
        {
          "output_type": "stream",
          "name": "stdout",
          "text": [
            "Scores: [76.29903258 82.94489696 82.48973   ]\n",
            "Mean: 80.57788651502045\n",
            "Standard deviation: 3.031307471359646\n"
          ]
        }
      ],
      "source": [
        "scores = cross_val_score(tree_reg, X_train, y_train,\n",
        "                         scoring=\"neg_mean_squared_error\", cv=3)\n",
        "tree_rmse_scores = np.sqrt(-scores)\n",
        "display_scores(tree_rmse_scores)"
      ]
    },
    {
      "cell_type": "markdown",
      "metadata": {
        "id": "iNY82M29dC8A"
      },
      "source": [
        "Obtenemos un resultado algo peor."
      ]
    },
    {
      "cell_type": "markdown",
      "metadata": {
        "id": "E0EWJMJUZOto"
      },
      "source": [
        "Tratamos de crear un Random Forest. Los fundamentos los explicaremos en el tema siguiente. Por ahora, saber simplemente que es un conjunto de árboles de decisión.\n",
        "\n"
      ]
    },
    {
      "cell_type": "code",
      "execution_count": 15,
      "metadata": {
        "id": "xYZUq30SfapJ",
        "outputId": "6a3dc86d-15da-4ab7-bf45-61a4b6355ecc",
        "colab": {
          "base_uri": "https://localhost:8080/"
        }
      },
      "outputs": [
        {
          "output_type": "execute_result",
          "data": {
            "text/plain": [
              "{'bootstrap': True,\n",
              " 'ccp_alpha': 0.0,\n",
              " 'criterion': 'squared_error',\n",
              " 'max_depth': None,\n",
              " 'max_features': 1.0,\n",
              " 'max_leaf_nodes': None,\n",
              " 'max_samples': None,\n",
              " 'min_impurity_decrease': 0.0,\n",
              " 'min_samples_leaf': 1,\n",
              " 'min_samples_split': 2,\n",
              " 'min_weight_fraction_leaf': 0.0,\n",
              " 'n_estimators': 100,\n",
              " 'n_jobs': None,\n",
              " 'oob_score': False,\n",
              " 'random_state': 42,\n",
              " 'verbose': 0,\n",
              " 'warm_start': False}"
            ]
          },
          "metadata": {},
          "execution_count": 15
        }
      ],
      "source": [
        "from sklearn.ensemble import RandomForestRegressor\n",
        "forest_reg = RandomForestRegressor(random_state=42)\n",
        "forest_reg.get_params() #Obtiene los valores de los hiperparámetros que se han usado al definir el modelo"
      ]
    },
    {
      "cell_type": "code",
      "execution_count": 16,
      "metadata": {
        "id": "7h0LOBNSfapR",
        "outputId": "469bd003-50b3-479d-d289-9f7b684fd596",
        "colab": {
          "base_uri": "https://localhost:8080/"
        }
      },
      "outputs": [
        {
          "output_type": "stream",
          "name": "stdout",
          "text": [
            "Scores: [56.11013477 64.07362286 58.65154318]\n",
            "Mean: 59.61176693581162\n",
            "Standard deviation: 3.3212254668233063\n"
          ]
        }
      ],
      "source": [
        "scores = cross_val_score(forest_reg, X_train, y_train, scoring=\"neg_mean_squared_error\", cv=3)\n",
        "forest_rmse_scores = np.sqrt(-scores)\n",
        "display_scores(forest_rmse_scores)"
      ]
    },
    {
      "cell_type": "markdown",
      "metadata": {
        "id": "0PLbcxAFdfDX"
      },
      "source": [
        "Mejora el resultado con un error medio de aproximadamente 60 puntos."
      ]
    },
    {
      "cell_type": "markdown",
      "metadata": {
        "id": "N8YBj9tBfapF"
      },
      "source": [
        "# Ajustar los parámetros del modelo"
      ]
    },
    {
      "cell_type": "markdown",
      "metadata": {
        "id": "UXOJ3ep1gGHo"
      },
      "source": [
        "# Grid Search"
      ]
    },
    {
      "cell_type": "markdown",
      "metadata": {
        "id": "7CjV9CP4gLTT"
      },
      "source": [
        "En lugar de probar parámetros manualmente, podemos indicar con qué hiperparámetros queremos experimentar y qué valores para ellos queremos probar. El método de búsqueda por cuadrícula evaluará todas las posibles combinaciones, usando validación cruzada.\n"
      ]
    },
    {
      "cell_type": "markdown",
      "metadata": {
        "id": "3_iTbfoahM0D"
      },
      "source": [
        "En el siguiente código se busca la mejor combinación para los parámetros 'n_estimators' con [30, 100, 300] y  'max_features' con [3, 6, 8, 'auto'] para los hiperparámetros de un RandomForestRegressor.\n",
        "Por defecto, ha usado antes 'n_estimators=100' y 'max_features=auto'\n",
        "\n",
        "La búsqueda explorará 12 combinaciones del RandomForestRegressor, entrenará el modelo 3 veces (ya que hemos indicado 3-fold cross validation). En otras palabras, tendremos 12 × 3 = 36\n",
        "rondas de entrenamiento. Puede llevarle un tiempo, pero obtendremos la mejor combinación de hiperparámetros.\n",
        "\n",
        "Habitualmente se elige validación cruzada con 10 folds (o con 5). Elegimos aquí 3 para acelerar un poco los algoritmos en este laboratorio."
      ]
    },
    {
      "cell_type": "code",
      "execution_count": 17,
      "metadata": {
        "id": "_P1cyQe0fapU",
        "outputId": "666a5285-ae7b-4a0f-bd1b-062905544358",
        "colab": {
          "base_uri": "https://localhost:8080/",
          "height": 170
        }
      },
      "outputs": [
        {
          "output_type": "stream",
          "name": "stdout",
          "text": [
            "Fitting 3 folds for each of 12 candidates, totalling 36 fits\n",
            "CPU times: user 1.26 s, sys: 102 ms, total: 1.36 s\n",
            "Wall time: 30.8 s\n"
          ]
        },
        {
          "output_type": "execute_result",
          "data": {
            "text/plain": [
              "GridSearchCV(cv=3, estimator=RandomForestRegressor(random_state=42), n_jobs=-1,\n",
              "             param_grid={'max_features': [3, 6, 8, 'auto'],\n",
              "                         'n_estimators': [30, 100, 300]},\n",
              "             scoring='neg_mean_squared_error', verbose=2)"
            ],
            "text/html": [
              "<style>#sk-container-id-1 {color: black;background-color: white;}#sk-container-id-1 pre{padding: 0;}#sk-container-id-1 div.sk-toggleable {background-color: white;}#sk-container-id-1 label.sk-toggleable__label {cursor: pointer;display: block;width: 100%;margin-bottom: 0;padding: 0.3em;box-sizing: border-box;text-align: center;}#sk-container-id-1 label.sk-toggleable__label-arrow:before {content: \"▸\";float: left;margin-right: 0.25em;color: #696969;}#sk-container-id-1 label.sk-toggleable__label-arrow:hover:before {color: black;}#sk-container-id-1 div.sk-estimator:hover label.sk-toggleable__label-arrow:before {color: black;}#sk-container-id-1 div.sk-toggleable__content {max-height: 0;max-width: 0;overflow: hidden;text-align: left;background-color: #f0f8ff;}#sk-container-id-1 div.sk-toggleable__content pre {margin: 0.2em;color: black;border-radius: 0.25em;background-color: #f0f8ff;}#sk-container-id-1 input.sk-toggleable__control:checked~div.sk-toggleable__content {max-height: 200px;max-width: 100%;overflow: auto;}#sk-container-id-1 input.sk-toggleable__control:checked~label.sk-toggleable__label-arrow:before {content: \"▾\";}#sk-container-id-1 div.sk-estimator input.sk-toggleable__control:checked~label.sk-toggleable__label {background-color: #d4ebff;}#sk-container-id-1 div.sk-label input.sk-toggleable__control:checked~label.sk-toggleable__label {background-color: #d4ebff;}#sk-container-id-1 input.sk-hidden--visually {border: 0;clip: rect(1px 1px 1px 1px);clip: rect(1px, 1px, 1px, 1px);height: 1px;margin: -1px;overflow: hidden;padding: 0;position: absolute;width: 1px;}#sk-container-id-1 div.sk-estimator {font-family: monospace;background-color: #f0f8ff;border: 1px dotted black;border-radius: 0.25em;box-sizing: border-box;margin-bottom: 0.5em;}#sk-container-id-1 div.sk-estimator:hover {background-color: #d4ebff;}#sk-container-id-1 div.sk-parallel-item::after {content: \"\";width: 100%;border-bottom: 1px solid gray;flex-grow: 1;}#sk-container-id-1 div.sk-label:hover label.sk-toggleable__label {background-color: #d4ebff;}#sk-container-id-1 div.sk-serial::before {content: \"\";position: absolute;border-left: 1px solid gray;box-sizing: border-box;top: 0;bottom: 0;left: 50%;z-index: 0;}#sk-container-id-1 div.sk-serial {display: flex;flex-direction: column;align-items: center;background-color: white;padding-right: 0.2em;padding-left: 0.2em;position: relative;}#sk-container-id-1 div.sk-item {position: relative;z-index: 1;}#sk-container-id-1 div.sk-parallel {display: flex;align-items: stretch;justify-content: center;background-color: white;position: relative;}#sk-container-id-1 div.sk-item::before, #sk-container-id-1 div.sk-parallel-item::before {content: \"\";position: absolute;border-left: 1px solid gray;box-sizing: border-box;top: 0;bottom: 0;left: 50%;z-index: -1;}#sk-container-id-1 div.sk-parallel-item {display: flex;flex-direction: column;z-index: 1;position: relative;background-color: white;}#sk-container-id-1 div.sk-parallel-item:first-child::after {align-self: flex-end;width: 50%;}#sk-container-id-1 div.sk-parallel-item:last-child::after {align-self: flex-start;width: 50%;}#sk-container-id-1 div.sk-parallel-item:only-child::after {width: 0;}#sk-container-id-1 div.sk-dashed-wrapped {border: 1px dashed gray;margin: 0 0.4em 0.5em 0.4em;box-sizing: border-box;padding-bottom: 0.4em;background-color: white;}#sk-container-id-1 div.sk-label label {font-family: monospace;font-weight: bold;display: inline-block;line-height: 1.2em;}#sk-container-id-1 div.sk-label-container {text-align: center;}#sk-container-id-1 div.sk-container {/* jupyter's `normalize.less` sets `[hidden] { display: none; }` but bootstrap.min.css set `[hidden] { display: none !important; }` so we also need the `!important` here to be able to override the default hidden behavior on the sphinx rendered scikit-learn.org. See: https://github.com/scikit-learn/scikit-learn/issues/21755 */display: inline-block !important;position: relative;}#sk-container-id-1 div.sk-text-repr-fallback {display: none;}</style><div id=\"sk-container-id-1\" class=\"sk-top-container\"><div class=\"sk-text-repr-fallback\"><pre>GridSearchCV(cv=3, estimator=RandomForestRegressor(random_state=42), n_jobs=-1,\n",
              "             param_grid={&#x27;max_features&#x27;: [3, 6, 8, &#x27;auto&#x27;],\n",
              "                         &#x27;n_estimators&#x27;: [30, 100, 300]},\n",
              "             scoring=&#x27;neg_mean_squared_error&#x27;, verbose=2)</pre><b>In a Jupyter environment, please rerun this cell to show the HTML representation or trust the notebook. <br />On GitHub, the HTML representation is unable to render, please try loading this page with nbviewer.org.</b></div><div class=\"sk-container\" hidden><div class=\"sk-item sk-dashed-wrapped\"><div class=\"sk-label-container\"><div class=\"sk-label sk-toggleable\"><input class=\"sk-toggleable__control sk-hidden--visually\" id=\"sk-estimator-id-1\" type=\"checkbox\" ><label for=\"sk-estimator-id-1\" class=\"sk-toggleable__label sk-toggleable__label-arrow\">GridSearchCV</label><div class=\"sk-toggleable__content\"><pre>GridSearchCV(cv=3, estimator=RandomForestRegressor(random_state=42), n_jobs=-1,\n",
              "             param_grid={&#x27;max_features&#x27;: [3, 6, 8, &#x27;auto&#x27;],\n",
              "                         &#x27;n_estimators&#x27;: [30, 100, 300]},\n",
              "             scoring=&#x27;neg_mean_squared_error&#x27;, verbose=2)</pre></div></div></div><div class=\"sk-parallel\"><div class=\"sk-parallel-item\"><div class=\"sk-item\"><div class=\"sk-label-container\"><div class=\"sk-label sk-toggleable\"><input class=\"sk-toggleable__control sk-hidden--visually\" id=\"sk-estimator-id-2\" type=\"checkbox\" ><label for=\"sk-estimator-id-2\" class=\"sk-toggleable__label sk-toggleable__label-arrow\">estimator: RandomForestRegressor</label><div class=\"sk-toggleable__content\"><pre>RandomForestRegressor(random_state=42)</pre></div></div></div><div class=\"sk-serial\"><div class=\"sk-item\"><div class=\"sk-estimator sk-toggleable\"><input class=\"sk-toggleable__control sk-hidden--visually\" id=\"sk-estimator-id-3\" type=\"checkbox\" ><label for=\"sk-estimator-id-3\" class=\"sk-toggleable__label sk-toggleable__label-arrow\">RandomForestRegressor</label><div class=\"sk-toggleable__content\"><pre>RandomForestRegressor(random_state=42)</pre></div></div></div></div></div></div></div></div></div></div>"
            ]
          },
          "metadata": {},
          "execution_count": 17
        }
      ],
      "source": [
        "%%time\n",
        "from sklearn.model_selection import GridSearchCV\n",
        "\n",
        "param_grid = {\n",
        "    # 12 (3×4) combinaciones de hiperparámetros\n",
        "    'n_estimators': [30, 100, 300],\n",
        "    'max_features': [3, 6, 8, 'auto']\n",
        "    }\n",
        "\n",
        "forest_reg = RandomForestRegressor(random_state=42)\n",
        "# entrena con 3 folds, es decir un total de 12*3=36 rondas de entrenamiento\n",
        "grid_search_RF = GridSearchCV(forest_reg, param_grid, cv=3,\n",
        "                           scoring='neg_mean_squared_error',\n",
        "                           refit= True, verbose=2, n_jobs=-1)\n",
        "grid_search_RF.fit(X_train, y_train) # Reentrena el mejor método obtenido"
      ]
    },
    {
      "cell_type": "markdown",
      "metadata": {
        "id": "ZmqxCjXHfapW"
      },
      "source": [
        "Podemos acceder a la mejor combinación de hiperparámetros en *best_params_*:"
      ]
    },
    {
      "cell_type": "code",
      "execution_count": 18,
      "metadata": {
        "id": "vR0N9up1fapW",
        "outputId": "a587506b-e3b5-4a40-de6a-1024bf5144ee",
        "colab": {
          "base_uri": "https://localhost:8080/"
        }
      },
      "outputs": [
        {
          "output_type": "execute_result",
          "data": {
            "text/plain": [
              "{'max_features': 3, 'n_estimators': 300}"
            ]
          },
          "metadata": {},
          "execution_count": 18
        }
      ],
      "source": [
        "grid_search_RF.best_params_"
      ]
    },
    {
      "cell_type": "markdown",
      "metadata": {
        "id": "zrpOB8Hah7bM"
      },
      "source": [
        "También se pode acceder al mejor modelo directamente en *best_estimator_*:"
      ]
    },
    {
      "cell_type": "code",
      "execution_count": 19,
      "metadata": {
        "id": "45fv6XtlfapY",
        "outputId": "f3cd3083-b305-4abe-dd12-fb49202310bb",
        "colab": {
          "base_uri": "https://localhost:8080/",
          "height": 75
        }
      },
      "outputs": [
        {
          "output_type": "execute_result",
          "data": {
            "text/plain": [
              "RandomForestRegressor(max_features=3, n_estimators=300, random_state=42)"
            ],
            "text/html": [
              "<style>#sk-container-id-2 {color: black;background-color: white;}#sk-container-id-2 pre{padding: 0;}#sk-container-id-2 div.sk-toggleable {background-color: white;}#sk-container-id-2 label.sk-toggleable__label {cursor: pointer;display: block;width: 100%;margin-bottom: 0;padding: 0.3em;box-sizing: border-box;text-align: center;}#sk-container-id-2 label.sk-toggleable__label-arrow:before {content: \"▸\";float: left;margin-right: 0.25em;color: #696969;}#sk-container-id-2 label.sk-toggleable__label-arrow:hover:before {color: black;}#sk-container-id-2 div.sk-estimator:hover label.sk-toggleable__label-arrow:before {color: black;}#sk-container-id-2 div.sk-toggleable__content {max-height: 0;max-width: 0;overflow: hidden;text-align: left;background-color: #f0f8ff;}#sk-container-id-2 div.sk-toggleable__content pre {margin: 0.2em;color: black;border-radius: 0.25em;background-color: #f0f8ff;}#sk-container-id-2 input.sk-toggleable__control:checked~div.sk-toggleable__content {max-height: 200px;max-width: 100%;overflow: auto;}#sk-container-id-2 input.sk-toggleable__control:checked~label.sk-toggleable__label-arrow:before {content: \"▾\";}#sk-container-id-2 div.sk-estimator input.sk-toggleable__control:checked~label.sk-toggleable__label {background-color: #d4ebff;}#sk-container-id-2 div.sk-label input.sk-toggleable__control:checked~label.sk-toggleable__label {background-color: #d4ebff;}#sk-container-id-2 input.sk-hidden--visually {border: 0;clip: rect(1px 1px 1px 1px);clip: rect(1px, 1px, 1px, 1px);height: 1px;margin: -1px;overflow: hidden;padding: 0;position: absolute;width: 1px;}#sk-container-id-2 div.sk-estimator {font-family: monospace;background-color: #f0f8ff;border: 1px dotted black;border-radius: 0.25em;box-sizing: border-box;margin-bottom: 0.5em;}#sk-container-id-2 div.sk-estimator:hover {background-color: #d4ebff;}#sk-container-id-2 div.sk-parallel-item::after {content: \"\";width: 100%;border-bottom: 1px solid gray;flex-grow: 1;}#sk-container-id-2 div.sk-label:hover label.sk-toggleable__label {background-color: #d4ebff;}#sk-container-id-2 div.sk-serial::before {content: \"\";position: absolute;border-left: 1px solid gray;box-sizing: border-box;top: 0;bottom: 0;left: 50%;z-index: 0;}#sk-container-id-2 div.sk-serial {display: flex;flex-direction: column;align-items: center;background-color: white;padding-right: 0.2em;padding-left: 0.2em;position: relative;}#sk-container-id-2 div.sk-item {position: relative;z-index: 1;}#sk-container-id-2 div.sk-parallel {display: flex;align-items: stretch;justify-content: center;background-color: white;position: relative;}#sk-container-id-2 div.sk-item::before, #sk-container-id-2 div.sk-parallel-item::before {content: \"\";position: absolute;border-left: 1px solid gray;box-sizing: border-box;top: 0;bottom: 0;left: 50%;z-index: -1;}#sk-container-id-2 div.sk-parallel-item {display: flex;flex-direction: column;z-index: 1;position: relative;background-color: white;}#sk-container-id-2 div.sk-parallel-item:first-child::after {align-self: flex-end;width: 50%;}#sk-container-id-2 div.sk-parallel-item:last-child::after {align-self: flex-start;width: 50%;}#sk-container-id-2 div.sk-parallel-item:only-child::after {width: 0;}#sk-container-id-2 div.sk-dashed-wrapped {border: 1px dashed gray;margin: 0 0.4em 0.5em 0.4em;box-sizing: border-box;padding-bottom: 0.4em;background-color: white;}#sk-container-id-2 div.sk-label label {font-family: monospace;font-weight: bold;display: inline-block;line-height: 1.2em;}#sk-container-id-2 div.sk-label-container {text-align: center;}#sk-container-id-2 div.sk-container {/* jupyter's `normalize.less` sets `[hidden] { display: none; }` but bootstrap.min.css set `[hidden] { display: none !important; }` so we also need the `!important` here to be able to override the default hidden behavior on the sphinx rendered scikit-learn.org. See: https://github.com/scikit-learn/scikit-learn/issues/21755 */display: inline-block !important;position: relative;}#sk-container-id-2 div.sk-text-repr-fallback {display: none;}</style><div id=\"sk-container-id-2\" class=\"sk-top-container\"><div class=\"sk-text-repr-fallback\"><pre>RandomForestRegressor(max_features=3, n_estimators=300, random_state=42)</pre><b>In a Jupyter environment, please rerun this cell to show the HTML representation or trust the notebook. <br />On GitHub, the HTML representation is unable to render, please try loading this page with nbviewer.org.</b></div><div class=\"sk-container\" hidden><div class=\"sk-item\"><div class=\"sk-estimator sk-toggleable\"><input class=\"sk-toggleable__control sk-hidden--visually\" id=\"sk-estimator-id-4\" type=\"checkbox\" checked><label for=\"sk-estimator-id-4\" class=\"sk-toggleable__label sk-toggleable__label-arrow\">RandomForestRegressor</label><div class=\"sk-toggleable__content\"><pre>RandomForestRegressor(max_features=3, n_estimators=300, random_state=42)</pre></div></div></div></div></div>"
            ]
          },
          "metadata": {},
          "execution_count": 19
        }
      ],
      "source": [
        "grid_search_RF.best_estimator_"
      ]
    },
    {
      "cell_type": "markdown",
      "metadata": {
        "id": "AudVQ0tKiT-_"
      },
      "source": [
        "Como el parámetro **refit** de GridSearchCV tiene el valor True (por defecto), entonces una vez encuentra el mejor modelo usando validación cruzada, se reentrena el mejor modelo con todos los datos de entrenamiento."
      ]
    },
    {
      "cell_type": "markdown",
      "metadata": {
        "id": "OcJ-R-R2XV3e"
      },
      "source": [
        "Accedemos al resultado del mejor modelo en *best_score_*"
      ]
    },
    {
      "cell_type": "code",
      "execution_count": 20,
      "metadata": {
        "id": "tE2eSGDcXTVU",
        "outputId": "dbad1dfa-9f68-499d-ab0d-1407c89eefee",
        "colab": {
          "base_uri": "https://localhost:8080/"
        }
      },
      "outputs": [
        {
          "output_type": "execute_result",
          "data": {
            "text/plain": [
              "57.22156826612568"
            ]
          },
          "metadata": {},
          "execution_count": 20
        }
      ],
      "source": [
        "negative_mse = grid_search_RF.best_score_\n",
        "rmse = np.sqrt(-negative_mse)\n",
        "rmse"
      ]
    },
    {
      "cell_type": "markdown",
      "metadata": {
        "id": "GZP3hQlpfapZ"
      },
      "source": [
        "Podemos acceder al resultado de todos los estimadores testados durante la búsqueda por cuadrícula:"
      ]
    },
    {
      "cell_type": "code",
      "execution_count": 21,
      "metadata": {
        "id": "be8u-myGfapZ",
        "outputId": "163b9cba-8f22-47d8-b1d9-19eb55793e4e",
        "colab": {
          "base_uri": "https://localhost:8080/"
        }
      },
      "outputs": [
        {
          "output_type": "stream",
          "name": "stdout",
          "text": [
            "58.8767359530435 {'max_features': 3, 'n_estimators': 30}\n",
            "57.48769464759412 {'max_features': 3, 'n_estimators': 100}\n",
            "57.22156826612568 {'max_features': 3, 'n_estimators': 300}\n",
            "59.38212276764398 {'max_features': 6, 'n_estimators': 30}\n",
            "58.458407717722665 {'max_features': 6, 'n_estimators': 100}\n",
            "57.98726274576028 {'max_features': 6, 'n_estimators': 300}\n",
            "60.63270576775128 {'max_features': 8, 'n_estimators': 30}\n",
            "59.31727479986947 {'max_features': 8, 'n_estimators': 100}\n",
            "58.657594123944776 {'max_features': 8, 'n_estimators': 300}\n",
            "60.11032228855047 {'max_features': 'auto', 'n_estimators': 30}\n",
            "59.7042150589973 {'max_features': 'auto', 'n_estimators': 100}\n",
            "58.95332896423225 {'max_features': 'auto', 'n_estimators': 300}\n"
          ]
        }
      ],
      "source": [
        "cvres = grid_search_RF.cv_results_\n",
        "for mean_score, params in zip(cvres[\"mean_test_score\"], cvres[\"params\"]):\n",
        "    print(np.sqrt(-mean_score), params)"
      ]
    },
    {
      "cell_type": "markdown",
      "metadata": {
        "id": "NAim1DY7iZA3"
      },
      "source": [
        "En este ejemplo, obtenemos la mejor solución para los hiperparámtros max_features = 3, n_estimators= 300. El RMSE para esta combinación es aproximadamente 57 puntos, que es mejor que la que obteníamos en nuestro primer intento."
      ]
    },
    {
      "cell_type": "markdown",
      "metadata": {
        "id": "f0sNZqpx9BjG"
      },
      "source": [
        "## Ejercicios Grid Search."
      ]
    },
    {
      "cell_type": "markdown",
      "metadata": {
        "id": "OJNEngaC9Bjb"
      },
      "source": [
        "Trataremos de buscar una combinación adecuada de hiperparámetros para un modelo Support Vector Machine Regressor (`sklearn.svm.SVR`). Definimos a continuación el modelo.  "
      ]
    },
    {
      "cell_type": "code",
      "execution_count": 30,
      "metadata": {
        "id": "Mzn9zaE19Bjc"
      },
      "outputs": [],
      "source": [
        "from sklearn.model_selection import GridSearchCV\n",
        "from sklearn.svm import SVR\n",
        "svm_reg = SVR()"
      ]
    },
    {
      "cell_type": "markdown",
      "metadata": {
        "id": "6LSQBTSl9OYY"
      },
      "source": [
        "PREGUNTA: ¿Qué parámetros ha utilizado por defecto el modelo?"
      ]
    },
    {
      "cell_type": "code",
      "execution_count": 32,
      "metadata": {
        "id": "k1Fd8qQt9WQp",
        "outputId": "71d4f9ba-d0bd-4edc-8be2-090ebf859424",
        "colab": {
          "base_uri": "https://localhost:8080/"
        }
      },
      "outputs": [
        {
          "output_type": "execute_result",
          "data": {
            "text/plain": [
              "{'C': 1.0,\n",
              " 'cache_size': 200,\n",
              " 'coef0': 0.0,\n",
              " 'degree': 3,\n",
              " 'epsilon': 0.1,\n",
              " 'gamma': 'scale',\n",
              " 'kernel': 'rbf',\n",
              " 'max_iter': -1,\n",
              " 'shrinking': True,\n",
              " 'tol': 0.001,\n",
              " 'verbose': False}"
            ]
          },
          "metadata": {},
          "execution_count": 32
        }
      ],
      "source": [
        "#Solución\n",
        "svm_reg.get_params()"
      ]
    },
    {
      "cell_type": "markdown",
      "metadata": {
        "id": "r15H6YJd9Bjd"
      },
      "source": [
        "EJERCICIO:\n",
        "Utilizar el métod de GridSearch para encontrar la mejor combinación de hiperparámetros para el hiperparámetro 'kernel', 'C' y 'gamma'.\n",
        "\n",
        "En particular para:\n",
        "\n",
        "- 'kernel': ['linear'], 'C': [1.0, 3.0];\n",
        "\n",
        "o\n",
        "\n",
        "- 'kernel': ['rbf'], 'C': [1.0, 3.0, 5.0],        'gamma': [0.01, 0.1, 1.0]\n",
        "\n",
        "\n",
        "(Poner entre corchetes [] dos listas {} separadas por una coma)\n",
        "\n",
        "Usa cross validation con tres folds."
      ]
    },
    {
      "cell_type": "code",
      "execution_count": 33,
      "metadata": {
        "id": "gVOVBp1dv2yX",
        "outputId": "297fb7a3-806c-456b-bbd9-ad66777d2b22",
        "colab": {
          "base_uri": "https://localhost:8080/",
          "height": 136
        }
      },
      "outputs": [
        {
          "output_type": "stream",
          "name": "stdout",
          "text": [
            "Fitting 3 folds for each of 2 candidates, totalling 6 fits\n"
          ]
        },
        {
          "output_type": "execute_result",
          "data": {
            "text/plain": [
              "GridSearchCV(cv=3, estimator=SVR(), n_jobs=-1,\n",
              "             param_grid={'C': [1.0, 3.0], 'kernel': ['linear']},\n",
              "             scoring='neg_mean_squared_error', verbose=2)"
            ],
            "text/html": [
              "<style>#sk-container-id-3 {color: black;background-color: white;}#sk-container-id-3 pre{padding: 0;}#sk-container-id-3 div.sk-toggleable {background-color: white;}#sk-container-id-3 label.sk-toggleable__label {cursor: pointer;display: block;width: 100%;margin-bottom: 0;padding: 0.3em;box-sizing: border-box;text-align: center;}#sk-container-id-3 label.sk-toggleable__label-arrow:before {content: \"▸\";float: left;margin-right: 0.25em;color: #696969;}#sk-container-id-3 label.sk-toggleable__label-arrow:hover:before {color: black;}#sk-container-id-3 div.sk-estimator:hover label.sk-toggleable__label-arrow:before {color: black;}#sk-container-id-3 div.sk-toggleable__content {max-height: 0;max-width: 0;overflow: hidden;text-align: left;background-color: #f0f8ff;}#sk-container-id-3 div.sk-toggleable__content pre {margin: 0.2em;color: black;border-radius: 0.25em;background-color: #f0f8ff;}#sk-container-id-3 input.sk-toggleable__control:checked~div.sk-toggleable__content {max-height: 200px;max-width: 100%;overflow: auto;}#sk-container-id-3 input.sk-toggleable__control:checked~label.sk-toggleable__label-arrow:before {content: \"▾\";}#sk-container-id-3 div.sk-estimator input.sk-toggleable__control:checked~label.sk-toggleable__label {background-color: #d4ebff;}#sk-container-id-3 div.sk-label input.sk-toggleable__control:checked~label.sk-toggleable__label {background-color: #d4ebff;}#sk-container-id-3 input.sk-hidden--visually {border: 0;clip: rect(1px 1px 1px 1px);clip: rect(1px, 1px, 1px, 1px);height: 1px;margin: -1px;overflow: hidden;padding: 0;position: absolute;width: 1px;}#sk-container-id-3 div.sk-estimator {font-family: monospace;background-color: #f0f8ff;border: 1px dotted black;border-radius: 0.25em;box-sizing: border-box;margin-bottom: 0.5em;}#sk-container-id-3 div.sk-estimator:hover {background-color: #d4ebff;}#sk-container-id-3 div.sk-parallel-item::after {content: \"\";width: 100%;border-bottom: 1px solid gray;flex-grow: 1;}#sk-container-id-3 div.sk-label:hover label.sk-toggleable__label {background-color: #d4ebff;}#sk-container-id-3 div.sk-serial::before {content: \"\";position: absolute;border-left: 1px solid gray;box-sizing: border-box;top: 0;bottom: 0;left: 50%;z-index: 0;}#sk-container-id-3 div.sk-serial {display: flex;flex-direction: column;align-items: center;background-color: white;padding-right: 0.2em;padding-left: 0.2em;position: relative;}#sk-container-id-3 div.sk-item {position: relative;z-index: 1;}#sk-container-id-3 div.sk-parallel {display: flex;align-items: stretch;justify-content: center;background-color: white;position: relative;}#sk-container-id-3 div.sk-item::before, #sk-container-id-3 div.sk-parallel-item::before {content: \"\";position: absolute;border-left: 1px solid gray;box-sizing: border-box;top: 0;bottom: 0;left: 50%;z-index: -1;}#sk-container-id-3 div.sk-parallel-item {display: flex;flex-direction: column;z-index: 1;position: relative;background-color: white;}#sk-container-id-3 div.sk-parallel-item:first-child::after {align-self: flex-end;width: 50%;}#sk-container-id-3 div.sk-parallel-item:last-child::after {align-self: flex-start;width: 50%;}#sk-container-id-3 div.sk-parallel-item:only-child::after {width: 0;}#sk-container-id-3 div.sk-dashed-wrapped {border: 1px dashed gray;margin: 0 0.4em 0.5em 0.4em;box-sizing: border-box;padding-bottom: 0.4em;background-color: white;}#sk-container-id-3 div.sk-label label {font-family: monospace;font-weight: bold;display: inline-block;line-height: 1.2em;}#sk-container-id-3 div.sk-label-container {text-align: center;}#sk-container-id-3 div.sk-container {/* jupyter's `normalize.less` sets `[hidden] { display: none; }` but bootstrap.min.css set `[hidden] { display: none !important; }` so we also need the `!important` here to be able to override the default hidden behavior on the sphinx rendered scikit-learn.org. See: https://github.com/scikit-learn/scikit-learn/issues/21755 */display: inline-block !important;position: relative;}#sk-container-id-3 div.sk-text-repr-fallback {display: none;}</style><div id=\"sk-container-id-3\" class=\"sk-top-container\"><div class=\"sk-text-repr-fallback\"><pre>GridSearchCV(cv=3, estimator=SVR(), n_jobs=-1,\n",
              "             param_grid={&#x27;C&#x27;: [1.0, 3.0], &#x27;kernel&#x27;: [&#x27;linear&#x27;]},\n",
              "             scoring=&#x27;neg_mean_squared_error&#x27;, verbose=2)</pre><b>In a Jupyter environment, please rerun this cell to show the HTML representation or trust the notebook. <br />On GitHub, the HTML representation is unable to render, please try loading this page with nbviewer.org.</b></div><div class=\"sk-container\" hidden><div class=\"sk-item sk-dashed-wrapped\"><div class=\"sk-label-container\"><div class=\"sk-label sk-toggleable\"><input class=\"sk-toggleable__control sk-hidden--visually\" id=\"sk-estimator-id-5\" type=\"checkbox\" ><label for=\"sk-estimator-id-5\" class=\"sk-toggleable__label sk-toggleable__label-arrow\">GridSearchCV</label><div class=\"sk-toggleable__content\"><pre>GridSearchCV(cv=3, estimator=SVR(), n_jobs=-1,\n",
              "             param_grid={&#x27;C&#x27;: [1.0, 3.0], &#x27;kernel&#x27;: [&#x27;linear&#x27;]},\n",
              "             scoring=&#x27;neg_mean_squared_error&#x27;, verbose=2)</pre></div></div></div><div class=\"sk-parallel\"><div class=\"sk-parallel-item\"><div class=\"sk-item\"><div class=\"sk-label-container\"><div class=\"sk-label sk-toggleable\"><input class=\"sk-toggleable__control sk-hidden--visually\" id=\"sk-estimator-id-6\" type=\"checkbox\" ><label for=\"sk-estimator-id-6\" class=\"sk-toggleable__label sk-toggleable__label-arrow\">estimator: SVR</label><div class=\"sk-toggleable__content\"><pre>SVR()</pre></div></div></div><div class=\"sk-serial\"><div class=\"sk-item\"><div class=\"sk-estimator sk-toggleable\"><input class=\"sk-toggleable__control sk-hidden--visually\" id=\"sk-estimator-id-7\" type=\"checkbox\" ><label for=\"sk-estimator-id-7\" class=\"sk-toggleable__label sk-toggleable__label-arrow\">SVR</label><div class=\"sk-toggleable__content\"><pre>SVR()</pre></div></div></div></div></div></div></div></div></div></div>"
            ]
          },
          "metadata": {},
          "execution_count": 33
        }
      ],
      "source": [
        "#SOLUCIÓN\n",
        "param_grid = {\n",
        "    'kernel': ['linear'],\n",
        "    'C': [1.0, 3.0]\n",
        "    }\n",
        "\n",
        "grid_search_SVR = GridSearchCV(svm_reg, param_grid, cv=3,\n",
        "                           scoring='neg_mean_squared_error',\n",
        "                           refit= True, verbose=2, n_jobs=-1)\n",
        "grid_search_SVR.fit(X_train, y_train) # Reentrena el mejor método obtenido"
      ]
    },
    {
      "cell_type": "code",
      "source": [
        "#SOLUCIÓN\n",
        "param_grid_2 = {\n",
        "    'kernel': ['rbf'],\n",
        "    'C': [1.0, 3.0, 5.0],\n",
        "    'gamma': [0.01, 0.1, 1.0]\n",
        "    }\n",
        "\n",
        "grid_search_SVR_2 = GridSearchCV(svm_reg, param_grid_2, cv=3,\n",
        "                           scoring='neg_mean_squared_error',\n",
        "                           refit= True, verbose=2, n_jobs=-1)\n",
        "grid_search_SVR_2.fit(X_train, y_train) # Reentrena el mejor método obtenido"
      ],
      "metadata": {
        "id": "3HK_1q7LhV7t",
        "outputId": "abf71f5d-5505-4178-a623-ae84a408c5ae",
        "colab": {
          "base_uri": "https://localhost:8080/",
          "height": 136
        }
      },
      "execution_count": 39,
      "outputs": [
        {
          "output_type": "stream",
          "name": "stdout",
          "text": [
            "Fitting 3 folds for each of 9 candidates, totalling 27 fits\n"
          ]
        },
        {
          "output_type": "execute_result",
          "data": {
            "text/plain": [
              "GridSearchCV(cv=3, estimator=SVR(), n_jobs=-1,\n",
              "             param_grid={'C': [1.0, 3.0, 5.0], 'gamma': [0.01, 0.1, 1.0],\n",
              "                         'kernel': ['rbf']},\n",
              "             scoring='neg_mean_squared_error', verbose=2)"
            ],
            "text/html": [
              "<style>#sk-container-id-4 {color: black;background-color: white;}#sk-container-id-4 pre{padding: 0;}#sk-container-id-4 div.sk-toggleable {background-color: white;}#sk-container-id-4 label.sk-toggleable__label {cursor: pointer;display: block;width: 100%;margin-bottom: 0;padding: 0.3em;box-sizing: border-box;text-align: center;}#sk-container-id-4 label.sk-toggleable__label-arrow:before {content: \"▸\";float: left;margin-right: 0.25em;color: #696969;}#sk-container-id-4 label.sk-toggleable__label-arrow:hover:before {color: black;}#sk-container-id-4 div.sk-estimator:hover label.sk-toggleable__label-arrow:before {color: black;}#sk-container-id-4 div.sk-toggleable__content {max-height: 0;max-width: 0;overflow: hidden;text-align: left;background-color: #f0f8ff;}#sk-container-id-4 div.sk-toggleable__content pre {margin: 0.2em;color: black;border-radius: 0.25em;background-color: #f0f8ff;}#sk-container-id-4 input.sk-toggleable__control:checked~div.sk-toggleable__content {max-height: 200px;max-width: 100%;overflow: auto;}#sk-container-id-4 input.sk-toggleable__control:checked~label.sk-toggleable__label-arrow:before {content: \"▾\";}#sk-container-id-4 div.sk-estimator input.sk-toggleable__control:checked~label.sk-toggleable__label {background-color: #d4ebff;}#sk-container-id-4 div.sk-label input.sk-toggleable__control:checked~label.sk-toggleable__label {background-color: #d4ebff;}#sk-container-id-4 input.sk-hidden--visually {border: 0;clip: rect(1px 1px 1px 1px);clip: rect(1px, 1px, 1px, 1px);height: 1px;margin: -1px;overflow: hidden;padding: 0;position: absolute;width: 1px;}#sk-container-id-4 div.sk-estimator {font-family: monospace;background-color: #f0f8ff;border: 1px dotted black;border-radius: 0.25em;box-sizing: border-box;margin-bottom: 0.5em;}#sk-container-id-4 div.sk-estimator:hover {background-color: #d4ebff;}#sk-container-id-4 div.sk-parallel-item::after {content: \"\";width: 100%;border-bottom: 1px solid gray;flex-grow: 1;}#sk-container-id-4 div.sk-label:hover label.sk-toggleable__label {background-color: #d4ebff;}#sk-container-id-4 div.sk-serial::before {content: \"\";position: absolute;border-left: 1px solid gray;box-sizing: border-box;top: 0;bottom: 0;left: 50%;z-index: 0;}#sk-container-id-4 div.sk-serial {display: flex;flex-direction: column;align-items: center;background-color: white;padding-right: 0.2em;padding-left: 0.2em;position: relative;}#sk-container-id-4 div.sk-item {position: relative;z-index: 1;}#sk-container-id-4 div.sk-parallel {display: flex;align-items: stretch;justify-content: center;background-color: white;position: relative;}#sk-container-id-4 div.sk-item::before, #sk-container-id-4 div.sk-parallel-item::before {content: \"\";position: absolute;border-left: 1px solid gray;box-sizing: border-box;top: 0;bottom: 0;left: 50%;z-index: -1;}#sk-container-id-4 div.sk-parallel-item {display: flex;flex-direction: column;z-index: 1;position: relative;background-color: white;}#sk-container-id-4 div.sk-parallel-item:first-child::after {align-self: flex-end;width: 50%;}#sk-container-id-4 div.sk-parallel-item:last-child::after {align-self: flex-start;width: 50%;}#sk-container-id-4 div.sk-parallel-item:only-child::after {width: 0;}#sk-container-id-4 div.sk-dashed-wrapped {border: 1px dashed gray;margin: 0 0.4em 0.5em 0.4em;box-sizing: border-box;padding-bottom: 0.4em;background-color: white;}#sk-container-id-4 div.sk-label label {font-family: monospace;font-weight: bold;display: inline-block;line-height: 1.2em;}#sk-container-id-4 div.sk-label-container {text-align: center;}#sk-container-id-4 div.sk-container {/* jupyter's `normalize.less` sets `[hidden] { display: none; }` but bootstrap.min.css set `[hidden] { display: none !important; }` so we also need the `!important` here to be able to override the default hidden behavior on the sphinx rendered scikit-learn.org. See: https://github.com/scikit-learn/scikit-learn/issues/21755 */display: inline-block !important;position: relative;}#sk-container-id-4 div.sk-text-repr-fallback {display: none;}</style><div id=\"sk-container-id-4\" class=\"sk-top-container\"><div class=\"sk-text-repr-fallback\"><pre>GridSearchCV(cv=3, estimator=SVR(), n_jobs=-1,\n",
              "             param_grid={&#x27;C&#x27;: [1.0, 3.0, 5.0], &#x27;gamma&#x27;: [0.01, 0.1, 1.0],\n",
              "                         &#x27;kernel&#x27;: [&#x27;rbf&#x27;]},\n",
              "             scoring=&#x27;neg_mean_squared_error&#x27;, verbose=2)</pre><b>In a Jupyter environment, please rerun this cell to show the HTML representation or trust the notebook. <br />On GitHub, the HTML representation is unable to render, please try loading this page with nbviewer.org.</b></div><div class=\"sk-container\" hidden><div class=\"sk-item sk-dashed-wrapped\"><div class=\"sk-label-container\"><div class=\"sk-label sk-toggleable\"><input class=\"sk-toggleable__control sk-hidden--visually\" id=\"sk-estimator-id-8\" type=\"checkbox\" ><label for=\"sk-estimator-id-8\" class=\"sk-toggleable__label sk-toggleable__label-arrow\">GridSearchCV</label><div class=\"sk-toggleable__content\"><pre>GridSearchCV(cv=3, estimator=SVR(), n_jobs=-1,\n",
              "             param_grid={&#x27;C&#x27;: [1.0, 3.0, 5.0], &#x27;gamma&#x27;: [0.01, 0.1, 1.0],\n",
              "                         &#x27;kernel&#x27;: [&#x27;rbf&#x27;]},\n",
              "             scoring=&#x27;neg_mean_squared_error&#x27;, verbose=2)</pre></div></div></div><div class=\"sk-parallel\"><div class=\"sk-parallel-item\"><div class=\"sk-item\"><div class=\"sk-label-container\"><div class=\"sk-label sk-toggleable\"><input class=\"sk-toggleable__control sk-hidden--visually\" id=\"sk-estimator-id-9\" type=\"checkbox\" ><label for=\"sk-estimator-id-9\" class=\"sk-toggleable__label sk-toggleable__label-arrow\">estimator: SVR</label><div class=\"sk-toggleable__content\"><pre>SVR()</pre></div></div></div><div class=\"sk-serial\"><div class=\"sk-item\"><div class=\"sk-estimator sk-toggleable\"><input class=\"sk-toggleable__control sk-hidden--visually\" id=\"sk-estimator-id-10\" type=\"checkbox\" ><label for=\"sk-estimator-id-10\" class=\"sk-toggleable__label sk-toggleable__label-arrow\">SVR</label><div class=\"sk-toggleable__content\"><pre>SVR()</pre></div></div></div></div></div></div></div></div></div></div>"
            ]
          },
          "metadata": {},
          "execution_count": 39
        }
      ]
    },
    {
      "cell_type": "markdown",
      "metadata": {
        "id": "IXMhGnPi96f5"
      },
      "source": [
        "PREGUNTA:\n",
        "¿Qué RMSE alcanza la mejor solución?"
      ]
    },
    {
      "cell_type": "code",
      "source": [
        "#RESPUESTA\n",
        "#Para el grid search variando el parámetro C y con kernel lineal:\n",
        "np.sqrt(-grid_search_SVR.best_score_)"
      ],
      "metadata": {
        "id": "0mO72ZHahFnj",
        "outputId": "7527240f-3fb6-41c2-89f7-d198119a4c8e",
        "colab": {
          "base_uri": "https://localhost:8080/"
        }
      },
      "execution_count": 37,
      "outputs": [
        {
          "output_type": "execute_result",
          "data": {
            "text/plain": [
              "77.47723433757558"
            ]
          },
          "metadata": {},
          "execution_count": 37
        }
      ]
    },
    {
      "cell_type": "code",
      "source": [
        "#Para el grid search variando los parámetros C, gamma y con kernel rbf:\n",
        "np.sqrt(-grid_search_SVR_2.best_score_)"
      ],
      "metadata": {
        "id": "8korP8jlhfc0",
        "outputId": "c010c919-921e-4efd-8af5-6d93109e4d7d",
        "colab": {
          "base_uri": "https://localhost:8080/"
        }
      },
      "execution_count": 40,
      "outputs": [
        {
          "output_type": "execute_result",
          "data": {
            "text/plain": [
              "74.492830157436"
            ]
          },
          "metadata": {},
          "execution_count": 40
        }
      ]
    },
    {
      "cell_type": "markdown",
      "metadata": {
        "id": "m17bhJoo-XEz"
      },
      "source": [
        "PREGUNTA:\n",
        "¿Cuál es la mejor combinación de hiperparámetros?"
      ]
    },
    {
      "cell_type": "markdown",
      "metadata": {
        "id": "LxfWdY4b9Bjh"
      },
      "source": [
        "La mejor combinación de hiperparámetros son:"
      ]
    },
    {
      "cell_type": "code",
      "execution_count": 34,
      "metadata": {
        "id": "Z3xMcMmn9Bjh",
        "outputId": "7bddac22-6800-4d6b-e873-13f236a92e2d",
        "colab": {
          "base_uri": "https://localhost:8080/"
        }
      },
      "outputs": [
        {
          "output_type": "execute_result",
          "data": {
            "text/plain": [
              "{'C': 3.0, 'kernel': 'linear'}"
            ]
          },
          "metadata": {},
          "execution_count": 34
        }
      ],
      "source": [
        "#RESPUESTA\n",
        "#Para el grid search variando el parámetro C y con kernel lineal:\n",
        "grid_search_SVR.best_params_"
      ]
    },
    {
      "cell_type": "code",
      "source": [
        "#Para el grid search variando los parámetros C, gamma y con kernel rbf:\n",
        "grid_search_SVR_2.best_params_"
      ],
      "metadata": {
        "id": "Htaytb56hjYF",
        "outputId": "b9734b39-8446-4d0c-b2d2-9941a5bdb2dd",
        "colab": {
          "base_uri": "https://localhost:8080/"
        }
      },
      "execution_count": 41,
      "outputs": [
        {
          "output_type": "execute_result",
          "data": {
            "text/plain": [
              "{'C': 5.0, 'gamma': 1.0, 'kernel': 'rbf'}"
            ]
          },
          "metadata": {},
          "execution_count": 41
        }
      ]
    },
    {
      "cell_type": "markdown",
      "metadata": {
        "id": "u4-0cA5EsZLn"
      },
      "source": [
        "PREGUNTA: Obtén los resultados de todos los hiperparámetros que ha probado. ¿Puedes extraer alguna conclusión sobre los parámetros usados en la mejor opción? Por ejemplo, si el parámetro elegido como mejor opción es el mayor (o menor) usado, podría valer la pena incluir mayores (o menores valores) para ese parámetro."
      ]
    },
    {
      "cell_type": "code",
      "execution_count": 38,
      "metadata": {
        "id": "obFXw3CJ9Bjg",
        "outputId": "727e3ec7-c0d6-4910-d3c8-e850fe5b95d9",
        "colab": {
          "base_uri": "https://localhost:8080/"
        }
      },
      "outputs": [
        {
          "output_type": "stream",
          "name": "stdout",
          "text": [
            "78.63275657220132 {'C': 1.0, 'kernel': 'linear'}\n",
            "77.47723433757558 {'C': 3.0, 'kernel': 'linear'}\n"
          ]
        }
      ],
      "source": [
        "#RESPUESTA:\n",
        "#Para el grid search variando el parámetro C y con kernel lineal:\n",
        "cvres = grid_search_SVR.cv_results_\n",
        "for mean_score, params in zip(cvres[\"mean_test_score\"], cvres[\"params\"]):\n",
        "    print(np.sqrt(-mean_score), params)"
      ]
    },
    {
      "cell_type": "code",
      "source": [
        "#Para el grid search variando los parámetros C, gamma y con kernel rbf:\n",
        "cvres = grid_search_SVR_2.cv_results_\n",
        "for mean_score, params in zip(cvres[\"mean_test_score\"], cvres[\"params\"]):\n",
        "    print(np.sqrt(-mean_score), params)"
      ],
      "metadata": {
        "id": "v3VBvZOQh1D2",
        "outputId": "fffb5f6c-6bc5-4ba3-bfed-cda3ca7786c5",
        "colab": {
          "base_uri": "https://localhost:8080/"
        }
      },
      "execution_count": 42,
      "outputs": [
        {
          "output_type": "stream",
          "name": "stdout",
          "text": [
            "79.28733911714465 {'C': 1.0, 'gamma': 0.01, 'kernel': 'rbf'}\n",
            "79.15053941483656 {'C': 1.0, 'gamma': 0.1, 'kernel': 'rbf'}\n",
            "78.18226028866891 {'C': 1.0, 'gamma': 1.0, 'kernel': 'rbf'}\n",
            "79.25669271306619 {'C': 3.0, 'gamma': 0.01, 'kernel': 'rbf'}\n",
            "78.85241322279813 {'C': 3.0, 'gamma': 0.1, 'kernel': 'rbf'}\n",
            "76.15567642678245 {'C': 3.0, 'gamma': 1.0, 'kernel': 'rbf'}\n",
            "79.22607611420248 {'C': 5.0, 'gamma': 0.01, 'kernel': 'rbf'}\n",
            "78.63555169493115 {'C': 5.0, 'gamma': 0.1, 'kernel': 'rbf'}\n",
            "74.492830157436 {'C': 5.0, 'gamma': 1.0, 'kernel': 'rbf'}\n"
          ]
        }
      ]
    },
    {
      "cell_type": "markdown",
      "source": [
        "La conclusion que podemos obtener con los parámetros que hemos probado es que cuanto más altos mejores resultados obtenemos, tanto para C en solitario o combinado con Gamma como para Gamma."
      ],
      "metadata": {
        "id": "tUDQ2wNrh6ZX"
      }
    },
    {
      "cell_type": "markdown",
      "metadata": {
        "id": "o65WO6099Bji"
      },
      "source": [
        "Parece que el mejor \"C\" es al máximo testeado. Por ello, es conveniente repetir la búsqueda borrando los valores pequeños de C y cambiándolos por otros mayores."
      ]
    },
    {
      "cell_type": "markdown",
      "metadata": {
        "id": "-Uas_X0IwNLY"
      },
      "source": [
        "EJERCICIO (Extra): Prueba a usar el kernel 'poly' con distintos valores para los parámetros 'C', 'gamma' y 'degree'; y el kernel 'sigmoid' con distintos valores para los parámetros 'C' y 'gamma'. Prueba también a cambiar el hiperparámetro 'epsilon' en todos los kernels ¿Consigues mejorar el resultado?"
      ]
    },
    {
      "cell_type": "code",
      "execution_count": 48,
      "metadata": {
        "id": "JJIFD4XQ9Bje",
        "outputId": "71ee0927-9d18-45aa-934a-47fdba8e7738",
        "colab": {
          "base_uri": "https://localhost:8080/",
          "height": 170
        }
      },
      "outputs": [
        {
          "output_type": "stream",
          "name": "stdout",
          "text": [
            "Fitting 3 folds for each of 108 candidates, totalling 324 fits\n",
            "CPU times: user 175 ms, sys: 8.21 ms, total: 183 ms\n",
            "Wall time: 1.53 s\n"
          ]
        },
        {
          "output_type": "execute_result",
          "data": {
            "text/plain": [
              "GridSearchCV(cv=3, estimator=SVR(), n_jobs=-1,\n",
              "             param_grid={'C': [3.0, 5.0, 8.0], 'degree': [3, 5, 8],\n",
              "                         'epsilon': [0.1, 1.0, 1.5],\n",
              "                         'gamma': [0.1, 1.0, 1.5, 2.0], 'kernel': ['poly']},\n",
              "             scoring='neg_mean_squared_error', verbose=2)"
            ],
            "text/html": [
              "<style>#sk-container-id-6 {color: black;background-color: white;}#sk-container-id-6 pre{padding: 0;}#sk-container-id-6 div.sk-toggleable {background-color: white;}#sk-container-id-6 label.sk-toggleable__label {cursor: pointer;display: block;width: 100%;margin-bottom: 0;padding: 0.3em;box-sizing: border-box;text-align: center;}#sk-container-id-6 label.sk-toggleable__label-arrow:before {content: \"▸\";float: left;margin-right: 0.25em;color: #696969;}#sk-container-id-6 label.sk-toggleable__label-arrow:hover:before {color: black;}#sk-container-id-6 div.sk-estimator:hover label.sk-toggleable__label-arrow:before {color: black;}#sk-container-id-6 div.sk-toggleable__content {max-height: 0;max-width: 0;overflow: hidden;text-align: left;background-color: #f0f8ff;}#sk-container-id-6 div.sk-toggleable__content pre {margin: 0.2em;color: black;border-radius: 0.25em;background-color: #f0f8ff;}#sk-container-id-6 input.sk-toggleable__control:checked~div.sk-toggleable__content {max-height: 200px;max-width: 100%;overflow: auto;}#sk-container-id-6 input.sk-toggleable__control:checked~label.sk-toggleable__label-arrow:before {content: \"▾\";}#sk-container-id-6 div.sk-estimator input.sk-toggleable__control:checked~label.sk-toggleable__label {background-color: #d4ebff;}#sk-container-id-6 div.sk-label input.sk-toggleable__control:checked~label.sk-toggleable__label {background-color: #d4ebff;}#sk-container-id-6 input.sk-hidden--visually {border: 0;clip: rect(1px 1px 1px 1px);clip: rect(1px, 1px, 1px, 1px);height: 1px;margin: -1px;overflow: hidden;padding: 0;position: absolute;width: 1px;}#sk-container-id-6 div.sk-estimator {font-family: monospace;background-color: #f0f8ff;border: 1px dotted black;border-radius: 0.25em;box-sizing: border-box;margin-bottom: 0.5em;}#sk-container-id-6 div.sk-estimator:hover {background-color: #d4ebff;}#sk-container-id-6 div.sk-parallel-item::after {content: \"\";width: 100%;border-bottom: 1px solid gray;flex-grow: 1;}#sk-container-id-6 div.sk-label:hover label.sk-toggleable__label {background-color: #d4ebff;}#sk-container-id-6 div.sk-serial::before {content: \"\";position: absolute;border-left: 1px solid gray;box-sizing: border-box;top: 0;bottom: 0;left: 50%;z-index: 0;}#sk-container-id-6 div.sk-serial {display: flex;flex-direction: column;align-items: center;background-color: white;padding-right: 0.2em;padding-left: 0.2em;position: relative;}#sk-container-id-6 div.sk-item {position: relative;z-index: 1;}#sk-container-id-6 div.sk-parallel {display: flex;align-items: stretch;justify-content: center;background-color: white;position: relative;}#sk-container-id-6 div.sk-item::before, #sk-container-id-6 div.sk-parallel-item::before {content: \"\";position: absolute;border-left: 1px solid gray;box-sizing: border-box;top: 0;bottom: 0;left: 50%;z-index: -1;}#sk-container-id-6 div.sk-parallel-item {display: flex;flex-direction: column;z-index: 1;position: relative;background-color: white;}#sk-container-id-6 div.sk-parallel-item:first-child::after {align-self: flex-end;width: 50%;}#sk-container-id-6 div.sk-parallel-item:last-child::after {align-self: flex-start;width: 50%;}#sk-container-id-6 div.sk-parallel-item:only-child::after {width: 0;}#sk-container-id-6 div.sk-dashed-wrapped {border: 1px dashed gray;margin: 0 0.4em 0.5em 0.4em;box-sizing: border-box;padding-bottom: 0.4em;background-color: white;}#sk-container-id-6 div.sk-label label {font-family: monospace;font-weight: bold;display: inline-block;line-height: 1.2em;}#sk-container-id-6 div.sk-label-container {text-align: center;}#sk-container-id-6 div.sk-container {/* jupyter's `normalize.less` sets `[hidden] { display: none; }` but bootstrap.min.css set `[hidden] { display: none !important; }` so we also need the `!important` here to be able to override the default hidden behavior on the sphinx rendered scikit-learn.org. See: https://github.com/scikit-learn/scikit-learn/issues/21755 */display: inline-block !important;position: relative;}#sk-container-id-6 div.sk-text-repr-fallback {display: none;}</style><div id=\"sk-container-id-6\" class=\"sk-top-container\"><div class=\"sk-text-repr-fallback\"><pre>GridSearchCV(cv=3, estimator=SVR(), n_jobs=-1,\n",
              "             param_grid={&#x27;C&#x27;: [3.0, 5.0, 8.0], &#x27;degree&#x27;: [3, 5, 8],\n",
              "                         &#x27;epsilon&#x27;: [0.1, 1.0, 1.5],\n",
              "                         &#x27;gamma&#x27;: [0.1, 1.0, 1.5, 2.0], &#x27;kernel&#x27;: [&#x27;poly&#x27;]},\n",
              "             scoring=&#x27;neg_mean_squared_error&#x27;, verbose=2)</pre><b>In a Jupyter environment, please rerun this cell to show the HTML representation or trust the notebook. <br />On GitHub, the HTML representation is unable to render, please try loading this page with nbviewer.org.</b></div><div class=\"sk-container\" hidden><div class=\"sk-item sk-dashed-wrapped\"><div class=\"sk-label-container\"><div class=\"sk-label sk-toggleable\"><input class=\"sk-toggleable__control sk-hidden--visually\" id=\"sk-estimator-id-14\" type=\"checkbox\" ><label for=\"sk-estimator-id-14\" class=\"sk-toggleable__label sk-toggleable__label-arrow\">GridSearchCV</label><div class=\"sk-toggleable__content\"><pre>GridSearchCV(cv=3, estimator=SVR(), n_jobs=-1,\n",
              "             param_grid={&#x27;C&#x27;: [3.0, 5.0, 8.0], &#x27;degree&#x27;: [3, 5, 8],\n",
              "                         &#x27;epsilon&#x27;: [0.1, 1.0, 1.5],\n",
              "                         &#x27;gamma&#x27;: [0.1, 1.0, 1.5, 2.0], &#x27;kernel&#x27;: [&#x27;poly&#x27;]},\n",
              "             scoring=&#x27;neg_mean_squared_error&#x27;, verbose=2)</pre></div></div></div><div class=\"sk-parallel\"><div class=\"sk-parallel-item\"><div class=\"sk-item\"><div class=\"sk-label-container\"><div class=\"sk-label sk-toggleable\"><input class=\"sk-toggleable__control sk-hidden--visually\" id=\"sk-estimator-id-15\" type=\"checkbox\" ><label for=\"sk-estimator-id-15\" class=\"sk-toggleable__label sk-toggleable__label-arrow\">estimator: SVR</label><div class=\"sk-toggleable__content\"><pre>SVR()</pre></div></div></div><div class=\"sk-serial\"><div class=\"sk-item\"><div class=\"sk-estimator sk-toggleable\"><input class=\"sk-toggleable__control sk-hidden--visually\" id=\"sk-estimator-id-16\" type=\"checkbox\" ><label for=\"sk-estimator-id-16\" class=\"sk-toggleable__label sk-toggleable__label-arrow\">SVR</label><div class=\"sk-toggleable__content\"><pre>SVR()</pre></div></div></div></div></div></div></div></div></div></div>"
            ]
          },
          "metadata": {},
          "execution_count": 48
        }
      ],
      "source": [
        "#SOLUCIÓN\n",
        "%%time\n",
        "#SOLUCIÓN\n",
        "param_grid = {\n",
        "    'kernel': ['poly'],\n",
        "    'C': [3.0, 5.0, 8.0],\n",
        "    'gamma': [0.1, 1.0, 1.5, 2.0],\n",
        "    'degree': [3, 5, 8],\n",
        "    'epsilon': [0.1, 1.0, 1.5]\n",
        "    }\n",
        "\n",
        "grid_search_SVR_poly = GridSearchCV(svm_reg, param_grid, cv=3,\n",
        "                           scoring='neg_mean_squared_error',\n",
        "                           refit= True, verbose=2, n_jobs=-1)\n",
        "grid_search_SVR_poly.fit(X_train, y_train) # Reentrena el mejor método obtenido"
      ]
    },
    {
      "cell_type": "code",
      "execution_count": 49,
      "metadata": {
        "id": "MlFXi4gswMS0",
        "outputId": "7426976a-e05f-46e4-fc7b-af162eda1185",
        "colab": {
          "base_uri": "https://localhost:8080/"
        }
      },
      "outputs": [
        {
          "output_type": "execute_result",
          "data": {
            "text/plain": [
              "79.28201215515566"
            ]
          },
          "metadata": {},
          "execution_count": 49
        }
      ],
      "source": [
        "#RESPUESTA El mejor modelo alcanza el siguiente score, (usando 3-fold cross validation):\n",
        "np.sqrt(-grid_search_SVR_poly.best_score_)"
      ]
    },
    {
      "cell_type": "code",
      "source": [
        "grid_search_SVR_poly.best_params_"
      ],
      "metadata": {
        "id": "VzvrK-30igKl",
        "outputId": "460fa784-53f7-40e6-d56f-25bd0c14adc4",
        "colab": {
          "base_uri": "https://localhost:8080/"
        }
      },
      "execution_count": 50,
      "outputs": [
        {
          "output_type": "execute_result",
          "data": {
            "text/plain": [
              "{'C': 8.0, 'degree': 3, 'epsilon': 0.1, 'gamma': 2.0, 'kernel': 'poly'}"
            ]
          },
          "metadata": {},
          "execution_count": 50
        }
      ]
    },
    {
      "cell_type": "code",
      "source": [
        "cvres = grid_search_SVR_poly.cv_results_\n",
        "for mean_score, params in zip(cvres[\"mean_test_score\"], cvres[\"params\"]):\n",
        "    print(np.sqrt(-mean_score), params)"
      ],
      "metadata": {
        "id": "s0v5UxNHilfI",
        "outputId": "cf9ed899-4bfc-4628-961b-0b6414fe7fb6",
        "colab": {
          "base_uri": "https://localhost:8080/"
        }
      },
      "execution_count": 52,
      "outputs": [
        {
          "output_type": "stream",
          "name": "stdout",
          "text": [
            "79.30267251616877 {'C': 3.0, 'degree': 3, 'epsilon': 0.1, 'gamma': 0.1, 'kernel': 'poly'}\n",
            "79.30170434322633 {'C': 3.0, 'degree': 3, 'epsilon': 0.1, 'gamma': 1.0, 'kernel': 'poly'}\n",
            "79.29940288382254 {'C': 3.0, 'degree': 3, 'epsilon': 0.1, 'gamma': 1.5, 'kernel': 'poly'}\n",
            "79.29492211698259 {'C': 3.0, 'degree': 3, 'epsilon': 0.1, 'gamma': 2.0, 'kernel': 'poly'}\n",
            "79.3524575387682 {'C': 3.0, 'degree': 3, 'epsilon': 1.0, 'gamma': 0.1, 'kernel': 'poly'}\n",
            "79.35152248923097 {'C': 3.0, 'degree': 3, 'epsilon': 1.0, 'gamma': 1.0, 'kernel': 'poly'}\n",
            "79.34929968097126 {'C': 3.0, 'degree': 3, 'epsilon': 1.0, 'gamma': 1.5, 'kernel': 'poly'}\n",
            "79.34497169019114 {'C': 3.0, 'degree': 3, 'epsilon': 1.0, 'gamma': 2.0, 'kernel': 'poly'}\n",
            "79.43758217101598 {'C': 3.0, 'degree': 3, 'epsilon': 1.5, 'gamma': 0.1, 'kernel': 'poly'}\n",
            "79.43662533536938 {'C': 3.0, 'degree': 3, 'epsilon': 1.5, 'gamma': 1.0, 'kernel': 'poly'}\n",
            "79.43435071744388 {'C': 3.0, 'degree': 3, 'epsilon': 1.5, 'gamma': 1.5, 'kernel': 'poly'}\n",
            "79.42992187838657 {'C': 3.0, 'degree': 3, 'epsilon': 1.5, 'gamma': 2.0, 'kernel': 'poly'}\n",
            "79.3026734853357 {'C': 3.0, 'degree': 5, 'epsilon': 0.1, 'gamma': 0.1, 'kernel': 'poly'}\n",
            "79.3026728097491 {'C': 3.0, 'degree': 5, 'epsilon': 0.1, 'gamma': 1.0, 'kernel': 'poly'}\n",
            "79.30266835505807 {'C': 3.0, 'degree': 5, 'epsilon': 0.1, 'gamma': 1.5, 'kernel': 'poly'}\n",
            "79.30265186640759 {'C': 3.0, 'degree': 5, 'epsilon': 0.1, 'gamma': 2.0, 'kernel': 'poly'}\n",
            "79.3524584747673 {'C': 3.0, 'degree': 5, 'epsilon': 1.0, 'gamma': 0.1, 'kernel': 'poly'}\n",
            "79.35245786676711 {'C': 3.0, 'degree': 5, 'epsilon': 1.0, 'gamma': 1.0, 'kernel': 'poly'}\n",
            "79.3524538577278 {'C': 3.0, 'degree': 5, 'epsilon': 1.0, 'gamma': 1.5, 'kernel': 'poly'}\n",
            "79.35243901861216 {'C': 3.0, 'degree': 5, 'epsilon': 1.0, 'gamma': 2.0, 'kernel': 'poly'}\n",
            "79.43758314011191 {'C': 3.0, 'degree': 5, 'epsilon': 1.5, 'gamma': 0.1, 'kernel': 'poly'}\n",
            "79.43758252026876 {'C': 3.0, 'degree': 5, 'epsilon': 1.5, 'gamma': 1.0, 'kernel': 'poly'}\n",
            "79.43757843313912 {'C': 3.0, 'degree': 5, 'epsilon': 1.5, 'gamma': 1.5, 'kernel': 'poly'}\n",
            "79.43756330497855 {'C': 3.0, 'degree': 5, 'epsilon': 1.5, 'gamma': 2.0, 'kernel': 'poly'}\n",
            "79.30267348534244 {'C': 3.0, 'degree': 8, 'epsilon': 0.1, 'gamma': 0.1, 'kernel': 'poly'}\n",
            "79.30267348537177 {'C': 3.0, 'degree': 8, 'epsilon': 0.1, 'gamma': 1.0, 'kernel': 'poly'}\n",
            "79.30267348609374 {'C': 3.0, 'degree': 8, 'epsilon': 0.1, 'gamma': 1.5, 'kernel': 'poly'}\n",
            "79.3026734928469 {'C': 3.0, 'degree': 8, 'epsilon': 0.1, 'gamma': 2.0, 'kernel': 'poly'}\n",
            "79.35245847477337 {'C': 3.0, 'degree': 8, 'epsilon': 1.0, 'gamma': 0.1, 'kernel': 'poly'}\n",
            "79.3524584748031 {'C': 3.0, 'degree': 8, 'epsilon': 1.0, 'gamma': 1.0, 'kernel': 'poly'}\n",
            "79.35245847553527 {'C': 3.0, 'degree': 8, 'epsilon': 1.0, 'gamma': 1.5, 'kernel': 'poly'}\n",
            "79.35245848238384 {'C': 3.0, 'degree': 8, 'epsilon': 1.0, 'gamma': 2.0, 'kernel': 'poly'}\n",
            "79.4375831401181 {'C': 3.0, 'degree': 8, 'epsilon': 1.5, 'gamma': 0.1, 'kernel': 'poly'}\n",
            "79.43758314014754 {'C': 3.0, 'degree': 8, 'epsilon': 1.5, 'gamma': 1.0, 'kernel': 'poly'}\n",
            "79.43758314087266 {'C': 3.0, 'degree': 8, 'epsilon': 1.5, 'gamma': 1.5, 'kernel': 'poly'}\n",
            "79.43758314765516 {'C': 3.0, 'degree': 8, 'epsilon': 1.5, 'gamma': 2.0, 'kernel': 'poly'}\n",
            "79.30267187005303 {'C': 5.0, 'degree': 3, 'epsilon': 0.1, 'gamma': 0.1, 'kernel': 'poly'}\n",
            "79.3010582835702 {'C': 5.0, 'degree': 3, 'epsilon': 0.1, 'gamma': 1.0, 'kernel': 'poly'}\n",
            "79.29722288251378 {'C': 5.0, 'degree': 3, 'epsilon': 0.1, 'gamma': 1.5, 'kernel': 'poly'}\n",
            "79.28975678421638 {'C': 5.0, 'degree': 3, 'epsilon': 0.1, 'gamma': 2.0, 'kernel': 'poly'}\n",
            "79.35245691476479 {'C': 5.0, 'degree': 3, 'epsilon': 1.0, 'gamma': 0.1, 'kernel': 'poly'}\n",
            "79.3508985206883 {'C': 5.0, 'degree': 3, 'epsilon': 1.0, 'gamma': 1.0, 'kernel': 'poly'}\n",
            "79.3471940669865 {'C': 5.0, 'degree': 3, 'epsilon': 1.0, 'gamma': 1.5, 'kernel': 'poly'}\n",
            "79.33998189718963 {'C': 5.0, 'degree': 3, 'epsilon': 1.0, 'gamma': 2.0, 'kernel': 'poly'}\n",
            "79.43758152494794 {'C': 5.0, 'degree': 3, 'epsilon': 1.5, 'gamma': 0.1, 'kernel': 'poly'}\n",
            "79.4359868222069 {'C': 5.0, 'degree': 3, 'epsilon': 1.5, 'gamma': 1.0, 'kernel': 'poly'}\n",
            "79.43219603483399 {'C': 5.0, 'degree': 3, 'epsilon': 1.5, 'gamma': 1.5, 'kernel': 'poly'}\n",
            "79.42481586444886 {'C': 5.0, 'degree': 3, 'epsilon': 1.5, 'gamma': 2.0, 'kernel': 'poly'}\n",
            "79.30267348533118 {'C': 5.0, 'degree': 5, 'epsilon': 0.1, 'gamma': 0.1, 'kernel': 'poly'}\n",
            "79.30267235935358 {'C': 5.0, 'degree': 5, 'epsilon': 0.1, 'gamma': 1.0, 'kernel': 'poly'}\n",
            "79.30266493487186 {'C': 5.0, 'degree': 5, 'epsilon': 0.1, 'gamma': 1.5, 'kernel': 'poly'}\n",
            "79.30263745384462 {'C': 5.0, 'degree': 5, 'epsilon': 0.1, 'gamma': 2.0, 'kernel': 'poly'}\n",
            "79.35245847476324 {'C': 5.0, 'degree': 5, 'epsilon': 1.0, 'gamma': 0.1, 'kernel': 'poly'}\n",
            "79.35245746142964 {'C': 5.0, 'degree': 5, 'epsilon': 1.0, 'gamma': 1.0, 'kernel': 'poly'}\n",
            "79.35245077969995 {'C': 5.0, 'degree': 5, 'epsilon': 1.0, 'gamma': 1.5, 'kernel': 'poly'}\n",
            "79.3524260478831 {'C': 5.0, 'degree': 5, 'epsilon': 1.0, 'gamma': 2.0, 'kernel': 'poly'}\n",
            "79.43758314010775 {'C': 5.0, 'degree': 5, 'epsilon': 1.5, 'gamma': 0.1, 'kernel': 'poly'}\n",
            "79.4375821070359 {'C': 5.0, 'degree': 5, 'epsilon': 1.5, 'gamma': 1.0, 'kernel': 'poly'}\n",
            "79.43757529515572 {'C': 5.0, 'degree': 5, 'epsilon': 1.5, 'gamma': 1.5, 'kernel': 'poly'}\n",
            "79.43755008159745 {'C': 5.0, 'degree': 5, 'epsilon': 1.5, 'gamma': 2.0, 'kernel': 'poly'}\n",
            "79.30267348534244 {'C': 5.0, 'degree': 8, 'epsilon': 0.1, 'gamma': 0.1, 'kernel': 'poly'}\n",
            "79.30267348539132 {'C': 5.0, 'degree': 8, 'epsilon': 0.1, 'gamma': 1.0, 'kernel': 'poly'}\n",
            "79.3026734865946 {'C': 5.0, 'degree': 8, 'epsilon': 0.1, 'gamma': 1.5, 'kernel': 'poly'}\n",
            "79.30267349784987 {'C': 5.0, 'degree': 8, 'epsilon': 0.1, 'gamma': 2.0, 'kernel': 'poly'}\n",
            "79.35245847477337 {'C': 5.0, 'degree': 8, 'epsilon': 1.0, 'gamma': 0.1, 'kernel': 'poly'}\n",
            "79.35245847482292 {'C': 5.0, 'degree': 8, 'epsilon': 1.0, 'gamma': 1.0, 'kernel': 'poly'}\n",
            "79.35245847604322 {'C': 5.0, 'degree': 8, 'epsilon': 1.0, 'gamma': 1.5, 'kernel': 'poly'}\n",
            "79.3524584874575 {'C': 5.0, 'degree': 8, 'epsilon': 1.0, 'gamma': 2.0, 'kernel': 'poly'}\n",
            "79.4375831401181 {'C': 5.0, 'degree': 8, 'epsilon': 1.5, 'gamma': 0.1, 'kernel': 'poly'}\n",
            "79.43758314016716 {'C': 5.0, 'degree': 8, 'epsilon': 1.5, 'gamma': 1.0, 'kernel': 'poly'}\n",
            "79.4375831413757 {'C': 5.0, 'degree': 8, 'epsilon': 1.5, 'gamma': 1.5, 'kernel': 'poly'}\n",
            "79.43758315267988 {'C': 5.0, 'degree': 8, 'epsilon': 1.5, 'gamma': 2.0, 'kernel': 'poly'}\n",
            "79.30267090087948 {'C': 8.0, 'degree': 3, 'epsilon': 0.1, 'gamma': 0.1, 'kernel': 'poly'}\n",
            "79.30008924671962 {'C': 8.0, 'degree': 3, 'epsilon': 0.1, 'gamma': 1.0, 'kernel': 'poly'}\n",
            "79.29395348017331 {'C': 8.0, 'degree': 3, 'epsilon': 0.1, 'gamma': 1.5, 'kernel': 'poly'}\n",
            "79.28201215515566 {'C': 8.0, 'degree': 3, 'epsilon': 0.1, 'gamma': 2.0, 'kernel': 'poly'}\n",
            "79.35245597875969 {'C': 8.0, 'degree': 3, 'epsilon': 1.0, 'gamma': 0.1, 'kernel': 'poly'}\n",
            "79.34996260060377 {'C': 8.0, 'degree': 3, 'epsilon': 1.0, 'gamma': 1.0, 'kernel': 'poly'}\n",
            "79.34403601887394 {'C': 8.0, 'degree': 3, 'epsilon': 1.0, 'gamma': 1.5, 'kernel': 'poly'}\n",
            "79.33249930329437 {'C': 8.0, 'degree': 3, 'epsilon': 1.0, 'gamma': 2.0, 'kernel': 'poly'}\n",
            "79.43758055584591 {'C': 8.0, 'degree': 3, 'epsilon': 1.5, 'gamma': 0.1, 'kernel': 'poly'}\n",
            "79.43502908746933 {'C': 8.0, 'degree': 3, 'epsilon': 1.5, 'gamma': 1.0, 'kernel': 'poly'}\n",
            "79.42896440972187 {'C': 8.0, 'degree': 3, 'epsilon': 1.5, 'gamma': 1.5, 'kernel': 'poly'}\n",
            "79.41715908494356 {'C': 8.0, 'degree': 3, 'epsilon': 1.5, 'gamma': 2.0, 'kernel': 'poly'}\n",
            "79.30267348532443 {'C': 8.0, 'degree': 5, 'epsilon': 0.1, 'gamma': 0.1, 'kernel': 'poly'}\n",
            "79.30267168376041 {'C': 8.0, 'degree': 5, 'epsilon': 0.1, 'gamma': 1.0, 'kernel': 'poly'}\n",
            "79.30265980459765 {'C': 8.0, 'degree': 5, 'epsilon': 0.1, 'gamma': 1.5, 'kernel': 'poly'}\n",
            "79.30261583509068 {'C': 8.0, 'degree': 5, 'epsilon': 0.1, 'gamma': 2.0, 'kernel': 'poly'}\n",
            "79.35245847475716 {'C': 8.0, 'degree': 5, 'epsilon': 1.0, 'gamma': 0.1, 'kernel': 'poly'}\n",
            "79.3524568534235 {'C': 8.0, 'degree': 5, 'epsilon': 1.0, 'gamma': 1.0, 'kernel': 'poly'}\n",
            "79.35244616266196 {'C': 8.0, 'degree': 5, 'epsilon': 1.0, 'gamma': 1.5, 'kernel': 'poly'}\n",
            "79.35240659185715 {'C': 8.0, 'degree': 5, 'epsilon': 1.0, 'gamma': 2.0, 'kernel': 'poly'}\n",
            "79.43758314010157 {'C': 8.0, 'degree': 5, 'epsilon': 1.5, 'gamma': 0.1, 'kernel': 'poly'}\n",
            "79.43758148718666 {'C': 8.0, 'degree': 5, 'epsilon': 1.5, 'gamma': 1.0, 'kernel': 'poly'}\n",
            "79.43757058818441 {'C': 8.0, 'degree': 5, 'epsilon': 1.5, 'gamma': 1.5, 'kernel': 'poly'}\n",
            "79.43753024659381 {'C': 8.0, 'degree': 5, 'epsilon': 1.5, 'gamma': 2.0, 'kernel': 'poly'}\n",
            "79.30267348534244 {'C': 8.0, 'degree': 8, 'epsilon': 0.1, 'gamma': 0.1, 'kernel': 'poly'}\n",
            "79.30267348542061 {'C': 8.0, 'degree': 8, 'epsilon': 0.1, 'gamma': 1.0, 'kernel': 'poly'}\n",
            "79.3026734873459 {'C': 8.0, 'degree': 8, 'epsilon': 0.1, 'gamma': 1.5, 'kernel': 'poly'}\n",
            "79.30267350535432 {'C': 8.0, 'degree': 8, 'epsilon': 0.1, 'gamma': 2.0, 'kernel': 'poly'}\n",
            "79.35245847477337 {'C': 8.0, 'degree': 8, 'epsilon': 1.0, 'gamma': 0.1, 'kernel': 'poly'}\n",
            "79.35245847485263 {'C': 8.0, 'degree': 8, 'epsilon': 1.0, 'gamma': 1.0, 'kernel': 'poly'}\n",
            "79.35245847680513 {'C': 8.0, 'degree': 8, 'epsilon': 1.0, 'gamma': 1.5, 'kernel': 'poly'}\n",
            "79.35245849506795 {'C': 8.0, 'degree': 8, 'epsilon': 1.0, 'gamma': 2.0, 'kernel': 'poly'}\n",
            "79.4375831401181 {'C': 8.0, 'degree': 8, 'epsilon': 1.5, 'gamma': 0.1, 'kernel': 'poly'}\n",
            "79.4375831401966 {'C': 8.0, 'degree': 8, 'epsilon': 1.5, 'gamma': 1.0, 'kernel': 'poly'}\n",
            "79.43758314213025 {'C': 8.0, 'degree': 8, 'epsilon': 1.5, 'gamma': 1.5, 'kernel': 'poly'}\n",
            "79.43758316021693 {'C': 8.0, 'degree': 8, 'epsilon': 1.5, 'gamma': 2.0, 'kernel': 'poly'}\n"
          ]
        }
      ]
    },
    {
      "cell_type": "code",
      "source": [
        "#SOLUCIÓN\n",
        "%%time\n",
        "#SOLUCIÓN\n",
        "param_grid = {\n",
        "    'kernel': ['sigmoid'],\n",
        "    'C': [3.0, 5.0, 8.0],\n",
        "    'gamma': [0.1, 1.0, 1.5, 2.0],\n",
        "    'epsilon': [0.1, 1.0, 1.5]\n",
        "    }\n",
        "\n",
        "grid_search_SVR_sigmoid = GridSearchCV(svm_reg, param_grid, cv=3,\n",
        "                           scoring='neg_mean_squared_error',\n",
        "                           refit= True, verbose=2, n_jobs=-1)\n",
        "grid_search_SVR_sigmoid.fit(X_train, y_train) # Reentrena el mejor método obtenido"
      ],
      "metadata": {
        "id": "15JRLwsPjZea",
        "outputId": "0ffd0755-427c-43ea-93e3-69556c30108d",
        "colab": {
          "base_uri": "https://localhost:8080/",
          "height": 170
        }
      },
      "execution_count": 64,
      "outputs": [
        {
          "output_type": "stream",
          "name": "stdout",
          "text": [
            "Fitting 3 folds for each of 36 candidates, totalling 108 fits\n",
            "CPU times: user 91.6 ms, sys: 3.83 ms, total: 95.4 ms\n",
            "Wall time: 1.07 s\n"
          ]
        },
        {
          "output_type": "execute_result",
          "data": {
            "text/plain": [
              "GridSearchCV(cv=3, estimator=SVR(), n_jobs=-1,\n",
              "             param_grid={'C': [3.0, 5.0, 8.0], 'epsilon': [0.1, 1.0, 1.5],\n",
              "                         'gamma': [0.1, 1.0, 1.5, 2.0], 'kernel': ['sigmoid']},\n",
              "             scoring='neg_mean_squared_error', verbose=2)"
            ],
            "text/html": [
              "<style>#sk-container-id-10 {color: black;background-color: white;}#sk-container-id-10 pre{padding: 0;}#sk-container-id-10 div.sk-toggleable {background-color: white;}#sk-container-id-10 label.sk-toggleable__label {cursor: pointer;display: block;width: 100%;margin-bottom: 0;padding: 0.3em;box-sizing: border-box;text-align: center;}#sk-container-id-10 label.sk-toggleable__label-arrow:before {content: \"▸\";float: left;margin-right: 0.25em;color: #696969;}#sk-container-id-10 label.sk-toggleable__label-arrow:hover:before {color: black;}#sk-container-id-10 div.sk-estimator:hover label.sk-toggleable__label-arrow:before {color: black;}#sk-container-id-10 div.sk-toggleable__content {max-height: 0;max-width: 0;overflow: hidden;text-align: left;background-color: #f0f8ff;}#sk-container-id-10 div.sk-toggleable__content pre {margin: 0.2em;color: black;border-radius: 0.25em;background-color: #f0f8ff;}#sk-container-id-10 input.sk-toggleable__control:checked~div.sk-toggleable__content {max-height: 200px;max-width: 100%;overflow: auto;}#sk-container-id-10 input.sk-toggleable__control:checked~label.sk-toggleable__label-arrow:before {content: \"▾\";}#sk-container-id-10 div.sk-estimator input.sk-toggleable__control:checked~label.sk-toggleable__label {background-color: #d4ebff;}#sk-container-id-10 div.sk-label input.sk-toggleable__control:checked~label.sk-toggleable__label {background-color: #d4ebff;}#sk-container-id-10 input.sk-hidden--visually {border: 0;clip: rect(1px 1px 1px 1px);clip: rect(1px, 1px, 1px, 1px);height: 1px;margin: -1px;overflow: hidden;padding: 0;position: absolute;width: 1px;}#sk-container-id-10 div.sk-estimator {font-family: monospace;background-color: #f0f8ff;border: 1px dotted black;border-radius: 0.25em;box-sizing: border-box;margin-bottom: 0.5em;}#sk-container-id-10 div.sk-estimator:hover {background-color: #d4ebff;}#sk-container-id-10 div.sk-parallel-item::after {content: \"\";width: 100%;border-bottom: 1px solid gray;flex-grow: 1;}#sk-container-id-10 div.sk-label:hover label.sk-toggleable__label {background-color: #d4ebff;}#sk-container-id-10 div.sk-serial::before {content: \"\";position: absolute;border-left: 1px solid gray;box-sizing: border-box;top: 0;bottom: 0;left: 50%;z-index: 0;}#sk-container-id-10 div.sk-serial {display: flex;flex-direction: column;align-items: center;background-color: white;padding-right: 0.2em;padding-left: 0.2em;position: relative;}#sk-container-id-10 div.sk-item {position: relative;z-index: 1;}#sk-container-id-10 div.sk-parallel {display: flex;align-items: stretch;justify-content: center;background-color: white;position: relative;}#sk-container-id-10 div.sk-item::before, #sk-container-id-10 div.sk-parallel-item::before {content: \"\";position: absolute;border-left: 1px solid gray;box-sizing: border-box;top: 0;bottom: 0;left: 50%;z-index: -1;}#sk-container-id-10 div.sk-parallel-item {display: flex;flex-direction: column;z-index: 1;position: relative;background-color: white;}#sk-container-id-10 div.sk-parallel-item:first-child::after {align-self: flex-end;width: 50%;}#sk-container-id-10 div.sk-parallel-item:last-child::after {align-self: flex-start;width: 50%;}#sk-container-id-10 div.sk-parallel-item:only-child::after {width: 0;}#sk-container-id-10 div.sk-dashed-wrapped {border: 1px dashed gray;margin: 0 0.4em 0.5em 0.4em;box-sizing: border-box;padding-bottom: 0.4em;background-color: white;}#sk-container-id-10 div.sk-label label {font-family: monospace;font-weight: bold;display: inline-block;line-height: 1.2em;}#sk-container-id-10 div.sk-label-container {text-align: center;}#sk-container-id-10 div.sk-container {/* jupyter's `normalize.less` sets `[hidden] { display: none; }` but bootstrap.min.css set `[hidden] { display: none !important; }` so we also need the `!important` here to be able to override the default hidden behavior on the sphinx rendered scikit-learn.org. See: https://github.com/scikit-learn/scikit-learn/issues/21755 */display: inline-block !important;position: relative;}#sk-container-id-10 div.sk-text-repr-fallback {display: none;}</style><div id=\"sk-container-id-10\" class=\"sk-top-container\"><div class=\"sk-text-repr-fallback\"><pre>GridSearchCV(cv=3, estimator=SVR(), n_jobs=-1,\n",
              "             param_grid={&#x27;C&#x27;: [3.0, 5.0, 8.0], &#x27;epsilon&#x27;: [0.1, 1.0, 1.5],\n",
              "                         &#x27;gamma&#x27;: [0.1, 1.0, 1.5, 2.0], &#x27;kernel&#x27;: [&#x27;sigmoid&#x27;]},\n",
              "             scoring=&#x27;neg_mean_squared_error&#x27;, verbose=2)</pre><b>In a Jupyter environment, please rerun this cell to show the HTML representation or trust the notebook. <br />On GitHub, the HTML representation is unable to render, please try loading this page with nbviewer.org.</b></div><div class=\"sk-container\" hidden><div class=\"sk-item sk-dashed-wrapped\"><div class=\"sk-label-container\"><div class=\"sk-label sk-toggleable\"><input class=\"sk-toggleable__control sk-hidden--visually\" id=\"sk-estimator-id-26\" type=\"checkbox\" ><label for=\"sk-estimator-id-26\" class=\"sk-toggleable__label sk-toggleable__label-arrow\">GridSearchCV</label><div class=\"sk-toggleable__content\"><pre>GridSearchCV(cv=3, estimator=SVR(), n_jobs=-1,\n",
              "             param_grid={&#x27;C&#x27;: [3.0, 5.0, 8.0], &#x27;epsilon&#x27;: [0.1, 1.0, 1.5],\n",
              "                         &#x27;gamma&#x27;: [0.1, 1.0, 1.5, 2.0], &#x27;kernel&#x27;: [&#x27;sigmoid&#x27;]},\n",
              "             scoring=&#x27;neg_mean_squared_error&#x27;, verbose=2)</pre></div></div></div><div class=\"sk-parallel\"><div class=\"sk-parallel-item\"><div class=\"sk-item\"><div class=\"sk-label-container\"><div class=\"sk-label sk-toggleable\"><input class=\"sk-toggleable__control sk-hidden--visually\" id=\"sk-estimator-id-27\" type=\"checkbox\" ><label for=\"sk-estimator-id-27\" class=\"sk-toggleable__label sk-toggleable__label-arrow\">estimator: SVR</label><div class=\"sk-toggleable__content\"><pre>SVR()</pre></div></div></div><div class=\"sk-serial\"><div class=\"sk-item\"><div class=\"sk-estimator sk-toggleable\"><input class=\"sk-toggleable__control sk-hidden--visually\" id=\"sk-estimator-id-28\" type=\"checkbox\" ><label for=\"sk-estimator-id-28\" class=\"sk-toggleable__label sk-toggleable__label-arrow\">SVR</label><div class=\"sk-toggleable__content\"><pre>SVR()</pre></div></div></div></div></div></div></div></div></div></div>"
            ]
          },
          "metadata": {},
          "execution_count": 64
        }
      ]
    },
    {
      "cell_type": "code",
      "source": [
        "#El mejor modelo alcanza el siguiente score, (usando 3-fold cross validation):\n",
        "np.sqrt(-grid_search_SVR_sigmoid.best_score_)"
      ],
      "metadata": {
        "id": "ITXwomVVjjUw",
        "outputId": "a2070a4e-e405-4ae8-cbad-20380073d7fb",
        "colab": {
          "base_uri": "https://localhost:8080/"
        }
      },
      "execution_count": 65,
      "outputs": [
        {
          "output_type": "execute_result",
          "data": {
            "text/plain": [
              "72.0495110263543"
            ]
          },
          "metadata": {},
          "execution_count": 65
        }
      ]
    },
    {
      "cell_type": "code",
      "source": [
        "grid_search_SVR_sigmoid.best_params_"
      ],
      "metadata": {
        "id": "PiMl1fjgjlZT",
        "outputId": "eb6ee5c3-ae26-4cc4-a639-a54b4f72d1e6",
        "colab": {
          "base_uri": "https://localhost:8080/"
        }
      },
      "execution_count": 66,
      "outputs": [
        {
          "output_type": "execute_result",
          "data": {
            "text/plain": [
              "{'C': 8.0, 'epsilon': 1.5, 'gamma': 2.0, 'kernel': 'sigmoid'}"
            ]
          },
          "metadata": {},
          "execution_count": 66
        }
      ]
    },
    {
      "cell_type": "code",
      "source": [
        "cvres = grid_search_SVR_sigmoid.cv_results_\n",
        "for mean_score, params in zip(cvres[\"mean_test_score\"], cvres[\"params\"]):\n",
        "    print(np.sqrt(-mean_score), params)"
      ],
      "metadata": {
        "id": "TiKnFE8jjn--",
        "outputId": "b24406d3-ce2c-4a6a-d9a8-dae4398d63bf",
        "colab": {
          "base_uri": "https://localhost:8080/"
        }
      },
      "execution_count": 67,
      "outputs": [
        {
          "output_type": "stream",
          "name": "stdout",
          "text": [
            "79.07329585309176 {'C': 3.0, 'epsilon': 0.1, 'gamma': 0.1, 'kernel': 'sigmoid'}\n",
            "77.47740850143389 {'C': 3.0, 'epsilon': 0.1, 'gamma': 1.0, 'kernel': 'sigmoid'}\n",
            "76.72878785657164 {'C': 3.0, 'epsilon': 0.1, 'gamma': 1.5, 'kernel': 'sigmoid'}\n",
            "75.99200977091292 {'C': 3.0, 'epsilon': 0.1, 'gamma': 2.0, 'kernel': 'sigmoid'}\n",
            "79.11983721411829 {'C': 3.0, 'epsilon': 1.0, 'gamma': 0.1, 'kernel': 'sigmoid'}\n",
            "77.53313364330265 {'C': 3.0, 'epsilon': 1.0, 'gamma': 1.0, 'kernel': 'sigmoid'}\n",
            "76.72051415670816 {'C': 3.0, 'epsilon': 1.0, 'gamma': 1.5, 'kernel': 'sigmoid'}\n",
            "76.00448453082797 {'C': 3.0, 'epsilon': 1.0, 'gamma': 2.0, 'kernel': 'sigmoid'}\n",
            "79.19822608219674 {'C': 3.0, 'epsilon': 1.5, 'gamma': 0.1, 'kernel': 'sigmoid'}\n",
            "77.61998769289636 {'C': 3.0, 'epsilon': 1.5, 'gamma': 1.0, 'kernel': 'sigmoid'}\n",
            "76.7742950349117 {'C': 3.0, 'epsilon': 1.5, 'gamma': 1.5, 'kernel': 'sigmoid'}\n",
            "76.09623867032974 {'C': 3.0, 'epsilon': 1.5, 'gamma': 2.0, 'kernel': 'sigmoid'}\n",
            "78.9213158098824 {'C': 5.0, 'epsilon': 0.1, 'gamma': 0.1, 'kernel': 'sigmoid'}\n",
            "76.47790971780158 {'C': 5.0, 'epsilon': 0.1, 'gamma': 1.0, 'kernel': 'sigmoid'}\n",
            "75.31182516945192 {'C': 5.0, 'epsilon': 0.1, 'gamma': 1.5, 'kernel': 'sigmoid'}\n",
            "74.24643358789429 {'C': 5.0, 'epsilon': 0.1, 'gamma': 2.0, 'kernel': 'sigmoid'}\n",
            "78.97929660470126 {'C': 5.0, 'epsilon': 1.0, 'gamma': 0.1, 'kernel': 'sigmoid'}\n",
            "76.46922629262264 {'C': 5.0, 'epsilon': 1.0, 'gamma': 1.0, 'kernel': 'sigmoid'}\n",
            "75.35734765585792 {'C': 5.0, 'epsilon': 1.0, 'gamma': 1.5, 'kernel': 'sigmoid'}\n",
            "74.25358399174341 {'C': 5.0, 'epsilon': 1.0, 'gamma': 2.0, 'kernel': 'sigmoid'}\n",
            "79.05377106216429 {'C': 5.0, 'epsilon': 1.5, 'gamma': 0.1, 'kernel': 'sigmoid'}\n",
            "76.5362056636264 {'C': 5.0, 'epsilon': 1.5, 'gamma': 1.0, 'kernel': 'sigmoid'}\n",
            "75.41011934807015 {'C': 5.0, 'epsilon': 1.5, 'gamma': 1.5, 'kernel': 'sigmoid'}\n",
            "74.26374266712934 {'C': 5.0, 'epsilon': 1.5, 'gamma': 2.0, 'kernel': 'sigmoid'}\n",
            "78.73482220469424 {'C': 8.0, 'epsilon': 0.1, 'gamma': 0.1, 'kernel': 'sigmoid'}\n",
            "75.10065385276265 {'C': 8.0, 'epsilon': 0.1, 'gamma': 1.0, 'kernel': 'sigmoid'}\n",
            "73.43166264174569 {'C': 8.0, 'epsilon': 0.1, 'gamma': 1.5, 'kernel': 'sigmoid'}\n",
            "72.05401793645954 {'C': 8.0, 'epsilon': 0.1, 'gamma': 2.0, 'kernel': 'sigmoid'}\n",
            "78.79511876040878 {'C': 8.0, 'epsilon': 1.0, 'gamma': 0.1, 'kernel': 'sigmoid'}\n",
            "75.13522884019316 {'C': 8.0, 'epsilon': 1.0, 'gamma': 1.0, 'kernel': 'sigmoid'}\n",
            "73.51431611429152 {'C': 8.0, 'epsilon': 1.0, 'gamma': 1.5, 'kernel': 'sigmoid'}\n",
            "72.07515987643372 {'C': 8.0, 'epsilon': 1.0, 'gamma': 2.0, 'kernel': 'sigmoid'}\n",
            "78.84380485768588 {'C': 8.0, 'epsilon': 1.5, 'gamma': 0.1, 'kernel': 'sigmoid'}\n",
            "75.16095010970083 {'C': 8.0, 'epsilon': 1.5, 'gamma': 1.0, 'kernel': 'sigmoid'}\n",
            "73.55922540781897 {'C': 8.0, 'epsilon': 1.5, 'gamma': 1.5, 'kernel': 'sigmoid'}\n",
            "72.0495110263543 {'C': 8.0, 'epsilon': 1.5, 'gamma': 2.0, 'kernel': 'sigmoid'}\n"
          ]
        }
      ]
    },
    {
      "cell_type": "markdown",
      "source": [
        "Nuevamente las conclusiones son las mismas para C, gamma y epsilon, cuanto mayores, mejores resultados obtenemos. No ocurre lo mismo con el grado/degree ya que es un parámetro que funciona diferente y tiene que ver con la naturaleza del modelo cuando es polinómico. Se trata del grado del polinomio utilizado en la regresión. No necesariamente cuanto más grande sea obtendremos un mejor resultado."
      ],
      "metadata": {
        "id": "_Vx-1U2EioUI"
      }
    },
    {
      "cell_type": "markdown",
      "metadata": {
        "id": "kP5cASVbctTG"
      },
      "source": [
        "# Curva de validación"
      ]
    },
    {
      "cell_type": "markdown",
      "metadata": {
        "id": "dNd7plWccxHy"
      },
      "source": [
        "Determina los resultados del modelo cuando varía el valor de un parámetro. Para ello realiza validación cruzada sobre el conjunto de entrenamiento y permite representar los resultados (sobre entrenamiento y validación) para detectar, por ejemplo, si variar un determinado valor produce sobreentrenamiento.\n",
        "\n",
        "Es similar a una búsqueda en red pero con un único parámetro.\n",
        "\n"
      ]
    },
    {
      "cell_type": "code",
      "execution_count": null,
      "metadata": {
        "id": "1UIQN6kQaaQ-"
      },
      "outputs": [],
      "source": [
        "import matplotlib.pyplot as plt\n",
        "import numpy as np\n",
        "from sklearn.model_selection import validation_curve\n",
        "\n",
        "#Lista de parámetros\n",
        "param_range = list(range(2,10,2))\n",
        "\n",
        "#Curva de validación\n",
        "train_scores, validation_scores = validation_curve(\n",
        "    forest_reg, X_train, y_train, param_name=\"max_depth\", param_range=param_range,\n",
        "    scoring='neg_root_mean_squared_error', cv=3, n_jobs=1)\n",
        "\n",
        "#Pintamos la curva\n",
        "train_scores_mean = np.mean(train_scores, axis=1)\n",
        "train_scores_std = np.std(train_scores, axis=1)\n",
        "validation_scores_mean = np.mean(validation_scores, axis=1)\n",
        "validation_scores_std = np.std(validation_scores, axis=1)\n",
        "\n",
        "plt.title(\"Curva de validation para forest regressor\")\n",
        "plt.xlabel(r\"max_depth\")\n",
        "plt.ylabel(\"Score\")\n",
        "lw = 2\n",
        "plt.plot(param_range, train_scores_mean, label=\"Training score\",\n",
        "             color=\"darkorange\", lw=lw)\n",
        "plt.fill_between(param_range, train_scores_mean - train_scores_std,\n",
        "                 train_scores_mean + train_scores_std, alpha=0.2,\n",
        "                 color=\"darkorange\", lw=lw)\n",
        "plt.plot(param_range, validation_scores_mean, label=\"Cross-validation score\",\n",
        "             color=\"navy\", lw=lw)\n",
        "plt.fill_between(param_range, validation_scores_mean - validation_scores_std,\n",
        "                 validation_scores_mean + validation_scores_std, alpha=0.2,\n",
        "                 color=\"navy\", lw=lw)\n",
        "plt.legend(loc=\"best\")\n",
        "plt.show()"
      ]
    },
    {
      "cell_type": "markdown",
      "metadata": {
        "id": "YrdHpwvCk3OJ"
      },
      "source": [
        "Se observa que variar el parámetro \"máxima profundidad\" mejora el entrenamiento, pero produce sobre-entrenamiento. De hecho aumenta ligeramente el resultado hasta 4 características y después disminuye."
      ]
    },
    {
      "cell_type": "markdown",
      "metadata": {
        "id": "SFowrnqcYijK"
      },
      "source": [
        "## Ejercicios Curva de validación"
      ]
    },
    {
      "cell_type": "markdown",
      "metadata": {
        "id": "M16ayaQSYpEX"
      },
      "source": [
        "EJERCICIO: Obtén la curva de validación para método de random forest anterior para el parámetro 'n_estimators' entre 10 y 200, con incrementos de 10. Da una interpretación a la gráfica obtenida."
      ]
    },
    {
      "cell_type": "code",
      "execution_count": null,
      "metadata": {
        "id": "xW-tY1gl2TWQ"
      },
      "outputs": [],
      "source": [
        "# Solución\n",
        "%%time\n",
        "import matplotlib.pyplot as plt\n",
        "import numpy as np\n",
        "from sklearn.model_selection import validation_curve\n",
        "\n"
      ]
    },
    {
      "cell_type": "markdown",
      "metadata": {
        "id": "0YXX4BCc5xil"
      },
      "source": [
        "EJERCICIO (Extra): Obtén la curva de validación para método de SVR anterior para el parámetro 'C' entre 0.1 y 40, con incrementos de 0.5. Da una interpretación a la gráfica obtenida."
      ]
    },
    {
      "cell_type": "code",
      "execution_count": null,
      "metadata": {
        "id": "xO5JVlG-agYt"
      },
      "outputs": [],
      "source": [
        "%%time\n",
        "param_range = [x/10 for x in range(1,400,5)]  #Lista de parámetros\n",
        "\n",
        "# Solución\n",
        "\n"
      ]
    },
    {
      "cell_type": "markdown",
      "metadata": {
        "id": "0ThCLvR_iF6q"
      },
      "source": [
        "# Random Search"
      ]
    },
    {
      "cell_type": "markdown",
      "metadata": {
        "id": "ZjEb_UkTi-R2"
      },
      "source": [
        "La búsqueda aleatoria evalúa un número determinado de combinaciones seleccionando un valor aleatorio para cada hiperparámetro en cada iteración (en lugar de fijar los valores en los que buscar). Este enfoque tiene dos beneficios principales:\n",
        "\n",
        "- Si se deja que la búsqueda aleatoria se realice para, digamos, 100 iteraciones, este enfoque explorará 100 valores diferentes para cada hiperparámetro (en lugar de sólo unos pocos valores por hiperparámetro con el enfoque de búsqueda en cuadrícula).\n",
        "- Se tiene más control sobre la cantidad de computación que desea asignar a la búsqueda de hiperparámetros, simplemente estableciendo el número de iteraciones."
      ]
    },
    {
      "cell_type": "code",
      "execution_count": null,
      "metadata": {
        "id": "yn_IjSP1fapc"
      },
      "outputs": [],
      "source": [
        "%%time\n",
        "\n",
        "from sklearn.model_selection import RandomizedSearchCV\n",
        "from scipy.stats import randint\n",
        "\n",
        "# ver https://docs.scipy.org/doc/scipy/reference/stats.html\n",
        "# para documentación sobre posibles funciones de distribución de probalidad.\n",
        "\n",
        "param_distribs = {\n",
        "        'n_estimators': randint(low=30, high=300), #A uniform discrete random variable.\n",
        "        'max_features': randint(low=2, high=10)\n",
        "    }\n",
        "\n",
        "forest_reg = RandomForestRegressor(random_state=42)\n",
        "\n",
        "rnd_search_RF = RandomizedSearchCV(forest_reg, param_distributions=param_distribs,\n",
        "                                n_iter=10, cv=3, scoring='neg_mean_squared_error', random_state=42, verbose=2, n_jobs=-1)\n",
        "\n",
        "rnd_search_RF.fit(X_train, y_train)\n",
        "\n",
        "negative_mse = rnd_search_RF.best_score_\n",
        "rmse = np.sqrt(-negative_mse)\n",
        "print(\"rmse del mejor modelo\", rmse)"
      ]
    },
    {
      "cell_type": "code",
      "execution_count": null,
      "metadata": {
        "id": "q_cqK1PCmAHt"
      },
      "outputs": [],
      "source": [
        "rnd_search_RF.best_params_\n",
        "\n"
      ]
    },
    {
      "cell_type": "markdown",
      "metadata": {
        "id": "Lncgzx6Ik9qB"
      },
      "source": [
        "Las opciones que ha probado son:"
      ]
    },
    {
      "cell_type": "code",
      "execution_count": null,
      "metadata": {
        "id": "3HP_PBkTfape"
      },
      "outputs": [],
      "source": [
        "cvres = rnd_search_RF.cv_results_\n",
        "for mean_score, params in zip(cvres[\"mean_test_score\"], cvres[\"params\"]):\n",
        "    print(np.sqrt(-mean_score), params)"
      ]
    },
    {
      "cell_type": "markdown",
      "metadata": {
        "id": "nw_JI1NJkjCw"
      },
      "source": [
        "Se obtiene un error similar (es un poco peor) probando 10 candidatos."
      ]
    },
    {
      "cell_type": "markdown",
      "metadata": {
        "id": "v4dTj62WlMKf"
      },
      "source": [
        "Vamos a evaluar los mejores modelos encontrados con grid search y con random search sobre el conjunto de test.\n"
      ]
    },
    {
      "cell_type": "code",
      "execution_count": null,
      "metadata": {
        "id": "uXbryv4pfapn"
      },
      "outputs": [],
      "source": [
        "from sklearn.metrics import mean_squared_error\n",
        "\n",
        "final_model_grid_RF = grid_search_RF.best_estimator_\n",
        "\n",
        "final_predictions_grid_RF = final_model_grid_RF.predict(X_test)\n",
        "\n",
        "final_mse_grid = mean_squared_error(y_test, final_predictions_grid_RF)\n",
        "final_rmse_grid = np.sqrt(final_mse_grid)\n",
        "print('Mejor resultado con grid search sobre el conjunto de test',final_rmse_grid)"
      ]
    },
    {
      "cell_type": "code",
      "execution_count": null,
      "metadata": {
        "id": "tt7CCiTajZNI"
      },
      "outputs": [],
      "source": [
        "final_model_rnd_RF = rnd_search_RF.best_estimator_\n",
        "final_predictions_rnd_RF = final_model_rnd_RF.predict(X_test)\n",
        "\n",
        "final_mse_rnd = mean_squared_error(y_test, final_predictions_rnd_RF)\n",
        "final_rmse_rnd = np.sqrt(final_mse_rnd)\n",
        "print('Mejor resultado con random search sobre el conjunto de test', final_rmse_rnd)"
      ]
    },
    {
      "cell_type": "markdown",
      "metadata": {
        "id": "BGyFPZNvnOrX"
      },
      "source": [
        "El rendimiento que obtenemos es un poco peor en este caso, mirando menos alternativas. Debemos resistirnos a continuar haciendo ajuste de los hiperparámetros una vez testeado nuestro modelo en el conjunto de test, ya que las mejoras podrían no generalizarse a un nuevo conjunto de datos."
      ]
    },
    {
      "cell_type": "markdown",
      "metadata": {
        "id": "d6wuvHtwAb0w"
      },
      "source": [
        "## Ejercicios Random Search."
      ]
    },
    {
      "cell_type": "markdown",
      "metadata": {
        "id": "9RRJQFskALuM"
      },
      "source": [
        "EJERCICIO: Sobre el Ejercicio para Random Search para modelo Support Vector Machine Regressor cambiar la búsqueda GridSearchCV por una búsqueda RandomizedSearchCV."
      ]
    },
    {
      "cell_type": "markdown",
      "metadata": {
        "id": "bJstJDLFA2CF"
      },
      "source": [
        "Como distribuciones de búsqueda usar:\n",
        "\n",
        "- Un lista ['linear', 'rbf'] para el parámetro 'kernel'\n",
        "- loguniform(1, 20) para el parámetro 'C'\n",
        "- expon(scale=1.0) para el parámetro 'gamma'\n",
        "\n",
        "Utiliza un máximo de 10 modelos y cross validation con 3 folds.\n",
        "\n",
        "Podemos encontrar en el siguiente [enlace](https://docs.scipy.org/doc/scipy/reference/stats.html) documentación para las funciones de distribución de probabilidad `expon()` y `loguniform()`."
      ]
    },
    {
      "cell_type": "code",
      "execution_count": null,
      "metadata": {
        "id": "-7rt8TRjALuP"
      },
      "outputs": [],
      "source": [
        "#Respuesta\n",
        "%%time\n",
        "\n"
      ]
    },
    {
      "cell_type": "markdown",
      "metadata": {
        "id": "2iRQxAxWALuR"
      },
      "source": [
        "PREGUNTA:\n",
        "¿Cuál es el mejor RMSE que se obtiene?¿Cuáles son los hiperparámetros con los que ha probado?"
      ]
    },
    {
      "cell_type": "code",
      "execution_count": null,
      "metadata": {
        "id": "U499wmYgALuR"
      },
      "outputs": [],
      "source": [
        "#RESPUESTA: El mejor modelo obtiene un RMSE:\n"
      ]
    },
    {
      "cell_type": "code",
      "execution_count": null,
      "metadata": {
        "id": "LNX5H3zbALuR"
      },
      "outputs": [],
      "source": [
        "#RESPUESTA: Ha probado los siguientes hiperparámetros:\n"
      ]
    },
    {
      "cell_type": "markdown",
      "metadata": {
        "id": "0B8yzZvtALuS"
      },
      "source": [
        "PREGUNTA: ¿Se supera el resultado obtenido con Grid Search? ¿Qué parámetros obtienen el mejor resultado?"
      ]
    },
    {
      "cell_type": "code",
      "execution_count": null,
      "metadata": {
        "id": "BwNZQ5PrALuS"
      },
      "outputs": [],
      "source": [
        "#RESPUESTA:\n"
      ]
    },
    {
      "cell_type": "markdown",
      "metadata": {
        "id": "srP-jAeZALuS"
      },
      "source": [
        "En esta ocasión se ha encontrado un conjunto de hiperparámetros adecuados para el kernel RBF. La búsqueda aleatoria tiende a encontrar mejores hiperparámetros que la búsqueda en cuadrícula en la misma cantidad de tiempo."
      ]
    },
    {
      "cell_type": "markdown",
      "metadata": {
        "id": "SiDiysU4ALuT"
      },
      "source": [
        "EJERCICIO (Extra): Fijarse que hemos decidido usar una escala con distribución logarítmica uniforme para C y exponencial para 'gamma'.\n",
        "En el siguiente gráfico representamos estas distribuciones para 1000 elementos. Explica brevemente qué repercusión tiene la anterior decisión en los valores elegidos para estas variables. Atendiendo al valor óptimo que hemos obtenido para el parámetro C, ¿crees que ha sido una buena decisión elegir la distribución logarítmica para C?"
      ]
    },
    {
      "cell_type": "code",
      "execution_count": null,
      "metadata": {
        "id": "onFx6VqeGiS4"
      },
      "outputs": [],
      "source": [
        "loguniform_distrib = loguniform(1, 20)\n",
        "samples = loguniform_distrib.rvs(10000, random_state=42)\n",
        "plt.figure(figsize=(10, 4))\n",
        "plt.subplot(121)\n",
        "plt.title(\"log unifom distribution (2, 20)\")\n",
        "plt.hist(samples, bins=50)\n",
        "\n",
        "expon_distrib = expon(scale=1.0)\n",
        "samples = expon_distrib.rvs(10000, random_state=42)\n",
        "plt.subplot(122)\n",
        "plt.title(\"expon distribution (scale=1.0)\")\n",
        "plt.hist(samples, bins=50)\n",
        "plt.show()"
      ]
    },
    {
      "cell_type": "markdown",
      "metadata": {
        "id": "J27BXfTyJf3w"
      },
      "source": [
        "OPINIÓN:\n"
      ]
    },
    {
      "cell_type": "markdown",
      "metadata": {
        "id": "jablC-zX-hAt"
      },
      "source": [
        "EJERCICIO (Extra): A la vista del resultado obtenido para C, ¿cambiarías de distribución estadística para este parámetro? Prueba a cambiar simplemente la escala a loguniform(1,200) y comprueba cuáles son los mejores valores para los hiperparámetros así como los resultados que obtienes tanto en el conjunto de validación como en el conjunto de test."
      ]
    },
    {
      "cell_type": "code",
      "execution_count": null,
      "metadata": {
        "id": "4GvKjTl1E1FU"
      },
      "outputs": [],
      "source": [
        "#RESPUESTA\n",
        "# Nota: gamma se ignora cuando el kernel es \"linear\"\n"
      ]
    },
    {
      "cell_type": "code",
      "execution_count": null,
      "metadata": {
        "id": "LtRCGbWAE5QS"
      },
      "outputs": [],
      "source": [
        "negative_mse = rnd_search_svm_reg.best_score_\n",
        "rmse = np.sqrt(-negative_mse)\n",
        "rmse"
      ]
    },
    {
      "cell_type": "code",
      "execution_count": null,
      "metadata": {
        "id": "TeOCSFQvFDIy"
      },
      "outputs": [],
      "source": [
        "rnd_search_svm_reg.best_params_"
      ]
    },
    {
      "cell_type": "code",
      "execution_count": null,
      "metadata": {
        "id": "ZcNvVqyRFQZa"
      },
      "outputs": [],
      "source": [
        "final_model_rnd_reg = rnd_search_svm_reg.best_estimator_\n",
        "final_predictions_rnd_reg = final_model_rnd_reg.predict(X_test)\n",
        "\n",
        "final_mse_rnd = mean_squared_error(y_test, final_predictions_rnd_reg)\n",
        "final_rmse_rnd = np.sqrt(final_mse_rnd)\n",
        "print('Mejor resultado con random search sobre el conjunto de test', final_rmse_rnd)"
      ]
    },
    {
      "cell_type": "markdown",
      "metadata": {
        "id": "xb2KiP1WPsFw"
      },
      "source": [
        "# Optimización Bayesiana"
      ]
    },
    {
      "cell_type": "markdown",
      "metadata": {
        "id": "FTiSJF7ILKy4"
      },
      "source": [
        "Es un ejemplo de modelo secuencial que permiten utilizar los resultados de una iteración para mejorar el modelo en la siguiente. En particular permite construir un modelo de probabilidad bayesiano de la función objetivo y usarlo para seleccionar los parámetros más prometedores en la función objetivo real.\n",
        "\n"
      ]
    },
    {
      "cell_type": "markdown",
      "metadata": {
        "id": "O2Hs6kwfJ1fG"
      },
      "source": [
        "Existen varias librerías en python que han implementado métodos de optimización bayesiana. Entre ellas se encuentran [scikit-optimice](https://scikit-optimize.github.io/stable/) y [hyperopt](https://github.com/hyperopt/hyperopt)."
      ]
    },
    {
      "cell_type": "markdown",
      "metadata": {
        "id": "5PIdWYVKukSA"
      },
      "source": [
        "Usamos a continuación el método BayesSearchCV de la librería scikit-optimize"
      ]
    },
    {
      "cell_type": "code",
      "execution_count": null,
      "metadata": {
        "id": "lOaRMVnEQVXE"
      },
      "outputs": [],
      "source": [
        "! pip install scikit-optimize"
      ]
    },
    {
      "cell_type": "code",
      "execution_count": null,
      "metadata": {
        "id": "mRC38f-aSMMm"
      },
      "outputs": [],
      "source": [
        "from skopt import BayesSearchCV"
      ]
    },
    {
      "cell_type": "code",
      "execution_count": null,
      "metadata": {
        "id": "zDhokvKcSMn-"
      },
      "outputs": [],
      "source": [
        "%%time\n",
        "import matplotlib.pyplot as plt\n",
        "import numpy as np\n",
        "\n",
        "from skopt.space import Real, Categorical, Integer #Permite definir el tipo\n",
        "param_distribs_exp = {  #permite indicar la distribución de los parámetros\n",
        "        'n_estimators': Integer(3, 300, 'uniform'), #Permite Integer, Categorical o Real\n",
        "        'max_features': Integer(3, 8, 'uniform'), #Permite 'uniform' o 'log-uniform'\n",
        "    }\n",
        "\n",
        "\n",
        "forest_reg = RandomForestRegressor(random_state=42)\n",
        "\n",
        "bayes_search_RF = BayesSearchCV(\n",
        "    forest_reg,\n",
        "    param_distribs_exp,\n",
        "    n_iter=20,\n",
        "    cv=3, scoring='neg_mean_squared_error', random_state=42,\n",
        "    n_jobs=-1,\n",
        "    optimizer_kwargs={'base_estimator': 'GP'} # 'GP': Gaussean Process,'RF': Random Forest regressor,'ET': Extra Trees regressor, 'GBRT': gradient boosted trees\n",
        "  )\n",
        "bayes_search_RF.fit(X_train, y_train)\n",
        "\n",
        "print(bayes_search_RF.best_params_)\n",
        "mean_score = bayes_search_RF.cv_results_['mean_test_score'][bayes_search_RF.best_index_]\n",
        "print(\"score\", np.sqrt(-mean_score))\n",
        "\n"
      ]
    },
    {
      "cell_type": "markdown",
      "metadata": {
        "id": "ftr_VVD935RZ"
      },
      "source": [
        "Obtiene un resultado similar."
      ]
    },
    {
      "cell_type": "code",
      "execution_count": null,
      "metadata": {
        "id": "_J8Ur69jfwfr"
      },
      "outputs": [],
      "source": [
        "cvres_bayes = bayes_search_RF.cv_results_\n",
        "for mean_score, params in zip(cvres_bayes[\"mean_test_score\"], cvres_bayes[\"params\"]):\n",
        "    print(np.sqrt(-mean_score), params)"
      ]
    },
    {
      "cell_type": "markdown",
      "metadata": {
        "id": "4i83ZVtntXrM"
      },
      "source": [
        "Los resultados que ha ido obteniendo son:"
      ]
    },
    {
      "cell_type": "code",
      "execution_count": null,
      "metadata": {
        "id": "KFOdXPZEp8Pp"
      },
      "outputs": [],
      "source": [
        "x = np.arange(0, 20)\n",
        "plt.plot(x, [np.sqrt(-x) for x in cvres_bayes[\"mean_test_score\"]])\n",
        "plt.show()"
      ]
    },
    {
      "cell_type": "markdown",
      "metadata": {
        "id": "M_w_P8SfeFOP"
      },
      "source": [
        "Probamos en el conjunto de test."
      ]
    },
    {
      "cell_type": "code",
      "execution_count": null,
      "metadata": {
        "id": "n0bNB5RYgann"
      },
      "outputs": [],
      "source": [
        "from sklearn.metrics import mean_squared_error\n",
        "\n",
        "final_model_bayes = bayes_search_RF.best_estimator_\n",
        "\n",
        "final_predictions_bayes = final_model_bayes.predict(X_test)\n",
        "\n",
        "final_mse_bayes = mean_squared_error(y_test, final_predictions_bayes)\n",
        "final_rmse_bayes = np.sqrt(final_mse_bayes)\n",
        "final_rmse_bayes\n",
        "\n",
        "\n"
      ]
    },
    {
      "cell_type": "markdown",
      "metadata": {
        "id": "qo8rv5_igXeb"
      },
      "source": [
        "## Ejercicios Optimización bayesiana"
      ]
    },
    {
      "cell_type": "markdown",
      "metadata": {
        "id": "qwBK76xggeW2"
      },
      "source": [
        "EJERCICIO: Utiliza para el SVR() del ejemplo anterior el método BayesSearchCV. Usa el espacio de búsqueda que se propone.\n",
        "\n",
        "Utiliza el algoritmo 'GBRT' con 10 iteraciones.\n",
        "\n",
        "¿Cuál es el mejor resultado que obtienes?¿Con qué configuración de parámetros?"
      ]
    },
    {
      "cell_type": "code",
      "execution_count": null,
      "metadata": {
        "id": "uNmtlKELIyAZ"
      },
      "outputs": [],
      "source": [
        "from skopt.space import Real, Categorical, Integer\n",
        "param_distribs_exp = {\n",
        "        'kernel':  Categorical(['linear', 'rbf']),\n",
        "        'C': Real(1, 20, 'log-uniform'),\n",
        "        'gamma': Real(1e-6, 5, 'log-uniform'),\n",
        "    }\n",
        "\n",
        "\n",
        "svm_reg = SVR()"
      ]
    },
    {
      "cell_type": "code",
      "execution_count": null,
      "metadata": {
        "id": "racebucfkzhv"
      },
      "outputs": [],
      "source": [
        "# Solución\n",
        "%%time\n",
        "\n"
      ]
    },
    {
      "cell_type": "markdown",
      "metadata": {
        "id": "zfNIKZPwbc7c"
      },
      "source": [
        "EJERCICIO: Sobre el mismo espacio de búsqueda anterior y usando el algoritmo 'GBRT' y 50 iteraciones, obtén el resultado sobre el conjunto de entrenamiento de los 50 modelos. ¿Se observa una mejoría en la predicción a medida que se van obteniendo modelos?¿Por qué? Muestra la evolución de los resultados en una gráfica."
      ]
    },
    {
      "cell_type": "code",
      "execution_count": null,
      "metadata": {
        "id": "GYkZ3GpiR_FM"
      },
      "outputs": [],
      "source": [
        "# Solución\n",
        "%%time\n",
        "\n",
        "\n"
      ]
    },
    {
      "cell_type": "markdown",
      "metadata": {
        "id": "ab_fBQCXquEj"
      },
      "source": [
        "EJERCICIO: Obtén sobre el conjunto de test los resultados con el mejor método obtenido. ¿Mejora los métodos aplicados previamente sobre el SVR?"
      ]
    },
    {
      "cell_type": "code",
      "execution_count": null,
      "metadata": {
        "id": "74UiPeANq3Vr"
      },
      "outputs": [],
      "source": [
        "#Solución\n"
      ]
    },
    {
      "cell_type": "markdown",
      "metadata": {
        "id": "zPkiatDgLTm0"
      },
      "source": [
        "EJERCICIO (Extra). Prueba a cambiar los kernels, añadir hiperparámetros (por ejemplo 'epsilon' o 'degree') y/o aumentar el número de iteraciones. Comprueba si se obtiene alguna mejora sobre el conjunto de validación. Prueba a cambiar el estimador base a 'GP'.  Finalmente, comprueba los resultados de la mejor opción sobre el conjunto de test."
      ]
    },
    {
      "cell_type": "code",
      "execution_count": null,
      "metadata": {
        "id": "7fz4o30YHsP0"
      },
      "outputs": [],
      "source": [
        "from skopt.space import Real, Categorical, Integer\n",
        "param_distribs_exp = {\n",
        "        'kernel':  Categorical(['linear', 'rbf', 'poly']),\n",
        "        'C': Real(1, 20, 'log-uniform'),\n",
        "        'gamma': Real(1e-6, 5, 'log-uniform'),\n",
        "        'epsilon': Real(1e-6, 5, 'log-uniform'),\n",
        "        'degree': [2, 3, 4]\n",
        "    }\n",
        "\n",
        "\n",
        "svm_reg = SVR()\n",
        "\n",
        "# Solución\n",
        "\n"
      ]
    },
    {
      "cell_type": "code",
      "execution_count": null,
      "metadata": {
        "id": "tQT3UMdAJTob"
      },
      "outputs": [],
      "source": [
        "# Mejor opción sobre el conjunto de test\n",
        "#Solución\n",
        "final_model_svm_reg = bayes_search_svm_reg.best_estimator_\n",
        "final_predictions_svm_reg = final_model_svm_reg.predict(X_test)\n",
        "\n",
        "final_mse_svm_reg = mean_squared_error(y_test, final_predictions_svm_reg)\n",
        "final_rmse_svm_reg = np.sqrt(final_mse_svm_reg)\n",
        "final_rmse_svm_reg"
      ]
    },
    {
      "cell_type": "markdown",
      "metadata": {
        "id": "R8Ce28bjs-ro"
      },
      "source": [
        "# División de recursos"
      ]
    },
    {
      "cell_type": "markdown",
      "metadata": {
        "id": "p00COLIfs-rr"
      },
      "source": [
        "En la última versión de scikit-learn han implementado algoritmos basados en la división de recursos denomindos  HalvingGridSearchCV y HalvingRandomSearchCV, que pueden ser más rápidos encontrando la mejor conbinación de hiperparámetros.\n",
        "\n",
        "Este tipo de algoritmos para el ajuste de hiperparámetros se basan en el supuesto de que si una configuración está destinada a ser la mejor después de un gran número de iteraciones, es más probable que funcione en la mitad superior de las configuraciones después de un pequeño número de iteraciones.\n",
        "\n",
        "Así no se hace hincapié en el rendimiento absoluto de un algoritmo, sino más bien en su rendimiento relativo en comparación con muchas alternativas entrenadas para el mismo número de iteraciones."
      ]
    },
    {
      "cell_type": "markdown",
      "metadata": {
        "id": "gTT5cht9jJiZ"
      },
      "source": [
        "Existen otras librerías fuera de scikit-learn que implementan otros algoritmos de división de recursos como la librería [hyperband](://thuijskens.github.io/scikit-hyperband/docs/hyperband.html)."
      ]
    },
    {
      "cell_type": "markdown",
      "metadata": {
        "id": "CrhR2Lyuwyan"
      },
      "source": [
        "Cargamos la librería HalvingGridSearchCV"
      ]
    },
    {
      "cell_type": "code",
      "execution_count": null,
      "metadata": {
        "id": "kpP2Z88a9bB4"
      },
      "outputs": [],
      "source": [
        "from sklearn.experimental import enable_halving_search_cv  # Está en fase experimental\n",
        "from sklearn.model_selection import HalvingGridSearchCV"
      ]
    },
    {
      "cell_type": "markdown",
      "metadata": {
        "id": "RzgbMbfwIzPo"
      },
      "source": [
        "Cargamos la DB diabetes de nuevo y repartimos los conjuntos train y test como antes."
      ]
    },
    {
      "cell_type": "code",
      "execution_count": null,
      "metadata": {
        "id": "6dmk0lqRIzPp"
      },
      "outputs": [],
      "source": [
        "from sklearn import datasets\n",
        "\n",
        "diabetes_BD = datasets.load_diabetes()\n",
        "print(diabetes_BD.DESCR)\n"
      ]
    },
    {
      "cell_type": "code",
      "execution_count": null,
      "metadata": {
        "id": "gAHTBRUTIzPq"
      },
      "outputs": [],
      "source": [
        "diabetes=diabetes_BD[\"data\"] # Datos de las casas a usar\n",
        "feature_names=diabetes_BD[\"feature_names\"] # Nombre de las variables\n",
        "diabetes_target=diabetes_BD[\"target\"] # Dato a inferir. Precio medio de las casas"
      ]
    },
    {
      "cell_type": "code",
      "execution_count": null,
      "metadata": {
        "id": "Y4gBLiV6IzPr"
      },
      "outputs": [],
      "source": [
        "from sklearn.model_selection import train_test_split\n",
        "X_train,  X_test, y_train, y_test = train_test_split(diabetes, diabetes_target, test_size=0.2, random_state=42)"
      ]
    },
    {
      "cell_type": "markdown",
      "metadata": {
        "id": "G6dJurOps-rw"
      },
      "source": [
        "Vamos a aplicar el algoritmo a un Random Forest.\n",
        "\n",
        "Por defecto, en cada iteración existe un recurso (controlado por el parámetro *resource*) que se va incrementando en cada iteración a los elementos que mejor funcionen en dicha iteración. Por defecto, el recurso es el número de muestras de la fase de entrenamiento. Puede elegirse cualquier parámetro que acepte un número positivo (por ejemplo, 'n_iterations').\n",
        "\n",
        "Cuando se aplica a Random Forest, el parámetro que se ajusta en cada estimación suele ser el número de árboles ('n_estimators'). En este ejemplo, coincide que también es uno de los parámetros a combinar.\n",
        "\n",
        "Añadimos algún parámetro más a probar como *max_depth* para aumentar el espacio de búsqueda. Recordar que n_estimators lo usaremos para ir repartiendo los recursos.\n"
      ]
    },
    {
      "cell_type": "code",
      "execution_count": null,
      "metadata": {
        "id": "WlPSIwy1uUzQ"
      },
      "outputs": [],
      "source": [
        "# Distributions or lists of parameters to try. Distributions must provide a rvs method for sampling (such as those from scipy.stats.distributions). If a list is given, it is sampled uniformly.\n",
        "param_grid = {\n",
        "     #'n_estimators': [100, 300, 900],\n",
        "     'max_features': [2, 4, 6, 8],\n",
        "      'max_depth' : [3,5, 7, 9, None],\n",
        "          }"
      ]
    },
    {
      "cell_type": "code",
      "execution_count": null,
      "metadata": {
        "id": "RpIVIJSAIzPs"
      },
      "outputs": [],
      "source": [
        "from sklearn.ensemble import RandomForestRegressor\n",
        "forest_reg = RandomForestRegressor(random_state=42)\n",
        "forest_reg"
      ]
    },
    {
      "cell_type": "markdown",
      "metadata": {
        "id": "ggTJCV6QtnO8"
      },
      "source": [
        "max_resources y min_resources marcan el número máximo de árboles que se asinganarán a una combinación de hiperparámetros, y factor la reducción de configuraciones en cada iteración. Cada vez que se reduzca en factor las configuraciones se multiplicará por factor los recursos asignados a las supervivientes."
      ]
    },
    {
      "cell_type": "code",
      "execution_count": null,
      "metadata": {
        "id": "A8Wnn7uorZ_u"
      },
      "outputs": [],
      "source": [
        "%%time\n",
        "\n",
        "halv_grid_search_RF = HalvingGridSearchCV(forest_reg,\n",
        "                           param_grid,\n",
        "                           resource='n_estimators', #Recursos que se asignarán en cada estimacion. En Random Forest tipicamente el número de árboles\n",
        "                           verbose =1,\n",
        "                           max_resources=1000, #Numero de árboles máximo en una iteración\n",
        "                           min_resources=100, #Numero de árboles mínimo en una iteración\n",
        "                           factor=3, #Porcentaje de configuraciones que sobrevivirán en cada iteración, en este caso se reducirá a un tercio\n",
        "                           cv=3,\n",
        "                           scoring='neg_mean_squared_error',\n",
        "                           random_state = 42)\n",
        "\n",
        "halv_grid_search_RF.fit(X_train, y_train)"
      ]
    },
    {
      "cell_type": "markdown",
      "metadata": {
        "id": "6sgM82-AvQzM"
      },
      "source": [
        "Obtiene una solución en unos 30 segundos. Haciendo 3 itieraciones. La primera mira todas los candidatos (20) con 100 árboles. En la segunda se queda con un tercio (factor = 3) de los mejores candidatos (7) tripicando los recursos (300 árboles). Y finalmente en la última prueba con los 3 mejores candidatos con 900 árboles."
      ]
    },
    {
      "cell_type": "markdown",
      "metadata": {
        "id": "sNBKA0681hZV"
      },
      "source": [
        "El resultado obtenido es:"
      ]
    },
    {
      "cell_type": "code",
      "execution_count": null,
      "metadata": {
        "id": "npfDhSb-1a_w"
      },
      "outputs": [],
      "source": [
        "import numpy as np\n",
        "\n",
        "negative_mse = halv_grid_search_RF.best_score_\n",
        "rmse = np.sqrt(-negative_mse)\n",
        "rmse"
      ]
    },
    {
      "cell_type": "markdown",
      "metadata": {
        "id": "MAqgnvpZ4xTS"
      },
      "source": [
        "Las combinaciones que ha probado son:"
      ]
    },
    {
      "cell_type": "code",
      "execution_count": null,
      "metadata": {
        "id": "khvPAT2ds-r0"
      },
      "outputs": [],
      "source": [
        "cvres = halv_grid_search_RF.cv_results_\n",
        "print(len(cvres[\"params\"]))\n",
        "i=0\n",
        "for mean_score, params in zip(cvres[\"mean_test_score\"], cvres[\"params\"]):\n",
        "    i+=1\n",
        "    print(i, np.sqrt(-mean_score), params)"
      ]
    },
    {
      "cell_type": "markdown",
      "metadata": {
        "id": "1YmwWpxU42su"
      },
      "source": [
        "Finalmente, probamos el método obtenido sobre el conjunto de test."
      ]
    },
    {
      "cell_type": "code",
      "execution_count": null,
      "metadata": {
        "id": "yhcjcNncs-r0"
      },
      "outputs": [],
      "source": [
        "from sklearn.metrics import mean_squared_error\n",
        "\n",
        "final_model_hyb = halv_grid_search_RF.best_estimator_\n",
        "final_predictions_hyb = final_model_hyb.predict(X_test)\n",
        "\n",
        "final_mse_hyb = mean_squared_error(y_test, final_predictions_hyb)\n",
        "final_rmse_hyb = np.sqrt(final_mse_hyb)\n",
        "final_rmse_hyb"
      ]
    },
    {
      "cell_type": "markdown",
      "metadata": {
        "id": "sJLjUzDUv_7o"
      },
      "source": [
        "La alternativa con grid search es probar con todos los recursos (900 árboles) para todos los candidatos.\n",
        "\n",
        "La probamos."
      ]
    },
    {
      "cell_type": "code",
      "execution_count": null,
      "metadata": {
        "id": "cwCEPc8ArSeb"
      },
      "outputs": [],
      "source": [
        "from sklearn.model_selection import GridSearchCV"
      ]
    },
    {
      "cell_type": "code",
      "execution_count": null,
      "metadata": {
        "id": "OnYADF2xrSz7"
      },
      "outputs": [],
      "source": [
        "# Distributions or lists of parameters to try. Distributions must provide a rvs method for sampling (such as those from scipy.stats.distributions). If a list is given, it is sampled uniformly.\n",
        "param_grid = {\n",
        "     'n_estimators': [900],\n",
        "     'max_features': [2, 4, 6, 8],\n",
        "      'max_depth' : [3,5, 7, 9, None],\n",
        "          }\n",
        "\n"
      ]
    },
    {
      "cell_type": "code",
      "execution_count": null,
      "metadata": {
        "id": "7QA5MiuHrcBi"
      },
      "outputs": [],
      "source": [
        "%%time\n",
        "grid_search_RF = GridSearchCV(forest_reg, param_grid, cv=3,\n",
        "                           scoring='neg_mean_squared_error',\n",
        "                           refit= True, verbose=2, n_jobs=-1)\n",
        "grid_search_RF.fit(X_train, y_train)"
      ]
    },
    {
      "cell_type": "markdown",
      "metadata": {
        "id": "cmWSOu0VwLNl"
      },
      "source": [
        "Encuentra una solución en más de 1 minuto.\n",
        "\n",
        "Las mejores soluciones encontradas son en este caso la misma."
      ]
    },
    {
      "cell_type": "code",
      "execution_count": null,
      "metadata": {
        "id": "5WsYpSpWuqSC"
      },
      "outputs": [],
      "source": [
        "grid_search_RF.best_params_"
      ]
    },
    {
      "cell_type": "code",
      "execution_count": null,
      "metadata": {
        "id": "q2_nbvXFss00"
      },
      "outputs": [],
      "source": [
        "halv_grid_search_RF.best_params_"
      ]
    },
    {
      "cell_type": "markdown",
      "metadata": {
        "id": "rPksuw1Qs-r1"
      },
      "source": [
        "## Ejercicios División de recursos"
      ]
    },
    {
      "cell_type": "markdown",
      "metadata": {
        "id": "Y4JKEHBYs-r1"
      },
      "source": [
        "EJERCICIO: Emplea HalvingRandomSearchCV sobre el ejercicio SVR.\n",
        "\n",
        "Utiliza el mismo espacio para los parámetros que en el primer ejercicio del bloque de ejercicios del Random Search.\n",
        "\n",
        "Como parámetro de división de recursos sobre SVR usa el parámetro 'n_samples' (opción por defecto), con número de recursos mínima 'smallest\" y máxima 'auto' (total de la muestra), total de candidatos 'n_candidates' a explorar de 30 y el factor de división de recursos a 2."
      ]
    },
    {
      "cell_type": "code",
      "execution_count": null,
      "metadata": {
        "id": "KtQf6uOks-r2"
      },
      "outputs": [],
      "source": [
        "%%time\n",
        "\n",
        "from sklearn.model_selection import HalvingRandomSearchCV\n",
        "import numpy as np\n",
        "from sklearn.metrics import mean_squared_error\n",
        "\n",
        "from sklearn.svm import SVR\n",
        "from scipy.stats import expon, loguniform\n",
        "\n",
        "param_grid_SVR = {\n",
        "        'kernel': ['linear', 'rbf'],\n",
        "        'C': loguniform(1, 20), #A loguniform or reciprocal continuous random variable.\n",
        "        'gamma': expon(scale=1.0), #An exponential continuous random variable.\n",
        "            }\n",
        "\n",
        "svm_reg = SVR()\n",
        "\n",
        "# Solución\n",
        "\n",
        "\n",
        "halv_random_search_SVR = HalvingRandomSearchCV(svm_reg,\n",
        "                           param_grid_SVR,\n",
        "                           resource='n_samples', #Recursos que se asignarán en cada estimacion. En Random Forest tipicamente el número de árboles\n",
        "                           verbose =1,\n",
        "                           max_resources='auto', #Numero de árboles máximo en una iteración\n",
        "                           min_resources='smallest', #Numero de árboles mínimo en una iteración\n",
        "                           factor=2, #Porcentaje de configuraciones que sobrevivirán en cada iteración, en este caso se reducirá a un tercio\n",
        "                           n_candidates=30,\n",
        "                           cv=3,\n",
        "                           scoring='neg_mean_squared_error',\n",
        "                           random_state = 42)\n",
        "\n",
        "halv_random_search_SVR.fit(X_train, y_train)\n",
        "\n"
      ]
    },
    {
      "cell_type": "markdown",
      "metadata": {
        "id": "EFbTHnkeHWsB"
      },
      "source": [
        "PREGUNTA: ¿Cuáles son los mejores valores para los hiperparámetros? ¿Cuál es el mejor resultado?¿Cuántas opciones ha probado?"
      ]
    },
    {
      "cell_type": "code",
      "execution_count": null,
      "metadata": {
        "id": "k8Zl2huVHhVA"
      },
      "outputs": [],
      "source": [
        "#Solución\n",
        "\n",
        "halv_random_search_SVR.best_params_"
      ]
    },
    {
      "cell_type": "markdown",
      "source": [
        "Ha probado 138 veces ( 30 + 10 + 4 + 2 ) * 3\n"
      ],
      "metadata": {
        "id": "_0eT1svD0sTH"
      }
    },
    {
      "cell_type": "code",
      "source": [
        "# El mejor resultado:\n",
        "negative_mse = halv_random_search_SVR.best_score_\n",
        "rmse = np.sqrt(-negative_mse)\n",
        "rmse"
      ],
      "metadata": {
        "id": "gLzWHCfM1P2l"
      },
      "execution_count": null,
      "outputs": []
    },
    {
      "cell_type": "markdown",
      "metadata": {
        "id": "wH7RRYclqFZV"
      },
      "source": [
        "EJERCICIO: Obtén sobre el conjunto de test los resultados con el mejor método obtenido. ¿Mejora los métodos aplicados previamente sobre el SVR? ¿Mejora el tiempo de ejecución?"
      ]
    },
    {
      "cell_type": "code",
      "source": [
        "from sklearn.metrics import mean_squared_error\n",
        "\n",
        "final_model_halvRandom = halv_random_search_SVR.best_estimator_\n",
        "final_predictions_halvRandom = final_model_halvRandom.predict(X_test)\n",
        "\n",
        "final_mse_hRand = mean_squared_error(y_test, final_predictions_halvRandom)\n",
        "final_rmse_hRand = np.sqrt(final_mse_hRand)\n",
        "final_rmse_hRand"
      ],
      "metadata": {
        "id": "LyqA9Zeb1-kW"
      },
      "execution_count": null,
      "outputs": []
    },
    {
      "cell_type": "markdown",
      "source": [],
      "metadata": {
        "id": "EAKtpZQk0rnP"
      }
    },
    {
      "cell_type": "code",
      "source": [
        "grid_search_SVR = GridSearchCV(svm_reg, param_grid, cv=3,\n",
        "                           scoring='neg_mean_squared_error',\n",
        "                           refit= True, verbose=2, n_jobs=-1)"
      ],
      "metadata": {
        "id": "hFQddq2-4DaD"
      },
      "execution_count": null,
      "outputs": []
    },
    {
      "cell_type": "code",
      "execution_count": null,
      "metadata": {
        "id": "P9CFDs50Hv6Q"
      },
      "outputs": [],
      "source": [
        "# Solución\n",
        "\n",
        "param_grid_SVR = {\n",
        "        'kernel': ['linear', 'rbf'],\n",
        "        'C': [loguniform(1, 20)], #A loguniform or reciprocal continuous random variable.\n",
        "        'gamma': [expon(scale=1.0)], #An exponential continuous random variable.\n",
        "            }\n",
        "\n",
        "halv_grid_search_SVR = HalvingGridSearchCV(svm_reg,\n",
        "                           param_grid_SVR,\n",
        "                           resource='n_samples', #Recursos que se asignarán en cada estimacion. En Random Forest tipicamente el número de árboles\n",
        "                           verbose =1,\n",
        "                           max_resources='auto', #Numero de árboles máximo en una iteración\n",
        "                           min_resources='smallest', #Numero de árboles mínimo en una iteración\n",
        "                           factor=2, #Porcentaje de configuraciones que sobrevivirán en cada iteración, en este caso se reducirá a un tercio\n",
        "                           cv=3,\n",
        "                           scoring='neg_mean_squared_error',\n",
        "                           random_state = 42)\n",
        "\n",
        "halv_grid_search_SVR.fit(X_train, y_train)\n",
        "\n"
      ]
    },
    {
      "cell_type": "markdown",
      "metadata": {
        "id": "sWx-22AQVv7z"
      },
      "source": [
        "EJERCICIO (Extra): En redes neuronales un parámetro típico en el que interviene la división de recursos es en el número de itereciones a entrenar la red 'max_iter'. Aplica HalvingGridSearchCV a la siguiente red neuronal aplicada a regresiones [MLPRegressor](https://scikit-learn.org/stable/modules/generated/sklearn.neural_network.MLPRegressor.html). Incluye diferentes las opciones para los parámetros 'solver', 'activation', 'alpha' y 'momentum' que se proporcionan (puedes incluir otras si quieres). Elige un factor de reducción 3. El número mínimo de recursos será 2000 y el máximo 20000. Obten la mejor opción sobre el conjunto de validación y test. Registra el tiempo que se emplea."
      ]
    },
    {
      "cell_type": "code",
      "execution_count": null,
      "metadata": {
        "id": "_ILzBs19PNzu"
      },
      "outputs": [],
      "source": [
        "from sklearn.neural_network import MLPRegressor\n",
        "from sklearn.model_selection import cross_val_score\n",
        "def display_scores(scores):\n",
        "    print(\"Scores:\", scores)\n",
        "    print(\"Mean:\", scores.mean())\n",
        "    print(\"Standard deviation:\", scores.std())\n",
        "\n",
        "NN_reg = MLPRegressor(solver='sgd', alpha=0.01, momentum=0.1, activation='relu',\n",
        "                    hidden_layer_sizes= (5, 2), random_state=42,  max_iter=10000)\n",
        "\n",
        "print(NN_reg.fit(X_train, y_train))\n",
        "\n",
        "scores = cross_val_score(NN_reg, X_train, y_train, scoring=\"neg_mean_squared_error\", cv=3)\n",
        "forest_rmse_scores = np.sqrt(-scores)\n",
        "display_scores(forest_rmse_scores)"
      ]
    },
    {
      "cell_type": "code",
      "execution_count": null,
      "metadata": {
        "id": "XB8lPzog2yQv"
      },
      "outputs": [],
      "source": [
        "from sklearn.neural_network import MLPRegressor\n",
        "from sklearn.model_selection import cross_val_score\n",
        "def display_scores(scores):\n",
        "    print(\"Scores:\", scores)\n",
        "    print(\"Mean:\", scores.mean())\n",
        "    print(\"Standard deviation:\", scores.std())\n",
        "\n",
        "NN_reg = MLPRegressor(solver='adam', alpha=0.01, momentum=0.1, activation='relu',\n",
        "                    hidden_layer_sizes= (5, 2), random_state=42,  max_iter=2000)\n",
        "\n",
        "print(NN_reg.fit(X_train, y_train))\n",
        "\n",
        "scores = cross_val_score(NN_reg, X_train, y_train, scoring=\"neg_mean_squared_error\", cv=3)\n",
        "forest_rmse_scores = np.sqrt(-scores)\n",
        "display_scores(forest_rmse_scores)"
      ]
    },
    {
      "cell_type": "markdown",
      "metadata": {
        "id": "Wgl-2ucEWXxn"
      },
      "source": [
        "En particular"
      ]
    },
    {
      "cell_type": "code",
      "execution_count": null,
      "metadata": {
        "id": "XXCBjSWEQ6dh"
      },
      "outputs": [],
      "source": [
        "\n",
        "NN_reg_params = {\n",
        "    'solver': ['sgd', 'adam','lbfgs'],\n",
        "    'activation': ['relu','tanh', 'logistic'],\n",
        "    'alpha': [0.01, 0.1, 0.5, 0.9],\n",
        "    'momentum': [0.1, 0.5, 0.9],\n",
        "}\n"
      ]
    },
    {
      "cell_type": "code",
      "execution_count": null,
      "metadata": {
        "id": "NQq4f7KVUwp8"
      },
      "outputs": [],
      "source": [
        "# Solución\n",
        "# %%time\n",
        "\n"
      ]
    },
    {
      "cell_type": "markdown",
      "metadata": {
        "id": "-YGjtkO7yiwD"
      },
      "source": [
        "EJERCICIO (Extra): Añade a los valores de los hiperparámetros utilizados en el ejercicio anterior el hiperparámetro con valores 'max_iter': [18000]. Estos son las iteraciones que se usaron en la división de recursos a los métodos ganadores. Aplica a ese conjunto de hiperparámetros el algoritmo GridSearchCV sobre la red neuronal anterior. ¿Se obtiene la misma solución?¿Se obtiene en el mismo tiempo? Explica los resultados obtenidos."
      ]
    },
    {
      "cell_type": "code",
      "execution_count": null,
      "metadata": {
        "id": "htVObhjEm9eX"
      },
      "outputs": [],
      "source": [
        "# Solución\n",
        "# %%time\n",
        "\n"
      ]
    },
    {
      "cell_type": "markdown",
      "metadata": {
        "id": "jj0NOQcckfHX"
      },
      "source": [
        "# Métodos de optimización basados en la naturaleza"
      ]
    },
    {
      "cell_type": "markdown",
      "metadata": {
        "id": "NufxUiE-rCf5"
      },
      "source": [
        "Compara distintos tipos de ajuste de hiperparámetros inspirados por la naturaleza.\n",
        "\n",
        "Estos algoritmos tratan de imitar el comportamiento de algunos seres vivos en rutinas algorítmicas de optimización.\n",
        "\n",
        "- Un **individuo** es una combinación de parámetros a ser entrenados durante un ciclo de optimización. Los resultados de cada individuo son almacenados entre ciclos.\n",
        "- Una **población** es un grupo de individuos en una generación/ciclo de optimización.\n",
        "\n",
        "Los algoritmos que siguen están modificados para que sea razonable de ejecutar en tiempo. Pero se pierde parte de la gracia ya que son más rápidos cuando existen muchos hiperparámetros a buscar."
      ]
    },
    {
      "cell_type": "markdown",
      "metadata": {
        "id": "FpBe3uw6jhfL"
      },
      "source": [
        "ATENCIÓN: Necesita reiniciar el entorno de ejecución."
      ]
    },
    {
      "cell_type": "code",
      "execution_count": null,
      "metadata": {
        "id": "uVFd6ndPX_0J"
      },
      "outputs": [],
      "source": [
        "#! instalamos la librería sklearn_nature_inspired_algorithms\n",
        "!pip install sklearn_nature_inspired_algorithms\n",
        "#Restart kernel after installation\n",
        "import IPython\n",
        "IPython.Application.instance().kernel.do_shutdown(True)"
      ]
    },
    {
      "cell_type": "code",
      "execution_count": null,
      "metadata": {
        "id": "anM7zxxJmO7q"
      },
      "outputs": [],
      "source": [
        "from sklearn_nature_inspired_algorithms.model_selection.nature_inspired_search_cv import NatureInspiredSearchCV\n",
        "from sklearn_nature_inspired_algorithms.helpers import score_by_generation_lineplot"
      ]
    },
    {
      "cell_type": "markdown",
      "metadata": {
        "id": "_EKCrfb5x8gE"
      },
      "source": [
        "Intentamos de nuevo hacer la búsqueda de hiperparámetros para un random forest, sobre el conjunto de datos que estamos usando."
      ]
    },
    {
      "cell_type": "code",
      "execution_count": null,
      "metadata": {
        "id": "2--VPKn5Ts2y"
      },
      "outputs": [],
      "source": [
        "from sklearn import datasets\n",
        "\n",
        "diabetes_BD = datasets.load_diabetes()"
      ]
    },
    {
      "cell_type": "code",
      "execution_count": null,
      "metadata": {
        "id": "x0X_PGIcTs20"
      },
      "outputs": [],
      "source": [
        "diabetes=diabetes_BD[\"data\"] # Datos de las casas a usar\n",
        "feature_names=diabetes_BD[\"feature_names\"] # Nombre de las variables\n",
        "diabetes_target=diabetes_BD[\"target\"] # Dato a inferir. Precio medio de las casas"
      ]
    },
    {
      "cell_type": "code",
      "execution_count": null,
      "metadata": {
        "id": "LLd3i2NWTs21"
      },
      "outputs": [],
      "source": [
        "from sklearn.model_selection import train_test_split\n",
        "X_train,  X_test, y_train, y_test = train_test_split(diabetes, diabetes_target, test_size=0.2, random_state=42)"
      ]
    },
    {
      "cell_type": "code",
      "execution_count": null,
      "metadata": {
        "id": "tYTifNgwTIye"
      },
      "outputs": [],
      "source": [
        "from sklearn.ensemble import RandomForestRegressor\n",
        "forest_reg = RandomForestRegressor(random_state=42)\n",
        "forest_reg"
      ]
    },
    {
      "cell_type": "code",
      "execution_count": null,
      "metadata": {
        "id": "9XhyCao6l_Qd"
      },
      "outputs": [],
      "source": [
        "param_grid = {\n",
        "    # 12 (3×4) combinaciones de hiperparámetros\n",
        "    'n_estimators': [30, 100, 300],\n",
        "    'max_features': [3, 6, 8, 'auto']\n",
        "    }\n"
      ]
    },
    {
      "cell_type": "markdown",
      "metadata": {
        "id": "fhY-Wwc_yK4T"
      },
      "source": [
        "La búsqueda se realiza a través de [NatureInspiredSearchCV](https://sklearn-nature-inspired-algorithms.readthedocs.io/en/stable/introduction/nature-inspired-search-cv.html). El conjunto de algoritmos implementados puede consultarse [aquí](https://sklearn-nature-inspired-algorithms.readthedocs.io/en/stable/introduction/algorithms.html)."
      ]
    },
    {
      "cell_type": "code",
      "execution_count": null,
      "metadata": {
        "id": "lm66xyO6mZWK"
      },
      "outputs": [],
      "source": [
        "%%time\n",
        "\n",
        "nia_search_RF = NatureInspiredSearchCV(\n",
        "    forest_reg,\n",
        "    param_grid,\n",
        "    cv=3,\n",
        "    verbose=2,\n",
        "    algorithm='ba', #Bat Algorithm\n",
        "    population_size=5, #Número de estimadores en la población. Cuando la población es pequeña la búsqueda será más rápida pero puede que no se llegue a obtener el mejor resultado (que se alcanzará cuando el tamaño de la población es similar a la posible combianción de parámetros).\n",
        "    max_n_gen=100, #Número máximo de generaciones a ser optimizadas.\n",
        "    max_stagnating_gen=5, #Si el resultado permanece invariable durante este número de generaciones la optimización se detiene.\n",
        "    n_jobs=-1,\n",
        "    scoring=\"neg_mean_squared_error\",\n",
        "    random_state=42)\n",
        "\n",
        "nia_search_RF.fit(X_train, y_train)\n",
        "print(nia_search_RF)"
      ]
    },
    {
      "cell_type": "code",
      "execution_count": null,
      "metadata": {
        "id": "8ywO9Wpu45P1"
      },
      "outputs": [],
      "source": [
        "nia_search_RF.best_params_"
      ]
    },
    {
      "cell_type": "markdown",
      "metadata": {
        "id": "Tsl1HOS_24WC"
      },
      "source": [
        "El mejor resultado obtenido es el mismo que con grid search:"
      ]
    },
    {
      "cell_type": "code",
      "execution_count": null,
      "metadata": {
        "id": "mRDF6iwQ2ug9"
      },
      "outputs": [],
      "source": [
        "import numpy as np\n",
        "negative_mse = nia_search_RF.best_score_\n",
        "rmse = np.sqrt(-negative_mse)\n",
        "rmse"
      ]
    },
    {
      "cell_type": "markdown",
      "metadata": {
        "id": "1GSHHLNs3tXS"
      },
      "source": [
        "Si probamos con grid search."
      ]
    },
    {
      "cell_type": "code",
      "execution_count": null,
      "metadata": {
        "id": "n1S_0msuSYGL"
      },
      "outputs": [],
      "source": [
        "%%time\n",
        "from sklearn.model_selection import GridSearchCV\n",
        "\n",
        "grid_search_RF = GridSearchCV(forest_reg, param_grid, cv=3,\n",
        "                           scoring='neg_mean_squared_error',\n",
        "                           return_train_score=True, verbose=2, n_jobs=-1)\n",
        "grid_search_RF.fit(X_train, y_train)"
      ]
    },
    {
      "cell_type": "markdown",
      "metadata": {
        "id": "Wqaj8pnM3xo6"
      },
      "source": [
        "Obtenemos el mismo en un tiempo similar."
      ]
    },
    {
      "cell_type": "markdown",
      "metadata": {
        "id": "LklmH0gPCkBB"
      },
      "source": [
        "Con pocas opciones de hiperparámetros no se nota demasiado.\n",
        "Si aumentamos el número de opciones."
      ]
    },
    {
      "cell_type": "code",
      "execution_count": null,
      "metadata": {
        "id": "JIL-R0qh6Sbw"
      },
      "outputs": [],
      "source": [
        "from sklearn.ensemble import RandomForestRegressor\n",
        "\n",
        "param_grid ={\n",
        "    'n_estimators': [100, 300, 500],\n",
        "    'max_features': [3, 6, 8, 'auto'],\n",
        "    'max_depth': [5, 10],\n",
        "    'min_samples_leaf': [1,2,4],\n",
        "    \"bootstrap\":[True,False]\n",
        "}\n",
        "forest_reg = RandomForestRegressor(random_state=42)\n",
        "# entrenamiento para 3 folds, sobre un total de (3*4*2*3*2)*3=432 rondas de entrenamiento"
      ]
    },
    {
      "cell_type": "code",
      "execution_count": null,
      "metadata": {
        "id": "8_3YNx-I2-Ha"
      },
      "outputs": [],
      "source": [
        "%%time\n",
        "\n",
        "grid_search_RF = GridSearchCV(forest_reg, param_grid, cv=3,\n",
        "                           scoring='neg_mean_squared_error',\n",
        "                           return_train_score=True, verbose=2, n_jobs=-1)\n",
        "grid_search_RF.fit(X_train, y_train)"
      ]
    },
    {
      "cell_type": "markdown",
      "metadata": {
        "id": "7npH4-ajDYRo"
      },
      "source": [
        "Tarda sobre 3 minutos."
      ]
    },
    {
      "cell_type": "code",
      "execution_count": null,
      "metadata": {
        "id": "XiBHqM1gAAxo"
      },
      "outputs": [],
      "source": [
        "grid_search_RF.best_params_"
      ]
    },
    {
      "cell_type": "markdown",
      "metadata": {
        "id": "Q0ArNbMX3chX"
      },
      "source": [
        "El mejor resultado obtenido es:"
      ]
    },
    {
      "cell_type": "code",
      "execution_count": null,
      "metadata": {
        "id": "JErwB6TG3PqY"
      },
      "outputs": [],
      "source": [
        "negative_mse = grid_search_RF.best_score_\n",
        "rmse = np.sqrt(-negative_mse)\n",
        "rmse"
      ]
    },
    {
      "cell_type": "markdown",
      "metadata": {
        "id": "JNVClol64AHw"
      },
      "source": [
        "Sobre el conjunto de test."
      ]
    },
    {
      "cell_type": "code",
      "execution_count": null,
      "metadata": {
        "id": "ctYX8miuDF8k"
      },
      "outputs": [],
      "source": [
        "from sklearn.metrics import mean_squared_error\n",
        "\n",
        "final_model_grid = grid_search_RF.best_estimator_\n",
        "final_predictions_grid = final_model_grid.predict(X_test)\n",
        "\n",
        "final_mse_grid = mean_squared_error(y_test, final_predictions_grid)\n",
        "final_rmse_grid = np.sqrt(final_mse_grid)\n",
        "final_rmse_grid"
      ]
    },
    {
      "cell_type": "markdown",
      "metadata": {
        "id": "gNPqd5abDzw4"
      },
      "source": [
        "Obtiene un error de algo más 53 puntos.\n",
        "Probamos con el algoritmo basado en la naturaleza."
      ]
    },
    {
      "cell_type": "code",
      "execution_count": null,
      "metadata": {
        "id": "sXy67NT-PZUK"
      },
      "outputs": [],
      "source": [
        "%%time\n",
        "\n",
        "nia_search_RF = NatureInspiredSearchCV(\n",
        "    forest_reg,\n",
        "    param_grid,\n",
        "    cv=3,\n",
        "    verbose=0,\n",
        "    algorithm='ba', #ba, Bat Algorithm; hba, Hybrid Bat Algorithm; fa, Firefly Algorithm; hsaba, Hybrid Self Adaptive Bat Algorithm; gwo, Grey Wolf Optimizer\n",
        "    population_size=10, #50\n",
        "    max_n_gen=20, #100\n",
        "    max_stagnating_gen=5,\n",
        "    n_jobs=-1,\n",
        "    scoring='neg_mean_squared_error',\n",
        "    random_state=42)\n",
        "\n",
        "nia_search_RF.fit(X_train, y_train)"
      ]
    },
    {
      "cell_type": "markdown",
      "metadata": {
        "id": "UU3n_JNFmBmv"
      },
      "source": [
        "Encuentra el mismo en menos de 2 minutos."
      ]
    },
    {
      "cell_type": "code",
      "execution_count": null,
      "metadata": {
        "id": "ZCJ_fEjAAQLQ"
      },
      "outputs": [],
      "source": [
        "nia_search_RF.best_params_"
      ]
    },
    {
      "cell_type": "code",
      "execution_count": null,
      "metadata": {
        "id": "6fIzJmdj38MW"
      },
      "outputs": [],
      "source": [
        "negative_mse = nia_search_RF.best_score_\n",
        "rmse = np.sqrt(-negative_mse)\n",
        "rmse"
      ]
    },
    {
      "cell_type": "markdown",
      "metadata": {
        "id": "bEKjTG5_0qGv"
      },
      "source": [
        "Probando solo 82 opciones de las 144. En ejemplos documentados donde el número de opciones es mayor, la mejoría en tiempo también es más considerable."
      ]
    },
    {
      "cell_type": "code",
      "execution_count": null,
      "metadata": {
        "id": "I9qwdfN_nKjo"
      },
      "outputs": [],
      "source": [
        "cvres = nia_search_RF.cv_results_\n",
        "print(len(cvres[\"params\"]))\n",
        "i=0\n",
        "for mean_score, params in zip(cvres[\"mean_test_score\"], cvres[\"params\"]):\n",
        "    i+=1\n",
        "    print(i, np.sqrt(-mean_score), params)"
      ]
    },
    {
      "cell_type": "markdown",
      "metadata": {
        "id": "TNgrbbzrnhnT"
      },
      "source": [
        "## Ejercicios Algoritmos basados en la naturaleza"
      ]
    },
    {
      "cell_type": "markdown",
      "metadata": {
        "id": "MiFNHTBunkuN"
      },
      "source": [
        "EJERCICIO: Aplica un algoritmo basado en la naturaleza para tratar de ajustar los hiperparámetros en el caso del SVR. Prueba incialmente con la siguiente cuadrícula de parámetros\n"
      ]
    },
    {
      "cell_type": "code",
      "execution_count": null,
      "metadata": {
        "id": "Wmw0q_0end3H"
      },
      "outputs": [],
      "source": [
        "from sklearn.svm import SVR\n",
        "from scipy.stats import expon, loguniform\n",
        "\n",
        "param_grid_SVR =  {'kernel': ['rbf'], 'C': [1.0, 3.0, 5.0], 'gamma': [0.01, 0.1, 1.0]}\n",
        "\n",
        "svm_reg = SVR()"
      ]
    },
    {
      "cell_type": "code",
      "execution_count": null,
      "metadata": {
        "id": "b0hKyHaioDr3"
      },
      "outputs": [],
      "source": [
        "# Solución\n",
        "# %%time\n"
      ]
    },
    {
      "cell_type": "markdown",
      "metadata": {
        "id": "i_HeEOyW65hT"
      },
      "source": [
        "EJERCICIO: ¿Cuáles son los mejores valores para los hiperparámetros? ¿Cuál es el mejor resultado?¿Cuántas opciones ha probado?"
      ]
    },
    {
      "cell_type": "code",
      "execution_count": null,
      "metadata": {
        "id": "rjUndtSx7dr5"
      },
      "outputs": [],
      "source": [
        "#Solución\n"
      ]
    },
    {
      "cell_type": "markdown",
      "metadata": {
        "id": "A1jNuzTh68pk"
      },
      "source": [
        "EJERCICIO (Extra): Prueba a aumentar el número de hiperparámetros para SVR y el número de valores para estos hiperparámetros. Prueba a usar distintos algoritmos basados en la naturaleza de entre los disponibles en la librería. Documenta brevemente el tiempo que emplean y el resultados obtenido."
      ]
    },
    {
      "cell_type": "markdown",
      "metadata": {
        "id": "KIY8tThnSKv3"
      },
      "source": [
        "# Algoritmos genéticos"
      ]
    },
    {
      "cell_type": "markdown",
      "metadata": {
        "id": "qOiifiMzSKv4"
      },
      "source": [
        "Los algorítmos genéticos están basados en la teoría de la evolución, en el que los individuos con mejor capacidad y adaptabilidad al medio son los que tienen más posibilidades de sobrevivir y pasar sus características a la siguiente generación.\n",
        "\n",
        "La aplicación de algorítmos genéticos al ajuste de hiperparámetros considera cada hiperparámetro como una caráterística o cromosoma, y los valores que pueden tomar dichos cromosomas pueden considerarse como genes. Así, los genes de los cromosomas que producen un buen rendimiento son los candidatos a pasar a la siguiente generación (selección). No obstante, se produce una proporción de intercambio de cromosomas y genes entre los padres en la siguiente generación (cruce) lo que genera nuevas combinaciones de cromosomas. También se puede producir una alteración aleatoria en uno o varios genenes (mutación).  Los cruces y mutaciones permiten que las nuevas generaciones tengan características diferentes de los padres y reduzcan la posibilidad de perder características interesantes.\n",
        "\n",
        "Existen distintintas librerías que implementan algoritmos genéticos. Ejemplos son [sklearn-deap](https://github.com/rsteca/sklearn-deap) o [tpot](https://github.com/EpistasisLab/tpot)."
      ]
    },
    {
      "cell_type": "markdown",
      "metadata": {
        "id": "iihqqOpvWfeH"
      },
      "source": [
        "Vamos a usar la librería [sklearn-deap](https://github.com/rsteca/sklearn-deap)\n"
      ]
    },
    {
      "cell_type": "code",
      "source": [
        "!pip install scikit-learn==1.0.2\n",
        "#Restart kernel after installation\n",
        "import IPython\n",
        "IPython.Application.instance().kernel.do_shutdown(True)"
      ],
      "metadata": {
        "id": "IKz0SXSeFrBD"
      },
      "execution_count": null,
      "outputs": []
    },
    {
      "cell_type": "code",
      "execution_count": null,
      "metadata": {
        "id": "oCPmqmDwE9nR"
      },
      "outputs": [],
      "source": [
        "!pip install sklearn-deap"
      ]
    },
    {
      "cell_type": "markdown",
      "metadata": {
        "id": "250H5M9LG3TY"
      },
      "source": [
        "Cargamos la DB diabetes de nuevo y repartimos los conjuntos train y test como antes.\n",
        "\n",
        "La volvemos a probar sobre el random forest."
      ]
    },
    {
      "cell_type": "code",
      "execution_count": null,
      "metadata": {
        "id": "5kwJ9pzhzoCa"
      },
      "outputs": [],
      "source": [
        "from sklearn import datasets\n",
        "\n",
        "diabetes_BD = datasets.load_diabetes()\n",
        "print(diabetes_BD.DESCR)\n"
      ]
    },
    {
      "cell_type": "code",
      "execution_count": null,
      "metadata": {
        "id": "ot_c8yU8zoCb"
      },
      "outputs": [],
      "source": [
        "diabetes=diabetes_BD[\"data\"] # Datos de las casas a usar\n",
        "feature_names=diabetes_BD[\"feature_names\"] # Nombre de las variables\n",
        "diabetes_target=diabetes_BD[\"target\"] # Dato a inferir. Precio medio de las casas"
      ]
    },
    {
      "cell_type": "code",
      "execution_count": null,
      "metadata": {
        "id": "u4PU6__szoCc"
      },
      "outputs": [],
      "source": [
        "from sklearn.model_selection import train_test_split\n",
        "X_train,  X_test, y_train, y_test = train_test_split(diabetes, diabetes_target, test_size=0.2, random_state=42)"
      ]
    },
    {
      "cell_type": "code",
      "execution_count": null,
      "metadata": {
        "id": "RMVmfWHBzoCh"
      },
      "outputs": [],
      "source": [
        "from sklearn.ensemble import RandomForestRegressor\n",
        "forest_reg = RandomForestRegressor(random_state=42)\n",
        "forest_reg"
      ]
    },
    {
      "cell_type": "code",
      "execution_count": null,
      "metadata": {
        "id": "gA81IzdmXVcx"
      },
      "outputs": [],
      "source": [
        "#Random Forest\n",
        "!pip install evolutionary_search\n"
      ]
    },
    {
      "cell_type": "code",
      "source": [
        "from evolutionary_search import EvolutionaryAlgorithmSearchCV\n",
        "from scipy.stats import randint as sp_randint\n",
        "# Define the hyperparameter configuration space\n",
        "\n",
        "param_grid = {\n",
        "    # 12 (3×4) combinaciones de hiperparámetros\n",
        "    'n_estimators': [30, 100, 300],\n",
        "    'max_features': [3, 6, 8, 'auto']\n",
        "    }"
      ],
      "metadata": {
        "id": "cOGdV6XwomD2"
      },
      "execution_count": null,
      "outputs": []
    },
    {
      "cell_type": "markdown",
      "metadata": {
        "id": "hg6hrD4tG792"
      },
      "source": [
        "En este caso la clase se llama EvolutionaryAlgorithmSearchCV"
      ]
    },
    {
      "cell_type": "code",
      "execution_count": null,
      "metadata": {
        "id": "TR1dIxcZYW8f"
      },
      "outputs": [],
      "source": [
        "%%time\n",
        "\n",
        "ga_RF = EvolutionaryAlgorithmSearchCV(estimator=forest_reg,\n",
        "                                   params=param_grid,\n",
        "                                   scoring=\"neg_root_mean_squared_error\", #Podemos poner RMSE\n",
        "                                   cv=3,\n",
        "                                   verbose=1,\n",
        "                                   population_size=20, #Tamaño de la población\n",
        "                                   gene_mutation_prob=0.10, # Probabilidad de mutación de un gen en un cromosoma\n",
        "                                   gene_crossover_prob=0.5, # La probabilidad de intercambio de genes entre dos cromosomas\n",
        "                                   generations_number=5,  # Número de generaciones\n",
        "                                   n_jobs=1)\n",
        "ga_RF.fit(X_train, y_train)"
      ]
    },
    {
      "cell_type": "markdown",
      "metadata": {
        "id": "izT-hjLyR4OE"
      },
      "source": [
        "Encuentra la mejor opción."
      ]
    },
    {
      "cell_type": "code",
      "execution_count": null,
      "metadata": {
        "id": "KXR3zsWgZuZS"
      },
      "outputs": [],
      "source": [
        "cvres = ga_RF.cv_results_\n",
        "print(len(cvres[\"params\"]))\n",
        "for mean_score, params in zip(cvres[\"mean_test_score\"], cvres[\"params\"]):\n",
        "    print(-mean_score, params)"
      ]
    },
    {
      "cell_type": "markdown",
      "metadata": {
        "id": "1AkYKVbBR0oQ"
      },
      "source": [
        "Si probamos con más parámetros."
      ]
    },
    {
      "cell_type": "code",
      "execution_count": null,
      "metadata": {
        "id": "OY5a_J5YG03p"
      },
      "outputs": [],
      "source": [
        "param_grid ={\n",
        "    'n_estimators': [10, 20, 30, 100],\n",
        "    'max_features': ['sqrt',0.5],\n",
        "    'max_depth': [2, 5, 10, 15],\n",
        "    'min_samples_leaf': [1,2,4],\n",
        "    \"bootstrap\":[True,False]\n",
        "    }"
      ]
    },
    {
      "cell_type": "code",
      "execution_count": null,
      "metadata": {
        "id": "7Vth_PduSHoL"
      },
      "outputs": [],
      "source": [
        "%%time\n",
        "\n",
        "ga_RF = EvolutionaryAlgorithmSearchCV(estimator=forest_reg,\n",
        "                                   params=param_grid,\n",
        "                                   scoring=\"neg_root_mean_squared_error\", #Podemos poner RMSE\n",
        "                                   cv=3,\n",
        "                                   verbose=1,\n",
        "                                   population_size=20, #Tamaño de la población\n",
        "                                   gene_mutation_prob=0.10, # Probabilidad de mutación de un gen en un cromosoma\n",
        "                                   gene_crossover_prob=0.5, #La probabilidad de intercambio de genes entre dos cromosomas\n",
        "                                   generations_number=5,  #Número de generaciones\n",
        "                                   n_jobs=1)\n",
        "ga_RF.fit(X_train, y_train)"
      ]
    },
    {
      "cell_type": "code",
      "execution_count": null,
      "metadata": {
        "id": "7-7GnuOd57g-"
      },
      "outputs": [],
      "source": [
        "cvres = ga_RF.cv_results_\n",
        "print(len(cvres[\"params\"]))\n",
        "for mean_score, params in zip(cvres[\"mean_test_score\"], cvres[\"params\"]):\n",
        "    print(-mean_score, params)"
      ]
    },
    {
      "cell_type": "markdown",
      "metadata": {
        "id": "zpFyQ2saZPI-"
      },
      "source": [
        "## Ejercicios Algoritmos genéticos"
      ]
    },
    {
      "cell_type": "markdown",
      "metadata": {
        "id": "Fcch4cOfS16Z"
      },
      "source": [
        "EJERCICIO: Aplica algoritmos genéticos en la opción de SVM, para el siguiente conjunto de hiperparámetros."
      ]
    },
    {
      "cell_type": "code",
      "execution_count": null,
      "metadata": {
        "id": "XqgxSrrszoCg"
      },
      "outputs": [],
      "source": [
        "from sklearn.svm import SVR"
      ]
    },
    {
      "cell_type": "code",
      "execution_count": null,
      "metadata": {
        "id": "k6C_4wbPZNQO"
      },
      "outputs": [],
      "source": [
        "#SVM\n",
        "%%time\n",
        "import numpy as np\n",
        "\n",
        "from evolutionary_search import EvolutionaryAlgorithmSearchCV\n",
        "rf_params = {\n",
        "    'C': np.random.uniform(0,50,1000),\n",
        "    \"kernel\":['poly','rbf','sigmoid'],\n",
        "    'gamma': np.random.uniform(0,1,100),\n",
        "}\n",
        "clf = SVR()"
      ]
    },
    {
      "cell_type": "code",
      "execution_count": null,
      "metadata": {
        "id": "-O7szDZiTKEg"
      },
      "outputs": [],
      "source": [
        "#Solución"
      ]
    },
    {
      "cell_type": "markdown",
      "metadata": {
        "id": "GmKfmGLoTfR4"
      },
      "source": [
        "EJERCICIO: ¿Cuáles son los mejores valores para los hiperparámetros? ¿Cuál es el mejor resultado?¿Cuántas opciones ha probado?"
      ]
    },
    {
      "cell_type": "code",
      "execution_count": null,
      "metadata": {
        "id": "sDa825MVlOaJ"
      },
      "outputs": [],
      "source": [
        "#Solución\n"
      ]
    },
    {
      "cell_type": "markdown",
      "metadata": {
        "id": "Yqqzkg5dTnYh"
      },
      "source": [
        "EJERCICIO (Extra): Prueba a aumentar el número de hiperparámetros para SVR y el número de valores para estos hiperparámetros. Documenta brevemente el tiempo que emplean y el resultados obtenido."
      ]
    },
    {
      "cell_type": "code",
      "execution_count": null,
      "metadata": {
        "id": "g1YyhTKEjLlA"
      },
      "outputs": [],
      "source": [
        "params = {\"kernel\": [\"rbf\"],\n",
        "             \"C\"     : [1,2,3,4,5,6,7,8],\n",
        "             \"gamma\" : np.logspace(-9, 9, num=25, base=10)}\n",
        "\n",
        "#Solución"
      ]
    }
  ],
  "metadata": {
    "colab": {
      "provenance": [],
      "toc_visible": true,
      "include_colab_link": true
    },
    "gpuClass": "standard",
    "kernelspec": {
      "display_name": "Python 3",
      "language": "python",
      "name": "python3"
    },
    "language_info": {
      "codemirror_mode": {
        "name": "ipython",
        "version": 3
      },
      "file_extension": ".py",
      "mimetype": "text/x-python",
      "name": "python",
      "nbconvert_exporter": "python",
      "pygments_lexer": "ipython3",
      "version": "3.7.6"
    },
    "nav_menu": {
      "height": "279px",
      "width": "309px"
    },
    "toc": {
      "nav_menu": {},
      "number_sections": true,
      "sideBar": true,
      "skip_h1_title": false,
      "toc_cell": false,
      "toc_position": {},
      "toc_section_display": "block",
      "toc_window_display": false
    }
  },
  "nbformat": 4,
  "nbformat_minor": 0
}